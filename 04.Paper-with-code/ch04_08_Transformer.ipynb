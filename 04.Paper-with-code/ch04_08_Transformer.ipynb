{
  "nbformat": 4,
  "nbformat_minor": 0,
  "metadata": {
    "colab": {
      "provenance": [],
      "collapsed_sections": [],
      "machine_shape": "hm",
      "include_colab_link": true
    },
    "kernelspec": {
      "name": "python3",
      "display_name": "Python 3"
    },
    "language_info": {
      "name": "python"
    },
    "accelerator": "GPU",
    "gpuClass": "standard"
  },
  "cells": [
    {
      "cell_type": "markdown",
      "metadata": {
        "id": "view-in-github",
        "colab_type": "text"
      },
      "source": [
        "<a href=\"https://colab.research.google.com/github/TAEWOOYOON/SkillTreePython-DeepLearning/blob/main/04.Paper-with-code/ch04_08_Transformer.ipynb\" target=\"_parent\"><img src=\"https://colab.research.google.com/assets/colab-badge.svg\" alt=\"Open In Colab\"/></a>"
      ]
    },
    {
      "cell_type": "markdown",
      "source": [
        "# ch04.08 Transformer\n",
        "\n",
        "* 날짜: 2022.09.06\n",
        "* 이름: 윤태우\n",
        "\n",
        "## 학습내용\n",
        "  - Transformer을 이해하고 구현한다.\n",
        "  - Vision Transformer을 이해하고 구현한다.\n",
        "\n",
        "## 참고 사이트\n",
        "\n",
        "   - 논문 [Attention is all you need](https://arxiv.org/pdf/1706.03762.pdf)\n"
      ],
      "metadata": {
        "id": "nLnUQASYQKZc"
      }
    },
    {
      "cell_type": "code",
      "source": [
        "import sys, os\n",
        "sys.path.append('/content/drive/MyDrive/scripts/')\n",
        "import tensorflow as tf\n",
        "import numpy as np\n",
        "from tensorflow.keras import layers, models, utils\n",
        "import matplotlib.pyplot as plt"
      ],
      "metadata": {
        "id": "FlxzeNvjD2dP"
      },
      "execution_count": 94,
      "outputs": []
    },
    {
      "cell_type": "markdown",
      "source": [
        "## 모듈 제작\n",
        "---"
      ],
      "metadata": {
        "id": "XcL9NVU8iYZB"
      }
    },
    {
      "cell_type": "markdown",
      "source": [
        "### **| Multi Head Attention**\n",
        "\n",
        "<p align='center'>\n",
        "<img src=https://github.com/yebiny/SkillTreePython-DeepLearning/blob/main/imgs/ch0408-09.PNG?raw=true?raw=true?raw=true\n",
        " width=350>\n",
        "</p>"
      ],
      "metadata": {
        "id": "xolCJasMbBLR"
      }
    },
    {
      "cell_type": "markdown",
      "source": [
        "* set params\n",
        "\n",
        "<p align='center'>\n",
        "<img src=https://github.com/yebiny/SkillTreePython-DeepLearning/blob/main/imgs/ch0408-01.PNG?raw=true?raw=true\n",
        " width=850>\n",
        "</p>\n"
      ],
      "metadata": {
        "id": "Pvbc9o05q-MC"
      }
    },
    {
      "cell_type": "code",
      "source": [
        "h = 8 \n",
        "d_k = 64\n",
        "d_v  = 64\n",
        "d_model = 64 * h #512  = embeding dims\n",
        "\n",
        "# 인풋 x shape \n",
        "# 시계열 : ( time range(window_size), channel )\n",
        "# 텍스트 : ( max lenth , vocab size )\n",
        "# 텍스트 임베딩 : (max lenth, embeding dims)\n",
        "\n",
        "# -> (V, K, Q)\n",
        "# T = S = max lenth\n",
        "# d_model = embedding dims\n",
        "T = 200\n",
        "S = 100\n",
        "\n",
        "Q = (T, d_model)\n",
        "K = (S, d_model)\n",
        "V = (S, d_model)\n",
        "print(Q)\n",
        "print(K)\n",
        "print(V)"
      ],
      "metadata": {
        "id": "GkyUk71jrBti",
        "colab": {
          "base_uri": "https://localhost:8080/"
        },
        "outputId": "09c6f974-e2cf-4407-c5fa-d27571e60ee1"
      },
      "execution_count": null,
      "outputs": [
        {
          "output_type": "stream",
          "name": "stdout",
          "text": [
            "(200, 512)\n",
            "(100, 512)\n",
            "(100, 512)\n"
          ]
        }
      ]
    },
    {
      "cell_type": "code",
      "source": [
        "def matmul(shape1, shape2):\n",
        "  assert shape1[1]==shape2[0]\n",
        "  return (shape1[0], shape2[1])\n",
        "A = (100, 300)\n",
        "B = (300, 200)\n",
        "matmul(A, B)"
      ],
      "metadata": {
        "id": "qjGtR8OpwCUC",
        "colab": {
          "base_uri": "https://localhost:8080/"
        },
        "outputId": "6a661c80-cd92-4fb1-e939-8aaddcad16eb"
      },
      "execution_count": null,
      "outputs": [
        {
          "output_type": "execute_result",
          "data": {
            "text/plain": [
              "(100, 200)"
            ]
          },
          "metadata": {},
          "execution_count": 5
        }
      ]
    },
    {
      "cell_type": "markdown",
      "source": [
        "* Step1. Linear each  $Q, K, V(W^Q, W^K, W^V)$\n",
        "\n",
        "<br>\n",
        "\n",
        "<p align='center'>\n",
        "<img src=https://github.com/yebiny/SkillTreePython-DeepLearning/blob/main/imgs/ch0408-05.PNG?raw=true?raw=true?raw=true\n",
        " width=250>\n",
        "</p>\n",
        "\n",
        "<p align='center'>\n",
        "<img src=https://github.com/yebiny/SkillTreePython-DeepLearning/blob/main/imgs/ch0408-02-1.PNG?raw=true?raw=true\n",
        " width=850>\n",
        "</p>\n",
        "\n"
      ],
      "metadata": {
        "id": "U2pu1Yk8rFay"
      }
    },
    {
      "cell_type": "code",
      "source": [
        "# set weights\n",
        "W_Q = (d_model, d_k)\n",
        "W_K = (d_model, d_k)\n",
        "W_V = (d_model, d_v) \n",
        "\n",
        "# calculate shape\n",
        "VW = matmul(V, W_V) \n",
        "KW = matmul(K, W_K) \n",
        "QW = matmul(Q, W_Q) \n",
        "\n",
        "print(f'Q {Q} x W_Q {W_Q} = {QW}')\n",
        "print(f'K {K} x W_K {W_K} = {KW}')\n",
        "print(f'V {V} x W_V {W_V} = {VW}')"
      ],
      "metadata": {
        "id": "-mgzUhEMwEAa",
        "colab": {
          "base_uri": "https://localhost:8080/"
        },
        "outputId": "d9b27b25-27db-4da1-d959-90f32e58d35f"
      },
      "execution_count": null,
      "outputs": [
        {
          "output_type": "stream",
          "name": "stdout",
          "text": [
            "Q (200, 512) x W_Q (512, 64) = (200, 64)\n",
            "K (100, 512) x W_K (512, 64) = (100, 64)\n",
            "V (100, 512) x W_V (512, 64) = (100, 64)\n"
          ]
        }
      ]
    },
    {
      "cell_type": "markdown",
      "source": [
        "* Step2. Attention\n",
        "\n",
        "\n",
        "<p align='center'>\n",
        "<img src=https://wikidocs.net/images/page/159310/mha_img_original.png?raw=true\n",
        " width=450>\n",
        "</p>\n",
        "\n",
        "\n",
        "<p align='center'>\n",
        "<img src=https://github.com/yebiny/SkillTreePython-DeepLearning/blob/main/imgs/ch0408-03.PNG?raw=true?raw=true\n",
        " width=850>\n",
        "</p>"
      ],
      "metadata": {
        "id": "5Jt-3QHk5ceb"
      }
    },
    {
      "cell_type": "code",
      "source": [
        "KW_T = (KW[1], KW[0])\n",
        "print(f\"QW: {QW}, KW_T: {KW_T}, VW: {VW}\")\n",
        "\n",
        "Att = matmul( matmul(QW, KW_T), VW )\n",
        "print(f'Attention(QW, KW, VW) : {Att}')"
      ],
      "metadata": {
        "id": "q4wy6SCaqcA7",
        "colab": {
          "base_uri": "https://localhost:8080/"
        },
        "outputId": "8d00888a-e0a7-44d8-a0c8-01fcf480fbbc"
      },
      "execution_count": null,
      "outputs": [
        {
          "output_type": "stream",
          "name": "stdout",
          "text": [
            "QW: (200, 64), KW_T: (64, 100), VW: (100, 64)\n",
            "Attention(QW, KW, VW) : (200, 64)\n"
          ]
        }
      ]
    },
    {
      "cell_type": "markdown",
      "source": [
        "* step3. concat & Linear $(W^O)$\n",
        "\n",
        "<p align='center'>\n",
        "<img src=https://github.com/yebiny/SkillTreePython-DeepLearning/blob/main/imgs/ch0408-10.PNG?raw=true?raw=true?raw=true\n",
        " width=300>\n",
        "</p>\n",
        "\n",
        "<p align='center'>\n",
        "<img src=https://github.com/yebiny/SkillTreePython-DeepLearning/blob/main/imgs/ch0408-04.PNG?raw=true?raw=true\n",
        " width=850>\n",
        "</p>"
      ],
      "metadata": {
        "id": "rpK9F02_61db"
      }
    },
    {
      "cell_type": "code",
      "source": [
        "print(f'- Attention(QW, KW, VW) = head {Att}')\n",
        "\n",
        "concat_att = (Att[0], Att[1]*h)\n",
        "print(f'- Concat(head_1, ...head_h) {concat_att}')\n",
        "\n",
        "W_O = ((h*d_v), d_model)\n",
        "final_out = matmul(concat_att, W_O)\n",
        "print(f'- Concat {concat_att} x W_O {W_O} = final output: {final_out}' )"
      ],
      "metadata": {
        "id": "ALvY3gFB5j2z",
        "colab": {
          "base_uri": "https://localhost:8080/"
        },
        "outputId": "63247936-36c1-4694-9395-b658ea741a26"
      },
      "execution_count": null,
      "outputs": [
        {
          "output_type": "stream",
          "name": "stdout",
          "text": [
            "- Attention(QW, KW, VW) = head (200, 64)\n",
            "- Concat(head_1, ...head_h) (200, 512)\n",
            "- Concat (200, 512) x W_O (512, 512) = final output: (200, 512)\n"
          ]
        }
      ]
    },
    {
      "cell_type": "code",
      "source": [
        "print('- 인풋: ',  V, K, Q)\n",
        "print(f'- 최종 아웃풋: {final_out}')"
      ],
      "metadata": {
        "id": "0yQlAMph8BQb",
        "colab": {
          "base_uri": "https://localhost:8080/"
        },
        "outputId": "1a2d0297-9447-425a-b007-b35268c03e2f"
      },
      "execution_count": null,
      "outputs": [
        {
          "output_type": "stream",
          "name": "stdout",
          "text": [
            "- 인풋:  (100, 512) (100, 512) (200, 512)\n",
            "- 최종 아웃풋: (200, 512)\n"
          ]
        }
      ]
    },
    {
      "cell_type": "markdown",
      "source": [
        "#### Tensorflow.keras MultiHeadAttention Layer\n",
        "\n",
        "* docs: https://www.tensorflow.org/api_docs/python/tf/keras/layers/MultiHeadAttention\n",
        "\n",
        "```\n",
        "tf.keras.layers.MultiHeadAttention(\n",
        "    num_heads,\n",
        "    key_dim,\n",
        "    value_dim=None,\n",
        ")\n",
        "\n",
        "# call args\n",
        "\n",
        "query\tQuery Tensor of shape (B, T, dim).\n",
        "value\tValue Tensor of shape (B, S, dim).\n",
        "key\tOptional key Tensor of shape (B, S, dim). If not given, will use \n",
        "```"
      ],
      "metadata": {
        "id": "JlGlKBg57lRr"
      }
    },
    {
      "cell_type": "code",
      "source": [
        "h = 8 \n",
        "d_k = 64\n",
        "d_model = 64 * h #512  = embeding dims\n",
        "\n",
        "T = 200\n",
        "S = 100\n",
        "\n",
        "Q = layers.Input(shape=(T, d_model))\n",
        "V = layers.Input(shape=(S, d_model))\n",
        "K = layers.Input(shape=(S, d_model))\n",
        "\n",
        "y = layers.MultiHeadAttention(num_heads = h,\n",
        "                              key_dim = d_k,\n",
        "                              )(Q, V)\n",
        "                          "
      ],
      "metadata": {
        "id": "cOHRxGBxbE1C"
      },
      "execution_count": null,
      "outputs": []
    },
    {
      "cell_type": "code",
      "source": [
        "print(f'- 인풋: V {V.shape} K {K.shape} Q {Q.shape}')\n",
        "print(f'- 최종 아웃풋: {y.shape}')"
      ],
      "metadata": {
        "id": "QRnjbqfvKmn7",
        "colab": {
          "base_uri": "https://localhost:8080/"
        },
        "outputId": "ee2cb1b9-5712-4a45-b124-1fe2977499b4"
      },
      "execution_count": null,
      "outputs": [
        {
          "output_type": "stream",
          "name": "stdout",
          "text": [
            "- 인풋: V (None, 100, 512) K (None, 100, 512) Q (None, 200, 512)\n",
            "- 최종 아웃풋: (None, 200, 512)\n"
          ]
        }
      ]
    },
    {
      "cell_type": "markdown",
      "source": [
        "### **| Encoder Block**\n",
        "\n",
        "<p align='center'>\n",
        "<img src=https://github.com/yebiny/SkillTreePython-DeepLearning/blob/main/imgs/ch0408-11.PNG?raw=true?raw=true\n",
        " width=250>\n",
        "</p>"
      ],
      "metadata": {
        "id": "etBfO5Y9cHVf"
      }
    },
    {
      "cell_type": "code",
      "source": [
        "def encoder_block(input_shape, h, d_k, d_ff, dropout=0.25, name=None):\n",
        "    inputs = layers.Input(shape=input_shape)\n",
        "    # Attention and Normalization\n",
        "    # multi-head\n",
        "    y = layers.MultiHeadAttention(num_heads= h,\n",
        "                                  key_dim= d_k, \n",
        "                                  dropout= dropout)(inputs, inputs)\n",
        "    y = layers.Dropout(dropout)(y)                        \n",
        "    # Add & Norm\n",
        "    y = layers.LayerNormalization(epsilon=1e-6)(y)\n",
        "    y_1 = layers.Add()([y, inputs])\n",
        "\n",
        "    # Feed Forward Part\n",
        "    # FF\n",
        "    y = layers.Conv1D(filters=d_ff, kernel_size=1, activation='relu')(y_1)\n",
        "    y = layers.Dropout(dropout)(y)\n",
        "    y = layers.Conv1D(filters=inputs.shape[-1], kernel_size=1, activation='relu')(y)\n",
        "    # Add & Norm\n",
        "    y = layers.LayerNormalization(epsilon=1e-6)(y)\n",
        "    outputs = layers.Add()([y, y_1])\n",
        "\n",
        "    return models.Model(inputs, outputs, name=name)"
      ],
      "metadata": {
        "id": "e-hVfBKwMG9X"
      },
      "execution_count": null,
      "outputs": []
    },
    {
      "cell_type": "code",
      "source": [
        "input_shape = (200, 128)\n",
        "h = 8\n",
        "d_k = 16\n",
        "d_ff = 32\n",
        "encoder = encoder_block(input_shape,\n",
        "                        h, \n",
        "                        d_k, \n",
        "                        d_ff)\n",
        "utils.plot_model(encoder, show_shapes=True)"
      ],
      "metadata": {
        "id": "ZRRQwBR6ayxH",
        "colab": {
          "base_uri": "https://localhost:8080/",
          "height": 1000
        },
        "outputId": "66bacc58-bfb5-4b8c-8971-58d2404b08a1"
      },
      "execution_count": null,
      "outputs": [
        {
          "output_type": "execute_result",
          "data": {
            "image/png": "[encoded data removed]",
            "text/plain": [
              "<IPython.core.display.Image object>"
            ]
          },
          "metadata": {},
          "execution_count": 13
        }
      ]
    },
    {
      "cell_type": "markdown",
      "source": [
        "## 실습1. 시계열 데이터 분류\n",
        "---"
      ],
      "metadata": {
        "id": "adsKf_GqrbFw"
      }
    },
    {
      "cell_type": "markdown",
      "source": [
        "### **| 시계열 데이터셋**"
      ],
      "metadata": {
        "id": "tS8Z6BJxib6n"
      }
    },
    {
      "cell_type": "code",
      "source": [
        "def readucr(filename):\n",
        "    data = np.loadtxt(filename, delimiter=\"\\t\")\n",
        "    y = data[:, 0]\n",
        "    x = data[:, 1:]\n",
        "    return x, y.astype(int)\n",
        "\n",
        "\n",
        "root_url = \"https://raw.githubusercontent.com/hfawaz/cd-diagram/master/FordA/\"\n",
        "\n",
        "x_train, y_train = readucr(root_url + \"FordA_TRAIN.tsv\")\n",
        "x_test, y_test = readucr(root_url + \"FordA_TEST.tsv\")\n",
        "\n",
        "x_train = x_train.reshape((x_train.shape[0], x_train.shape[1], 1))\n",
        "x_test = x_test.reshape((x_test.shape[0], x_test.shape[1], 1))\n",
        "\n",
        "n_classes = len(np.unique(y_train))\n",
        "\n",
        "idx = np.random.permutation(len(x_train))\n",
        "x_train = x_train[idx]\n",
        "y_train = y_train[idx]\n",
        "\n",
        "y_train[y_train == -1] = 0\n",
        "y_test[y_test == -1] = 0"
      ],
      "metadata": {
        "id": "1ngVAq1FEy1v"
      },
      "execution_count": null,
      "outputs": []
    },
    {
      "cell_type": "code",
      "source": [
        "print(x_train.shape, y_train.shape)\n",
        "\n",
        "idx = 10\n",
        "plt.subplot(121)\n",
        "plt.title(y_train[idx])\n",
        "plt.plot(x_train[idx])\n",
        "plt.subplot(122)\n",
        "plt.hist(y_train)\n",
        "plt.show()"
      ],
      "metadata": {
        "id": "JrwNOqUXE3Lm",
        "colab": {
          "base_uri": "https://localhost:8080/",
          "height": 299
        },
        "outputId": "3b53b351-a07b-412d-bef5-6a883179d22a"
      },
      "execution_count": null,
      "outputs": [
        {
          "output_type": "stream",
          "name": "stdout",
          "text": [
            "(3601, 500, 1) (3601,)\n"
          ]
        },
        {
          "output_type": "display_data",
          "data": {
            "text/plain": [
              "<Figure size 432x288 with 2 Axes>"
            ],
            "image/png": "[encoded data removed]"
          },
          "metadata": {
            "needs_background": "light"
          }
        }
      ]
    },
    {
      "cell_type": "markdown",
      "source": [
        "\n",
        "### **| 모델 구현**"
      ],
      "metadata": {
        "id": "I-zZMs1xd2uI"
      }
    },
    {
      "cell_type": "code",
      "source": [
        "### Set params\n",
        "input_shape = (500, 1) # ( T/S , d_model)\n",
        "n_classes = 2\n",
        "\n",
        "N = 4\n",
        "h = 4\n",
        "d_k = 128\n",
        "d_ff = 4\n",
        "\n",
        "### 모델 구현\n",
        "\n",
        "# Set Input\n",
        "inputs = layers.Input(shape=input_shape)\n",
        "\n",
        "# Encoder Block\n",
        "y = inputs\n",
        "for i in range(N):\n",
        "  encoder = encoder_block(input_shape, \n",
        "                          h, \n",
        "                          d_k, \n",
        "                          d_ff, \n",
        "                          name=f'encoder_{i}')\n",
        "  y = encoder(y)\n",
        "\n",
        "# Classifier\n",
        "y = layers.GlobalAveragePooling1D(data_format='channels_first')(y)\n",
        "y = layers.Dense(128, activation='relu')(y)\n",
        "y = layers.Dropout(0.5)(y)\n",
        "y = layers.Dense(n_classes, activation='softmax')(y)\n",
        "\n",
        "# Final model\n",
        "model = models.Model(inputs, y, name='TransformerEncoderCfy')\n",
        "model.summary()"
      ],
      "metadata": {
        "id": "1D4ITo01Z0HX",
        "colab": {
          "base_uri": "https://localhost:8080/"
        },
        "outputId": "c4451781-90e3-4a02-ba74-c24580b22ae1"
      },
      "execution_count": null,
      "outputs": [
        {
          "output_type": "stream",
          "name": "stdout",
          "text": [
            "Model: \"TransformerEncoderCfy\"\n",
            "_________________________________________________________________\n",
            " Layer (type)                Output Shape              Param #   \n",
            "=================================================================\n",
            " input_5 (InputLayer)        [(None, 500, 1)]          0         \n",
            "                                                                 \n",
            " encoder_0 (Functional)      (None, 500, 1)            3602      \n",
            "                                                                 \n",
            " encoder_1 (Functional)      (None, 500, 1)            3602      \n",
            "                                                                 \n",
            " encoder_2 (Functional)      (None, 500, 1)            3602      \n",
            "                                                                 \n",
            " encoder_3 (Functional)      (None, 500, 1)            3602      \n",
            "                                                                 \n",
            " global_average_pooling1d (G  (None, 500)              0         \n",
            " lobalAveragePooling1D)                                          \n",
            "                                                                 \n",
            " dense (Dense)               (None, 128)               64128     \n",
            "                                                                 \n",
            " dropout_10 (Dropout)        (None, 128)               0         \n",
            "                                                                 \n",
            " dense_1 (Dense)             (None, 2)                 258       \n",
            "                                                                 \n",
            "=================================================================\n",
            "Total params: 78,794\n",
            "Trainable params: 78,794\n",
            "Non-trainable params: 0\n",
            "_________________________________________________________________\n"
          ]
        }
      ]
    },
    {
      "cell_type": "code",
      "source": [
        "model.compile(loss = 'sparse_categorical_crossentropy',\n",
        "              optimizer = tf.keras.optimizers.Adam(0.0001),\n",
        "              metrics='acc')\n",
        "es = tf.keras.callbacks.EarlyStopping(patience=8, restore_best_weights=True)\n",
        "model.fit(x_train, y_train,\n",
        "          validation_data=[x_test, y_test],\n",
        "          epochs = 50,\n",
        "          batch_size=64,\n",
        "          callbacks=[es])"
      ],
      "metadata": {
        "id": "hOpei2oVnJmo"
      },
      "execution_count": null,
      "outputs": []
    },
    {
      "cell_type": "code",
      "source": [],
      "metadata": {
        "id": "cwOBhu0XsBbp"
      },
      "execution_count": null,
      "outputs": []
    },
    {
      "cell_type": "markdown",
      "source": [
        "## 실습2. IMDB 텍스트 분류\n",
        "---"
      ],
      "metadata": {
        "id": "6A9BPqyPrVo4"
      }
    },
    {
      "cell_type": "markdown",
      "source": [
        "### **| IMDB 데이터셋**\n"
      ],
      "metadata": {
        "id": "xnVcneSwigM3"
      }
    },
    {
      "cell_type": "code",
      "source": [
        "vocab_size = 20000  \n",
        "maxlen = 200  \n",
        "\n",
        "(x_train, y_train), (x_val, y_val) = tf.keras.datasets.imdb.load_data(num_words=vocab_size)\n",
        "print(len(x_train), \"Training sequences\")\n",
        "print(len(x_val), \"Validation sequences\")\n",
        "x_train = tf.keras.preprocessing.sequence.pad_sequences(x_train, maxlen=maxlen)\n",
        "x_val = tf.keras.preprocessing.sequence.pad_sequences(x_val, maxlen=maxlen)\n",
        "print(x_train.shape, x_val.shape)"
      ],
      "metadata": {
        "id": "zanVdSOvfEMx",
        "outputId": "efac4e61-cde2-4958-88d2-751ab9e7dcf1",
        "colab": {
          "base_uri": "https://localhost:8080/"
        }
      },
      "execution_count": null,
      "outputs": [
        {
          "output_type": "stream",
          "name": "stdout",
          "text": [
            "Downloading data from https://storage.googleapis.com/tensorflow/tf-keras-datasets/imdb.npz\n",
            "17465344/17464789 [==============================] - 1s 0us/step\n",
            "17473536/17464789 [==============================] - 1s 0us/step\n",
            "25000 Training sequences\n",
            "25000 Validation sequences\n",
            "(25000, 200) (25000, 200)\n"
          ]
        }
      ]
    },
    {
      "cell_type": "code",
      "source": [
        "# 데이터가 정하는 값\n",
        "maxlen = 200\n",
        "vocab_size = 20000\n",
        "# 하이어파라미터\n",
        "embed_dim = 128\n",
        "\n",
        "x = layers.Input(shape = (maxlen,))\n",
        "x_em = layers.Embedding(input_dim = vocab_size, \n",
        "                        output_dim = embed_dim )(x)\n",
        "print(x.shape, x_em.shape)"
      ],
      "metadata": {
        "id": "Br40TmCCTWeY",
        "outputId": "69c76ded-6ccf-4137-f14c-bac523b9b41f",
        "colab": {
          "base_uri": "https://localhost:8080/"
        }
      },
      "execution_count": null,
      "outputs": [
        {
          "output_type": "stream",
          "name": "stdout",
          "text": [
            "(None, 200) (None, 200, 128)\n"
          ]
        }
      ]
    },
    {
      "cell_type": "code",
      "source": [
        "'''\n",
        "0: 오늘 , -> 0.2, 0.4, -2\n",
        "1: 날씨가\n",
        "2: 좋다.\n",
        "'''"
      ],
      "metadata": {
        "id": "HCZvJ0D5WUtd",
        "colab": {
          "base_uri": "https://localhost:8080/",
          "height": 35
        },
        "outputId": "e57d33ea-8ae1-407b-a3c4-63acd2478309"
      },
      "execution_count": null,
      "outputs": [
        {
          "output_type": "execute_result",
          "data": {
            "text/plain": [
              "'\\n0: 오늘 , -> 0.2, 0.4, -2\\n1: 날씨가\\n2: 좋다.\\n'"
            ],
            "application/vnd.google.colaboratory.intrinsic+json": {
              "type": "string"
            }
          },
          "metadata": {},
          "execution_count": 25
        }
      ]
    },
    {
      "cell_type": "code",
      "source": [
        "class TokenAndPositionEmbedding(layers.Layer): # 상속 : tf.keras의 Layer 를 상속받는다.\n",
        "    def __init__(self, maxlen, vocab_size, embed_dim):\n",
        "        super(TokenAndPositionEmbedding, self).__init__() # 부모 클래스의 초기값들을 가져오기\n",
        "       \n",
        "        self.token_emb = layers.Embedding(input_dim=vocab_size, output_dim=embed_dim) # 기본 임베딩\n",
        "        self.pos_emb = layers.Embedding(input_dim=maxlen, output_dim=embed_dim) # Positional encoding\n",
        "        self.maxlen = maxlen\n",
        "    \n",
        "    def call(self, x):\n",
        "        maxlen = tf.shape(x)[-1]\n",
        "        positions = tf.range(start=0, limit=maxlen, delta=1)\n",
        "        positions = self.pos_emb(positions)\n",
        "        x = self.token_emb(x)\n",
        "        return x + positions"
      ],
      "metadata": {
        "id": "S2LReh_CfiG4"
      },
      "execution_count": null,
      "outputs": []
    },
    {
      "cell_type": "code",
      "source": [
        "x_embed = TokenAndPositionEmbedding(maxlen, vocab_size, embed_dim)(x)\n",
        "print(x_embed)"
      ],
      "metadata": {
        "id": "XIgDam8NUj1d",
        "outputId": "9cf91ce6-86eb-4084-e260-11c7423736c6",
        "colab": {
          "base_uri": "https://localhost:8080/"
        }
      },
      "execution_count": null,
      "outputs": [
        {
          "output_type": "stream",
          "name": "stdout",
          "text": [
            "KerasTensor(type_spec=TensorSpec(shape=(None, 200, 128), dtype=tf.float32, name=None), name='token_and_position_embedding/add:0', description=\"created by layer 'token_and_position_embedding'\")\n"
          ]
        }
      ]
    },
    {
      "cell_type": "markdown",
      "source": [
        "\n",
        "### **| 모델 구현**"
      ],
      "metadata": {
        "id": "KZzxMCQDK5c7"
      }
    },
    {
      "cell_type": "code",
      "source": [
        "encoder = encoder_block((100,100), \n",
        "                        h, \n",
        "                        d_k, \n",
        "                        d_ff, \n",
        "                        name=f'encoder_6')\n",
        "encoder.summary()"
      ],
      "metadata": {
        "id": "bzXCCipVbuL0",
        "outputId": "528aceee-c643-4d99-e148-ff34b78fb728",
        "colab": {
          "base_uri": "https://localhost:8080/"
        }
      },
      "execution_count": null,
      "outputs": [
        {
          "output_type": "stream",
          "name": "stdout",
          "text": [
            "Model: \"encoder_6\"\n",
            "__________________________________________________________________________________________________\n",
            " Layer (type)                   Output Shape         Param #     Connected to                     \n",
            "==================================================================================================\n",
            " input_11 (InputLayer)          [(None, 100, 100)]   0           []                               \n",
            "                                                                                                  \n",
            " multi_head_attention_6 (MultiH  (None, 100, 100)    206436      ['input_11[0][0]',               \n",
            " eadAttention)                                                    'input_11[0][0]']               \n",
            "                                                                                                  \n",
            " dropout_11 (Dropout)           (None, 100, 100)     0           ['multi_head_attention_6[0][0]'] \n",
            "                                                                                                  \n",
            " layer_normalization_10 (LayerN  (None, 100, 100)    200         ['dropout_11[0][0]']             \n",
            " ormalization)                                                                                    \n",
            "                                                                                                  \n",
            " add_10 (Add)                   (None, 100, 100)     0           ['layer_normalization_10[0][0]', \n",
            "                                                                  'input_11[0][0]']               \n",
            "                                                                                                  \n",
            " conv1d_10 (Conv1D)             (None, 100, 4)       404         ['add_10[0][0]']                 \n",
            "                                                                                                  \n",
            " dropout_12 (Dropout)           (None, 100, 4)       0           ['conv1d_10[0][0]']              \n",
            "                                                                                                  \n",
            " conv1d_11 (Conv1D)             (None, 100, 100)     500         ['dropout_12[0][0]']             \n",
            "                                                                                                  \n",
            " layer_normalization_11 (LayerN  (None, 100, 100)    200         ['conv1d_11[0][0]']              \n",
            " ormalization)                                                                                    \n",
            "                                                                                                  \n",
            " add_11 (Add)                   (None, 100, 100)     0           ['layer_normalization_11[0][0]', \n",
            "                                                                  'add_10[0][0]']                 \n",
            "                                                                                                  \n",
            "==================================================================================================\n",
            "Total params: 207,740\n",
            "Trainable params: 207,740\n",
            "Non-trainable params: 0\n",
            "__________________________________________________________________________________________________\n"
          ]
        }
      ]
    },
    {
      "cell_type": "code",
      "source": [
        "### Set params\n",
        "maxlen = 200\n",
        "vocab_size = 20000\n",
        "embed_dim = 32\n",
        "n_classes = 2\n",
        "\n",
        "N = 4\n",
        "h = 4\n",
        "d_k = 32\n",
        "d_ff = 32\n",
        "\n",
        "### 모델 구현\n",
        "\n",
        "# Set Input\n",
        "inputs = layers.Input(shape=(maxlen))\n",
        "\n",
        "# Embedding : (maxlen) -> (maxlen, embed_dim)\n",
        "y = TokenAndPositionEmbedding(maxlen, vocab_size, embed_dim)(inputs)\n",
        "\n",
        "# Encoder Block\n",
        "for i in range(N):\n",
        "  encoder = encoder_block(y.shape[1:], \n",
        "                          h, \n",
        "                          d_k, \n",
        "                          d_ff, \n",
        "                          name=f'encoder_{i}')\n",
        "  y = encoder(y)\n",
        "\n",
        "# Classifier\n",
        "y = layers.GlobalAveragePooling1D(data_format='channels_first')(y)\n",
        "y = layers.Dense(128, activation='relu')(y)\n",
        "y = layers.Dropout(0.5)(y)\n",
        "y = layers.Dense(n_classes, activation='softmax')(y)\n",
        "\n",
        "# Final model\n",
        "model = models.Model(inputs, y, name='TransformerEncoderCfy')\n",
        "model.summary()"
      ],
      "metadata": {
        "id": "RY3759qfK5c7",
        "outputId": "082da92b-9786-490b-fdde-3929be2f43d0",
        "colab": {
          "base_uri": "https://localhost:8080/"
        }
      },
      "execution_count": null,
      "outputs": [
        {
          "output_type": "stream",
          "name": "stdout",
          "text": [
            "Model: \"TransformerEncoderCfy\"\n",
            "_________________________________________________________________\n",
            " Layer (type)                Output Shape              Param #   \n",
            "=================================================================\n",
            " input_12 (InputLayer)       [(None, 200)]             0         \n",
            "                                                                 \n",
            " token_and_position_embeddin  (None, 200, 32)          646400    \n",
            " g_1 (TokenAndPositionEmbedd                                     \n",
            " ing)                                                            \n",
            "                                                                 \n",
            " encoder_0 (Functional)      (None, 200, 32)           19040     \n",
            "                                                                 \n",
            " encoder_1 (Functional)      (None, 200, 32)           19040     \n",
            "                                                                 \n",
            " encoder_2 (Functional)      (None, 200, 32)           19040     \n",
            "                                                                 \n",
            " encoder_3 (Functional)      (None, 200, 32)           19040     \n",
            "                                                                 \n",
            " global_average_pooling1d_1   (None, 200)              0         \n",
            " (GlobalAveragePooling1D)                                        \n",
            "                                                                 \n",
            " dense_2 (Dense)             (None, 128)               25728     \n",
            "                                                                 \n",
            " dropout_21 (Dropout)        (None, 128)               0         \n",
            "                                                                 \n",
            " dense_3 (Dense)             (None, 2)                 258       \n",
            "                                                                 \n",
            "=================================================================\n",
            "Total params: 748,546\n",
            "Trainable params: 748,546\n",
            "Non-trainable params: 0\n",
            "_________________________________________________________________\n"
          ]
        }
      ]
    },
    {
      "cell_type": "markdown",
      "source": [
        "### **| 학습**"
      ],
      "metadata": {
        "id": "3bS4AnGMd65o"
      }
    },
    {
      "cell_type": "code",
      "source": [
        "model.compile(loss = 'sparse_categorical_crossentropy',\n",
        "              optimizer = tf.keras.optimizers.Adam(0.0001),\n",
        "              metrics='acc')\n",
        "es = tf.keras.callbacks.EarlyStopping(patience=8, restore_best_weights=True)\n",
        "model.fit(x_train, y_train,\n",
        "          validation_data=[x_val, y_val],\n",
        "          epochs = 20,\n",
        "          batch_size=32,\n",
        "          callbacks=[es])"
      ],
      "metadata": {
        "id": "mOCrC4IdW-if",
        "outputId": "750c5925-c41a-42e4-9b70-61ebe93a378d",
        "colab": {
          "base_uri": "https://localhost:8080/"
        }
      },
      "execution_count": null,
      "outputs": [
        {
          "output_type": "stream",
          "name": "stdout",
          "text": [
            "Epoch 1/20\n",
            "782/782 [==============================] - 33s 37ms/step - loss: 0.6933 - acc: 0.5012 - val_loss: 0.6926 - val_acc: 0.5000\n",
            "Epoch 2/20\n",
            "782/782 [==============================] - 28s 35ms/step - loss: 0.4306 - acc: 0.7928 - val_loss: 0.3096 - val_acc: 0.8680\n",
            "Epoch 3/20\n",
            "782/782 [==============================] - 28s 36ms/step - loss: 0.2336 - acc: 0.9082 - val_loss: 0.3175 - val_acc: 0.8724\n",
            "Epoch 4/20\n",
            "782/782 [==============================] - 28s 35ms/step - loss: 0.1730 - acc: 0.9362 - val_loss: 0.3280 - val_acc: 0.8690\n",
            "Epoch 5/20\n",
            "782/782 [==============================] - 28s 35ms/step - loss: 0.1285 - acc: 0.9564 - val_loss: 0.4382 - val_acc: 0.8654\n",
            "Epoch 6/20\n",
            "782/782 [==============================] - 28s 35ms/step - loss: 0.0984 - acc: 0.9684 - val_loss: 0.5393 - val_acc: 0.8604\n",
            "Epoch 7/20\n",
            "782/782 [==============================] - 28s 36ms/step - loss: 0.0771 - acc: 0.9757 - val_loss: 0.7031 - val_acc: 0.8442\n",
            "Epoch 8/20\n",
            "782/782 [==============================] - 27s 35ms/step - loss: 0.0655 - acc: 0.9804 - val_loss: 0.7064 - val_acc: 0.8528\n",
            "Epoch 9/20\n",
            "782/782 [==============================] - 28s 35ms/step - loss: 0.0591 - acc: 0.9824 - val_loss: 0.7068 - val_acc: 0.8549\n",
            "Epoch 10/20\n",
            "782/782 [==============================] - 28s 35ms/step - loss: 0.0535 - acc: 0.9850 - val_loss: 0.7589 - val_acc: 0.8540\n"
          ]
        },
        {
          "output_type": "execute_result",
          "data": {
            "text/plain": [
              "<keras.callbacks.History at 0x7fc3c85c7d90>"
            ]
          },
          "metadata": {},
          "execution_count": 31
        }
      ]
    },
    {
      "cell_type": "code",
      "source": [],
      "metadata": {
        "id": "_zuy7UIjmQOH"
      },
      "execution_count": null,
      "outputs": []
    },
    {
      "cell_type": "code",
      "source": [],
      "metadata": {
        "id": "uiqzzBnNXEg2"
      },
      "execution_count": null,
      "outputs": []
    },
    {
      "cell_type": "markdown",
      "source": [
        "## 실습3. Vision Transformer\n",
        "---"
      ],
      "metadata": {
        "id": "Ga27rKRsuKgg"
      }
    },
    {
      "cell_type": "code",
      "source": [
        "def display_img_patches(img, patches=None):\n",
        "\n",
        "  # origin image\n",
        "  plt.imshow(img)\n",
        "  plt.axis('off')\n",
        "  plt.show()\n",
        " \n",
        "  if patches is not None:\n",
        "    n = int(np.sqrt(patches.shape[0]))\n",
        "    patch_size = int(img.shape[0]/n)\n",
        "\n",
        "    # patch imgs\n",
        "    plt.figure(figsize=(4, 4))\n",
        "    for i, patch in enumerate(patches):\n",
        "      ax = plt.subplot(n, n, i + 1)\n",
        "      patch_img = tf.reshape(patch, (patch_size, patch_size, 3))\n",
        "      plt.imshow(patch_img.numpy().astype(\"uint8\"))\n",
        "      plt.axis(\"off\")\n",
        "    plt.show()\n",
        "\n",
        "    # patches\n",
        "    plt.figure(figsize=(10, 2))\n",
        "    for i, patch in enumerate(patches):\n",
        "      ax = plt.subplot(1, n*n, i + 1)\n",
        "      patch = tf.expand_dims(patch, 1)\n",
        "      plt.imshow(patch.numpy().astype(\"uint8\"))\n",
        "      plt.axis(\"off\")\n",
        "    plt.show()"
      ],
      "metadata": {
        "id": "jyvroA8DLeIZ"
      },
      "execution_count": 95,
      "outputs": []
    },
    {
      "cell_type": "code",
      "source": [
        "(x_train, y_train), (x_test, y_test) = tf.keras.datasets.cifar100.load_data() # 100개의 클래스\n",
        "x_train.shape, y_train.shape"
      ],
      "metadata": {
        "id": "-BTU3lHQuMO1",
        "colab": {
          "base_uri": "https://localhost:8080/"
        },
        "outputId": "448bef75-e971-47b0-f21e-b08ee902ea4c"
      },
      "execution_count": 96,
      "outputs": [
        {
          "output_type": "execute_result",
          "data": {
            "text/plain": [
              "((50000, 32, 32, 3), (50000, 1))"
            ]
          },
          "metadata": {},
          "execution_count": 96
        }
      ]
    },
    {
      "cell_type": "code",
      "source": [
        "idx = 12\n",
        "display_img_patches(x_train[idx])"
      ],
      "metadata": {
        "id": "BW_l5s3_EnjR",
        "colab": {
          "base_uri": "https://localhost:8080/",
          "height": 248
        },
        "outputId": "807f4709-0d60-4c5b-dedd-7b801bc96f85"
      },
      "execution_count": 97,
      "outputs": [
        {
          "output_type": "display_data",
          "data": {
            "text/plain": [
              "<Figure size 432x288 with 1 Axes>"
            ],
            "image/png": "[encoded data removed]"
          },
          "metadata": {
            "needs_background": "light"
          }
        }
      ]
    },
    {
      "cell_type": "markdown",
      "source": [
        "### **| 이미지 증강**"
      ],
      "metadata": {
        "id": "ayGzpMWKLMgL"
      }
    },
    {
      "cell_type": "code",
      "source": [
        "def aug_model(resize=72):\n",
        "                # 전처리\n",
        "  aug_layers = [layers.Normalization(),  # 정규화 1/255\n",
        "                layers.Resizing(resize, resize),  # 리사이즈 \n",
        "                # 증강\n",
        "                layers.RandomFlip(mode='horizontal'), # 랜덤플립\n",
        "                layers.RandomRotation(factor=0.02), # 랜덤 회전\n",
        "                layers.RandomZoom(height_factor=0.2, width_factor=0.2)] # 랜덤 확대\n",
        "\n",
        "  model = tf.keras.Sequential(aug_layers, name='ImgAug')\n",
        "  return model\n",
        "\n",
        "# train / valid / test : train set에만 자동적으로 증강 레이어가 적용\n",
        "\n",
        "x_img = x_train[idx]\n",
        "x_aug = aug_model()(x_img)\n",
        "\n",
        "display_img_patches(x_aug.numpy().astype('uint8'))\n",
        "x_img.shape, x_aug.shape"
      ],
      "metadata": {
        "id": "UMdNJVrZPxyh",
        "colab": {
          "base_uri": "https://localhost:8080/",
          "height": 266
        },
        "outputId": "75011340-5443-44b5-d12e-00ecff34aee9"
      },
      "execution_count": 104,
      "outputs": [
        {
          "output_type": "display_data",
          "data": {
            "text/plain": [
              "<Figure size 432x288 with 1 Axes>"
            ],
            "image/png": "[encoded data removed]"
          },
          "metadata": {
            "needs_background": "light"
          }
        },
        {
          "output_type": "execute_result",
          "data": {
            "text/plain": [
              "((32, 32, 3), TensorShape([72, 72, 3]))"
            ]
          },
          "metadata": {},
          "execution_count": 104
        }
      ]
    },
    {
      "cell_type": "markdown",
      "source": [
        "### **| Patch 생성**"
      ],
      "metadata": {
        "id": "o7bXeAwN_mwZ"
      }
    },
    {
      "cell_type": "code",
      "source": [
        "class MakePatchLayer(layers.Layer):\n",
        "  def __init__(self, patch_size):\n",
        "    super(MakePatchLayer, self).__init__()\n",
        "    self.patch_size = patch_size\n",
        "\n",
        "  def call(self, imgs): # (batch, h, w, ch)\n",
        "    \n",
        "    x_patches = tf.image.extract_patches( images = imgs,\n",
        "                                          sizes = [1, self.patch_size, self.patch_size, 1],  \n",
        "                                          strides = [1, self.patch_size, self.patch_size, 1],\n",
        "                                          rates = [1, 1, 1, 1], \n",
        "                                          padding = 'VALID')\n",
        "    # patch output's shape = (batch_size, h patch 개수, w patch 개수, patch_dimension( patchsize^2*3 ) ) -> need reshape\n",
        "    batch_size = tf.shape(x_patches)[0]\n",
        "    d_patches = tf.shape(x_patches)[-1]\n",
        "\n",
        "    x_patches = tf.reshape(x_patches, [batch_size, -1 , d_patches] ) # reshape(x,-1,x) 이런식으로 하면 알아서 가운데 사이즈들의 곱으로 반환\n",
        "    # (batch_size, patch 개수, patch 차원)\n",
        "    return x_patches"
      ],
      "metadata": {
        "id": "cy0LsO8t7RJL"
      },
      "execution_count": 100,
      "outputs": []
    },
    {
      "cell_type": "code",
      "source": [
        "x_aug = tf.reshape(x_aug, [1,72,72,3])\n",
        "x_patches = MakePatchLayer(12)(x_aug)\n",
        "print(x_aug.shape, x_patches.shape)\n",
        "display_img_patches(x_aug[0].numpy().astype('uint8'), x_patches[0])"
      ],
      "metadata": {
        "colab": {
          "base_uri": "https://localhost:8080/",
          "height": 620
        },
        "id": "tixr26gHi8Lj",
        "outputId": "ec14e216-edd8-45e6-aa29-fb47bc2fe842"
      },
      "execution_count": 105,
      "outputs": [
        {
          "output_type": "stream",
          "name": "stdout",
          "text": [
            "(1, 72, 72, 3) (1, 36, 432)\n"
          ]
        },
        {
          "output_type": "display_data",
          "data": {
            "text/plain": [
              "<Figure size 432x288 with 1 Axes>"
            ],
            "image/png": "[encoded data removed]"
          },
          "metadata": {
            "needs_background": "light"
          }
        },
        {
          "output_type": "display_data",
          "data": {
            "text/plain": [
              "<Figure size 288x288 with 36 Axes>"
            ],
            "image/png": "[encoded data removed]"
          },
          "metadata": {
            "needs_background": "light"
          }
        },
        {
          "output_type": "display_data",
          "data": {
            "text/plain": [
              "<Figure size 720x144 with 36 Axes>"
            ],
            "image/png": "[encoded data removed]"
          },
          "metadata": {
            "needs_background": "light"
          }
        }
      ]
    },
    {
      "cell_type": "markdown",
      "source": [
        "### **| Patch Encoder**"
      ],
      "metadata": {
        "id": "NDDhrJtb_rKp"
      }
    },
    {
      "cell_type": "code",
      "source": [
        "\n",
        "class PatchPositionEncoder(layers.Layer):\n",
        "  def __init__(self, project_dim, num_patches):\n",
        "    super(PatchPositionEncoder, self).__init__()\n",
        "    self.project_dim = project_dim\n",
        "    self.num_patches = num_patches\n",
        "    self.dense = layers.Dense(project_dim)\n",
        "    self.embedding = layers.Embedding(num_patches, project_dim)\n",
        "\n",
        "  def call(self, patches) : # (batch, h, w, ch)project_dim = 128\n",
        "    # patch linear projection\n",
        "    projected = self.dense(patches)\n",
        "\n",
        "    # position embedding\n",
        "    positions = tf.range(0,self.num_patches, 1)\n",
        "    embed = self.embedding(positions)\n",
        "\n",
        "    # position+patch encoding\n",
        "    encoded = projected + embed\n",
        "    return encoded\n",
        "\n",
        "encoded = PatchPositionEncoder(128,36)(x_patches)\n",
        "print(x_patches.shape, encoded.shape)"
      ],
      "metadata": {
        "id": "4TF3PvGB_kuJ",
        "colab": {
          "base_uri": "https://localhost:8080/"
        },
        "outputId": "45ff6785-d25a-4041-ded4-cb4840599725"
      },
      "execution_count": 106,
      "outputs": [
        {
          "output_type": "stream",
          "name": "stdout",
          "text": [
            "(1, 36, 432) (1, 36, 128)\n"
          ]
        }
      ]
    },
    {
      "cell_type": "markdown",
      "source": [
        "\n",
        "### **| 모델 구현**"
      ],
      "metadata": {
        "id": "9DnMP2RyLFmD"
      }
    },
    {
      "cell_type": "code",
      "source": [
        "def encoder_block(input_shape, h, d_k, d_ff, dropout=0.25, name=None):\n",
        "    inputs = layers.Input(shape=input_shape)\n",
        "    # Attention and Normalization\n",
        "    y = layers.LayerNormalization(epsilon=1e-6)(inputs)\n",
        "    y = layers.MultiHeadAttention(num_heads= h,\n",
        "                                  key_dim= d_k, \n",
        "                                  dropout= dropout)(y, y)\n",
        "    z = layers.Add()([y, inputs])\n",
        "\n",
        "    # Feed Forward Part\n",
        "    y = layers.LayerNormalization(epsilon=1e-6)(z)\n",
        "    y = layers.Conv1D(filters=d_ff, kernel_size=1, activation='relu')(y)\n",
        "    y = layers.Dropout(dropout)(y)\n",
        "    y = layers.Conv1D(filters=inputs.shape[-1], kernel_size=1, activation='relu')(y)\n",
        "    outputs = layers.Add()([y, z])\n",
        "\n",
        "    return models.Model(inputs, outputs, name=name)"
      ],
      "metadata": {
        "id": "mcmD_hQtLFmI"
      },
      "execution_count": 107,
      "outputs": []
    },
    {
      "cell_type": "code",
      "source": [
        "x_train.shape"
      ],
      "metadata": {
        "id": "aNvArOGYq8vz",
        "colab": {
          "base_uri": "https://localhost:8080/"
        },
        "outputId": "0a3c8b93-26c2-49d4-dd21-d7e818398e10"
      },
      "execution_count": 108,
      "outputs": [
        {
          "output_type": "execute_result",
          "data": {
            "text/plain": [
              "(50000, 32, 32, 3)"
            ]
          },
          "metadata": {},
          "execution_count": 108
        }
      ]
    },
    {
      "cell_type": "code",
      "source": [
        "### Set params\n",
        "input_shape = (32,32,3)\n",
        "resize = 72\n",
        "patch_size = 6\n",
        "project_dim = 64\n",
        "num_patches = int(resize/patch_size)**2\n",
        "n_classes = 100\n",
        "\n",
        "## Transformer units\n",
        "N = 8\n",
        "h = 4\n",
        "d_k = 32\n",
        "d_ff = 32\n",
        "\n",
        "### 모델 구현\n",
        "# Set Input\n",
        "inputs = layers.Input(shape=input_shape)\n",
        "# Augment img\n",
        "y = aug_model(resize=resize)(inputs)\n",
        "\n",
        "# Make patches\n",
        "y = MakePatchLayer(patch_size)(y)\n",
        "# Encoding\n",
        "y = PatchPositionEncoder(project_dim, num_patches)(y)\n",
        "\n",
        "# Encoder Block\n",
        "for i in range(N):\n",
        "  encoder = encoder_block(y.shape[1:], \n",
        "                          h, \n",
        "                          d_k, \n",
        "                          d_ff, \n",
        "                          name=f'encoder_{i}')\n",
        "  y = encoder(y)\n",
        "\n",
        "# Classifier\n",
        "y = layers.LayerNormalization(epsilon=1e-6)(y)\n",
        "y = layers.Flatten()(y)\n",
        "\n",
        "y = layers.Dropout(0.5)(y)\n",
        "y = layers.Dense(2048, activation='gelu')(y)\n",
        "y = layers.Dropout(0.5)(y)\n",
        "y = layers.Dense(1024, activation='gelu')(y)\n",
        "y = layers.Dropout(0.5)(y)\n",
        "\n",
        "y = layers.Dense(n_classes, activation='softmax')(y)\n",
        "# Final model\n",
        "model = models.Model(inputs, y, name='TransformerEncoderCfy')\n",
        "model.summary()"
      ],
      "metadata": {
        "colab": {
          "base_uri": "https://localhost:8080/"
        },
        "id": "5VdiD8a565nW",
        "outputId": "3af82147-6f64-4a4c-ee3c-8366b8de4475"
      },
      "execution_count": 109,
      "outputs": [
        {
          "output_type": "stream",
          "name": "stdout",
          "text": [
            "Model: \"TransformerEncoderCfy\"\n",
            "_________________________________________________________________\n",
            " Layer (type)                Output Shape              Param #   \n",
            "=================================================================\n",
            " input_5 (InputLayer)        [(None, 32, 32, 3)]       0         \n",
            "                                                                 \n",
            " ImgAug (Sequential)         (None, 72, 72, 3)         7         \n",
            "                                                                 \n",
            " make_patch_layer_21 (MakePa  (None, None, 108)        0         \n",
            " tchLayer)                                                       \n",
            "                                                                 \n",
            " patch_position_encoder_8 (P  (None, 144, 64)          16192     \n",
            " atchPositionEncoder)                                            \n",
            "                                                                 \n",
            " encoder_0 (Functional)      (None, 144, 64)           37664     \n",
            "                                                                 \n",
            " encoder_1 (Functional)      (None, 144, 64)           37664     \n",
            "                                                                 \n",
            " encoder_2 (Functional)      (None, 144, 64)           37664     \n",
            "                                                                 \n",
            " encoder_3 (Functional)      (None, 144, 64)           37664     \n",
            "                                                                 \n",
            " encoder_4 (Functional)      (None, 144, 64)           37664     \n",
            "                                                                 \n",
            " encoder_5 (Functional)      (None, 144, 64)           37664     \n",
            "                                                                 \n",
            " encoder_6 (Functional)      (None, 144, 64)           37664     \n",
            "                                                                 \n",
            " encoder_7 (Functional)      (None, 144, 64)           37664     \n",
            "                                                                 \n",
            " layer_normalization_16 (Lay  (None, 144, 64)          128       \n",
            " erNormalization)                                                \n",
            "                                                                 \n",
            " flatten (Flatten)           (None, 9216)              0         \n",
            "                                                                 \n",
            " dropout_8 (Dropout)         (None, 9216)              0         \n",
            "                                                                 \n",
            " dense_21 (Dense)            (None, 2048)              18876416  \n",
            "                                                                 \n",
            " dropout_9 (Dropout)         (None, 2048)              0         \n",
            "                                                                 \n",
            " dense_22 (Dense)            (None, 1024)              2098176   \n",
            "                                                                 \n",
            " dropout_10 (Dropout)        (None, 1024)              0         \n",
            "                                                                 \n",
            " dense_23 (Dense)            (None, 100)               102500    \n",
            "                                                                 \n",
            "=================================================================\n",
            "Total params: 21,394,731\n",
            "Trainable params: 21,394,724\n",
            "Non-trainable params: 7\n",
            "_________________________________________________________________\n"
          ]
        }
      ]
    },
    {
      "cell_type": "code",
      "source": [
        "# callback lr 조절\n",
        "model.compile(\n",
        "    optimizer = tf.keras.optimizers.Adam(),\n",
        "    loss = tf.keras.losses.SparseCategoricalCrossentropy(),\n",
        "    metrics = [tf.keras.metrics.SparseCategoricalAccuracy(name='acc'),\n",
        "               tf.keras.metrics.SparseTopKCategoricalAccuracy(5, name='top-5-acc') \n",
        "               ]\n",
        ")"
      ],
      "metadata": {
        "id": "GgyEmv8w65pi"
      },
      "execution_count": 110,
      "outputs": []
    },
    {
      "cell_type": "code",
      "source": [
        "history = model.fit(x_train, y_train,\n",
        "                    batch_size = 256, \n",
        "                    epochs = 50, \n",
        "                    validation_data=(x_test, y_test))\n"
      ],
      "metadata": {
        "id": "imscBMVZ6-9G",
        "colab": {
          "base_uri": "https://localhost:8080/",
          "height": 657
        },
        "outputId": "5f1b1950-8346-45db-e7ee-d39f3244c303"
      },
      "execution_count": 111,
      "outputs": [
        {
          "output_type": "stream",
          "name": "stdout",
          "text": [
            "Epoch 1/50\n",
            "196/196 [==============================] - 71s 275ms/step - loss: 4.6884 - acc: 0.0215 - top-5-acc: 0.0997 - val_loss: 4.3346 - val_acc: 0.0431 - val_top-5-acc: 0.1624\n",
            "Epoch 2/50\n",
            "196/196 [==============================] - 53s 269ms/step - loss: 4.3458 - acc: 0.0361 - top-5-acc: 0.1496 - val_loss: 4.1543 - val_acc: 0.0625 - val_top-5-acc: 0.2244\n",
            "Epoch 3/50\n",
            "196/196 [==============================] - 54s 274ms/step - loss: 4.2256 - acc: 0.0498 - top-5-acc: 0.1921 - val_loss: 4.0680 - val_acc: 0.0754 - val_top-5-acc: 0.2644\n",
            "Epoch 4/50\n",
            "196/196 [==============================] - 54s 277ms/step - loss: 4.1229 - acc: 0.0593 - top-5-acc: 0.2206 - val_loss: 3.9743 - val_acc: 0.0953 - val_top-5-acc: 0.3059\n",
            "Epoch 5/50\n",
            "196/196 [==============================] - 55s 280ms/step - loss: 4.0473 - acc: 0.0676 - top-5-acc: 0.2436 - val_loss: 3.9522 - val_acc: 0.0894 - val_top-5-acc: 0.3092\n",
            "Epoch 6/50\n",
            "196/196 [==============================] - 55s 280ms/step - loss: 3.9714 - acc: 0.0783 - top-5-acc: 0.2707 - val_loss: 3.7934 - val_acc: 0.1102 - val_top-5-acc: 0.3584\n",
            "Epoch 7/50\n",
            "196/196 [==============================] - 55s 280ms/step - loss: 3.8826 - acc: 0.0904 - top-5-acc: 0.2968 - val_loss: 3.7253 - val_acc: 0.1305 - val_top-5-acc: 0.3829\n",
            "Epoch 8/50\n",
            "165/196 [========================>.....] - ETA: 8s - loss: 3.7833 - acc: 0.1089 - top-5-acc: 0.3326"
          ]
        },
        {
          "output_type": "error",
          "ename": "KeyboardInterrupt",
          "evalue": "ignored",
          "traceback": [
            "\u001b[0;31m---------------------------------------------------------------------------\u001b[0m",
            "\u001b[0;31mKeyboardInterrupt\u001b[0m                         Traceback (most recent call last)",
            "\u001b[0;32m<ipython-input-111-481bfb36454c>\u001b[0m in \u001b[0;36m<module>\u001b[0;34m\u001b[0m\n\u001b[1;32m      2\u001b[0m                     \u001b[0mbatch_size\u001b[0m \u001b[0;34m=\u001b[0m \u001b[0;36m256\u001b[0m\u001b[0;34m,\u001b[0m\u001b[0;34m\u001b[0m\u001b[0;34m\u001b[0m\u001b[0m\n\u001b[1;32m      3\u001b[0m                     \u001b[0mepochs\u001b[0m \u001b[0;34m=\u001b[0m \u001b[0;36m50\u001b[0m\u001b[0;34m,\u001b[0m\u001b[0;34m\u001b[0m\u001b[0;34m\u001b[0m\u001b[0m\n\u001b[0;32m----> 4\u001b[0;31m                     validation_data=(x_test, y_test))\n\u001b[0m",
            "\u001b[0;32m/usr/local/lib/python3.7/dist-packages/keras/utils/traceback_utils.py\u001b[0m in \u001b[0;36merror_handler\u001b[0;34m(*args, **kwargs)\u001b[0m\n\u001b[1;32m     62\u001b[0m     \u001b[0mfiltered_tb\u001b[0m \u001b[0;34m=\u001b[0m \u001b[0;32mNone\u001b[0m\u001b[0;34m\u001b[0m\u001b[0;34m\u001b[0m\u001b[0m\n\u001b[1;32m     63\u001b[0m     \u001b[0;32mtry\u001b[0m\u001b[0;34m:\u001b[0m\u001b[0;34m\u001b[0m\u001b[0;34m\u001b[0m\u001b[0m\n\u001b[0;32m---> 64\u001b[0;31m       \u001b[0;32mreturn\u001b[0m \u001b[0mfn\u001b[0m\u001b[0;34m(\u001b[0m\u001b[0;34m*\u001b[0m\u001b[0margs\u001b[0m\u001b[0;34m,\u001b[0m \u001b[0;34m**\u001b[0m\u001b[0mkwargs\u001b[0m\u001b[0;34m)\u001b[0m\u001b[0;34m\u001b[0m\u001b[0;34m\u001b[0m\u001b[0m\n\u001b[0m\u001b[1;32m     65\u001b[0m     \u001b[0;32mexcept\u001b[0m \u001b[0mException\u001b[0m \u001b[0;32mas\u001b[0m \u001b[0me\u001b[0m\u001b[0;34m:\u001b[0m  \u001b[0;31m# pylint: disable=broad-except\u001b[0m\u001b[0;34m\u001b[0m\u001b[0;34m\u001b[0m\u001b[0m\n\u001b[1;32m     66\u001b[0m       \u001b[0mfiltered_tb\u001b[0m \u001b[0;34m=\u001b[0m \u001b[0m_process_traceback_frames\u001b[0m\u001b[0;34m(\u001b[0m\u001b[0me\u001b[0m\u001b[0;34m.\u001b[0m\u001b[0m__traceback__\u001b[0m\u001b[0;34m)\u001b[0m\u001b[0;34m\u001b[0m\u001b[0;34m\u001b[0m\u001b[0m\n",
            "\u001b[0;32m/usr/local/lib/python3.7/dist-packages/keras/engine/training.py\u001b[0m in \u001b[0;36mfit\u001b[0;34m(self, x, y, batch_size, epochs, verbose, callbacks, validation_split, validation_data, shuffle, class_weight, sample_weight, initial_epoch, steps_per_epoch, validation_steps, validation_batch_size, validation_freq, max_queue_size, workers, use_multiprocessing)\u001b[0m\n\u001b[1;32m   1387\u001b[0m               \u001b[0mlogs\u001b[0m \u001b[0;34m=\u001b[0m \u001b[0mtmp_logs\u001b[0m  \u001b[0;31m# No error, now safe to assign to logs.\u001b[0m\u001b[0;34m\u001b[0m\u001b[0;34m\u001b[0m\u001b[0m\n\u001b[1;32m   1388\u001b[0m               \u001b[0mend_step\u001b[0m \u001b[0;34m=\u001b[0m \u001b[0mstep\u001b[0m \u001b[0;34m+\u001b[0m \u001b[0mdata_handler\u001b[0m\u001b[0;34m.\u001b[0m\u001b[0mstep_increment\u001b[0m\u001b[0;34m\u001b[0m\u001b[0;34m\u001b[0m\u001b[0m\n\u001b[0;32m-> 1389\u001b[0;31m               \u001b[0mcallbacks\u001b[0m\u001b[0;34m.\u001b[0m\u001b[0mon_train_batch_end\u001b[0m\u001b[0;34m(\u001b[0m\u001b[0mend_step\u001b[0m\u001b[0;34m,\u001b[0m \u001b[0mlogs\u001b[0m\u001b[0;34m)\u001b[0m\u001b[0;34m\u001b[0m\u001b[0;34m\u001b[0m\u001b[0m\n\u001b[0m\u001b[1;32m   1390\u001b[0m               \u001b[0;32mif\u001b[0m \u001b[0mself\u001b[0m\u001b[0;34m.\u001b[0m\u001b[0mstop_training\u001b[0m\u001b[0;34m:\u001b[0m\u001b[0;34m\u001b[0m\u001b[0;34m\u001b[0m\u001b[0m\n\u001b[1;32m   1391\u001b[0m                 \u001b[0;32mbreak\u001b[0m\u001b[0;34m\u001b[0m\u001b[0;34m\u001b[0m\u001b[0m\n",
            "\u001b[0;32m/usr/local/lib/python3.7/dist-packages/keras/callbacks.py\u001b[0m in \u001b[0;36mon_train_batch_end\u001b[0;34m(self, batch, logs)\u001b[0m\n\u001b[1;32m    436\u001b[0m     \"\"\"\n\u001b[1;32m    437\u001b[0m     \u001b[0;32mif\u001b[0m \u001b[0mself\u001b[0m\u001b[0;34m.\u001b[0m\u001b[0m_should_call_train_batch_hooks\u001b[0m\u001b[0;34m:\u001b[0m\u001b[0;34m\u001b[0m\u001b[0;34m\u001b[0m\u001b[0m\n\u001b[0;32m--> 438\u001b[0;31m       \u001b[0mself\u001b[0m\u001b[0;34m.\u001b[0m\u001b[0m_call_batch_hook\u001b[0m\u001b[0;34m(\u001b[0m\u001b[0mModeKeys\u001b[0m\u001b[0;34m.\u001b[0m\u001b[0mTRAIN\u001b[0m\u001b[0;34m,\u001b[0m \u001b[0;34m'end'\u001b[0m\u001b[0;34m,\u001b[0m \u001b[0mbatch\u001b[0m\u001b[0;34m,\u001b[0m \u001b[0mlogs\u001b[0m\u001b[0;34m=\u001b[0m\u001b[0mlogs\u001b[0m\u001b[0;34m)\u001b[0m\u001b[0;34m\u001b[0m\u001b[0;34m\u001b[0m\u001b[0m\n\u001b[0m\u001b[1;32m    439\u001b[0m \u001b[0;34m\u001b[0m\u001b[0m\n\u001b[1;32m    440\u001b[0m   \u001b[0;32mdef\u001b[0m \u001b[0mon_test_batch_begin\u001b[0m\u001b[0;34m(\u001b[0m\u001b[0mself\u001b[0m\u001b[0;34m,\u001b[0m \u001b[0mbatch\u001b[0m\u001b[0;34m,\u001b[0m \u001b[0mlogs\u001b[0m\u001b[0;34m=\u001b[0m\u001b[0;32mNone\u001b[0m\u001b[0;34m)\u001b[0m\u001b[0;34m:\u001b[0m\u001b[0;34m\u001b[0m\u001b[0;34m\u001b[0m\u001b[0m\n",
            "\u001b[0;32m/usr/local/lib/python3.7/dist-packages/keras/callbacks.py\u001b[0m in \u001b[0;36m_call_batch_hook\u001b[0;34m(self, mode, hook, batch, logs)\u001b[0m\n\u001b[1;32m    295\u001b[0m       \u001b[0mself\u001b[0m\u001b[0;34m.\u001b[0m\u001b[0m_call_batch_begin_hook\u001b[0m\u001b[0;34m(\u001b[0m\u001b[0mmode\u001b[0m\u001b[0;34m,\u001b[0m \u001b[0mbatch\u001b[0m\u001b[0;34m,\u001b[0m \u001b[0mlogs\u001b[0m\u001b[0;34m)\u001b[0m\u001b[0;34m\u001b[0m\u001b[0;34m\u001b[0m\u001b[0m\n\u001b[1;32m    296\u001b[0m     \u001b[0;32melif\u001b[0m \u001b[0mhook\u001b[0m \u001b[0;34m==\u001b[0m \u001b[0;34m'end'\u001b[0m\u001b[0;34m:\u001b[0m\u001b[0;34m\u001b[0m\u001b[0;34m\u001b[0m\u001b[0m\n\u001b[0;32m--> 297\u001b[0;31m       \u001b[0mself\u001b[0m\u001b[0;34m.\u001b[0m\u001b[0m_call_batch_end_hook\u001b[0m\u001b[0;34m(\u001b[0m\u001b[0mmode\u001b[0m\u001b[0;34m,\u001b[0m \u001b[0mbatch\u001b[0m\u001b[0;34m,\u001b[0m \u001b[0mlogs\u001b[0m\u001b[0;34m)\u001b[0m\u001b[0;34m\u001b[0m\u001b[0;34m\u001b[0m\u001b[0m\n\u001b[0m\u001b[1;32m    298\u001b[0m     \u001b[0;32melse\u001b[0m\u001b[0;34m:\u001b[0m\u001b[0;34m\u001b[0m\u001b[0;34m\u001b[0m\u001b[0m\n\u001b[1;32m    299\u001b[0m       raise ValueError(\n",
            "\u001b[0;32m/usr/local/lib/python3.7/dist-packages/keras/callbacks.py\u001b[0m in \u001b[0;36m_call_batch_end_hook\u001b[0;34m(self, mode, batch, logs)\u001b[0m\n\u001b[1;32m    316\u001b[0m       \u001b[0mself\u001b[0m\u001b[0;34m.\u001b[0m\u001b[0m_batch_times\u001b[0m\u001b[0;34m.\u001b[0m\u001b[0mappend\u001b[0m\u001b[0;34m(\u001b[0m\u001b[0mbatch_time\u001b[0m\u001b[0;34m)\u001b[0m\u001b[0;34m\u001b[0m\u001b[0;34m\u001b[0m\u001b[0m\n\u001b[1;32m    317\u001b[0m \u001b[0;34m\u001b[0m\u001b[0m\n\u001b[0;32m--> 318\u001b[0;31m     \u001b[0mself\u001b[0m\u001b[0;34m.\u001b[0m\u001b[0m_call_batch_hook_helper\u001b[0m\u001b[0;34m(\u001b[0m\u001b[0mhook_name\u001b[0m\u001b[0;34m,\u001b[0m \u001b[0mbatch\u001b[0m\u001b[0;34m,\u001b[0m \u001b[0mlogs\u001b[0m\u001b[0;34m)\u001b[0m\u001b[0;34m\u001b[0m\u001b[0;34m\u001b[0m\u001b[0m\n\u001b[0m\u001b[1;32m    319\u001b[0m \u001b[0;34m\u001b[0m\u001b[0m\n\u001b[1;32m    320\u001b[0m     \u001b[0;32mif\u001b[0m \u001b[0mlen\u001b[0m\u001b[0;34m(\u001b[0m\u001b[0mself\u001b[0m\u001b[0;34m.\u001b[0m\u001b[0m_batch_times\u001b[0m\u001b[0;34m)\u001b[0m \u001b[0;34m>=\u001b[0m \u001b[0mself\u001b[0m\u001b[0;34m.\u001b[0m\u001b[0m_num_batches_for_timing_check\u001b[0m\u001b[0;34m:\u001b[0m\u001b[0;34m\u001b[0m\u001b[0;34m\u001b[0m\u001b[0m\n",
            "\u001b[0;32m/usr/local/lib/python3.7/dist-packages/keras/callbacks.py\u001b[0m in \u001b[0;36m_call_batch_hook_helper\u001b[0;34m(self, hook_name, batch, logs)\u001b[0m\n\u001b[1;32m    354\u001b[0m     \u001b[0;32mfor\u001b[0m \u001b[0mcallback\u001b[0m \u001b[0;32min\u001b[0m \u001b[0mself\u001b[0m\u001b[0;34m.\u001b[0m\u001b[0mcallbacks\u001b[0m\u001b[0;34m:\u001b[0m\u001b[0;34m\u001b[0m\u001b[0;34m\u001b[0m\u001b[0m\n\u001b[1;32m    355\u001b[0m       \u001b[0mhook\u001b[0m \u001b[0;34m=\u001b[0m \u001b[0mgetattr\u001b[0m\u001b[0;34m(\u001b[0m\u001b[0mcallback\u001b[0m\u001b[0;34m,\u001b[0m \u001b[0mhook_name\u001b[0m\u001b[0;34m)\u001b[0m\u001b[0;34m\u001b[0m\u001b[0;34m\u001b[0m\u001b[0m\n\u001b[0;32m--> 356\u001b[0;31m       \u001b[0mhook\u001b[0m\u001b[0;34m(\u001b[0m\u001b[0mbatch\u001b[0m\u001b[0;34m,\u001b[0m \u001b[0mlogs\u001b[0m\u001b[0;34m)\u001b[0m\u001b[0;34m\u001b[0m\u001b[0;34m\u001b[0m\u001b[0m\n\u001b[0m\u001b[1;32m    357\u001b[0m \u001b[0;34m\u001b[0m\u001b[0m\n\u001b[1;32m    358\u001b[0m     \u001b[0;32mif\u001b[0m \u001b[0mself\u001b[0m\u001b[0;34m.\u001b[0m\u001b[0m_check_timing\u001b[0m\u001b[0;34m:\u001b[0m\u001b[0;34m\u001b[0m\u001b[0;34m\u001b[0m\u001b[0m\n",
            "\u001b[0;32m/usr/local/lib/python3.7/dist-packages/keras/callbacks.py\u001b[0m in \u001b[0;36mon_train_batch_end\u001b[0;34m(self, batch, logs)\u001b[0m\n\u001b[1;32m   1032\u001b[0m \u001b[0;34m\u001b[0m\u001b[0m\n\u001b[1;32m   1033\u001b[0m   \u001b[0;32mdef\u001b[0m \u001b[0mon_train_batch_end\u001b[0m\u001b[0;34m(\u001b[0m\u001b[0mself\u001b[0m\u001b[0;34m,\u001b[0m \u001b[0mbatch\u001b[0m\u001b[0;34m,\u001b[0m \u001b[0mlogs\u001b[0m\u001b[0;34m=\u001b[0m\u001b[0;32mNone\u001b[0m\u001b[0;34m)\u001b[0m\u001b[0;34m:\u001b[0m\u001b[0;34m\u001b[0m\u001b[0;34m\u001b[0m\u001b[0m\n\u001b[0;32m-> 1034\u001b[0;31m     \u001b[0mself\u001b[0m\u001b[0;34m.\u001b[0m\u001b[0m_batch_update_progbar\u001b[0m\u001b[0;34m(\u001b[0m\u001b[0mbatch\u001b[0m\u001b[0;34m,\u001b[0m \u001b[0mlogs\u001b[0m\u001b[0;34m)\u001b[0m\u001b[0;34m\u001b[0m\u001b[0;34m\u001b[0m\u001b[0m\n\u001b[0m\u001b[1;32m   1035\u001b[0m \u001b[0;34m\u001b[0m\u001b[0m\n\u001b[1;32m   1036\u001b[0m   \u001b[0;32mdef\u001b[0m \u001b[0mon_test_batch_end\u001b[0m\u001b[0;34m(\u001b[0m\u001b[0mself\u001b[0m\u001b[0;34m,\u001b[0m \u001b[0mbatch\u001b[0m\u001b[0;34m,\u001b[0m \u001b[0mlogs\u001b[0m\u001b[0;34m=\u001b[0m\u001b[0;32mNone\u001b[0m\u001b[0;34m)\u001b[0m\u001b[0;34m:\u001b[0m\u001b[0;34m\u001b[0m\u001b[0;34m\u001b[0m\u001b[0m\n",
            "\u001b[0;32m/usr/local/lib/python3.7/dist-packages/keras/callbacks.py\u001b[0m in \u001b[0;36m_batch_update_progbar\u001b[0;34m(self, batch, logs)\u001b[0m\n\u001b[1;32m   1104\u001b[0m     \u001b[0;32mif\u001b[0m \u001b[0mself\u001b[0m\u001b[0;34m.\u001b[0m\u001b[0mverbose\u001b[0m \u001b[0;34m==\u001b[0m \u001b[0;36m1\u001b[0m\u001b[0;34m:\u001b[0m\u001b[0;34m\u001b[0m\u001b[0;34m\u001b[0m\u001b[0m\n\u001b[1;32m   1105\u001b[0m       \u001b[0;31m# Only block async when verbose = 1.\u001b[0m\u001b[0;34m\u001b[0m\u001b[0;34m\u001b[0m\u001b[0;34m\u001b[0m\u001b[0m\n\u001b[0;32m-> 1106\u001b[0;31m       \u001b[0mlogs\u001b[0m \u001b[0;34m=\u001b[0m \u001b[0mtf_utils\u001b[0m\u001b[0;34m.\u001b[0m\u001b[0msync_to_numpy_or_python_type\u001b[0m\u001b[0;34m(\u001b[0m\u001b[0mlogs\u001b[0m\u001b[0;34m)\u001b[0m\u001b[0;34m\u001b[0m\u001b[0;34m\u001b[0m\u001b[0m\n\u001b[0m\u001b[1;32m   1107\u001b[0m       \u001b[0mself\u001b[0m\u001b[0;34m.\u001b[0m\u001b[0mprogbar\u001b[0m\u001b[0;34m.\u001b[0m\u001b[0mupdate\u001b[0m\u001b[0;34m(\u001b[0m\u001b[0mself\u001b[0m\u001b[0;34m.\u001b[0m\u001b[0mseen\u001b[0m\u001b[0;34m,\u001b[0m \u001b[0mlist\u001b[0m\u001b[0;34m(\u001b[0m\u001b[0mlogs\u001b[0m\u001b[0;34m.\u001b[0m\u001b[0mitems\u001b[0m\u001b[0;34m(\u001b[0m\u001b[0;34m)\u001b[0m\u001b[0;34m)\u001b[0m\u001b[0;34m,\u001b[0m \u001b[0mfinalize\u001b[0m\u001b[0;34m=\u001b[0m\u001b[0;32mFalse\u001b[0m\u001b[0;34m)\u001b[0m\u001b[0;34m\u001b[0m\u001b[0;34m\u001b[0m\u001b[0m\n\u001b[1;32m   1108\u001b[0m \u001b[0;34m\u001b[0m\u001b[0m\n",
            "\u001b[0;32m/usr/local/lib/python3.7/dist-packages/keras/utils/tf_utils.py\u001b[0m in \u001b[0;36msync_to_numpy_or_python_type\u001b[0;34m(tensors)\u001b[0m\n\u001b[1;32m    561\u001b[0m     \u001b[0;32mreturn\u001b[0m \u001b[0mt\u001b[0m\u001b[0;34m.\u001b[0m\u001b[0mitem\u001b[0m\u001b[0;34m(\u001b[0m\u001b[0;34m)\u001b[0m \u001b[0;32mif\u001b[0m \u001b[0mnp\u001b[0m\u001b[0;34m.\u001b[0m\u001b[0mndim\u001b[0m\u001b[0;34m(\u001b[0m\u001b[0mt\u001b[0m\u001b[0;34m)\u001b[0m \u001b[0;34m==\u001b[0m \u001b[0;36m0\u001b[0m \u001b[0;32melse\u001b[0m \u001b[0mt\u001b[0m\u001b[0;34m\u001b[0m\u001b[0;34m\u001b[0m\u001b[0m\n\u001b[1;32m    562\u001b[0m \u001b[0;34m\u001b[0m\u001b[0m\n\u001b[0;32m--> 563\u001b[0;31m   \u001b[0;32mreturn\u001b[0m \u001b[0mtf\u001b[0m\u001b[0;34m.\u001b[0m\u001b[0mnest\u001b[0m\u001b[0;34m.\u001b[0m\u001b[0mmap_structure\u001b[0m\u001b[0;34m(\u001b[0m\u001b[0m_to_single_numpy_or_python_type\u001b[0m\u001b[0;34m,\u001b[0m \u001b[0mtensors\u001b[0m\u001b[0;34m)\u001b[0m\u001b[0;34m\u001b[0m\u001b[0;34m\u001b[0m\u001b[0m\n\u001b[0m\u001b[1;32m    564\u001b[0m \u001b[0;34m\u001b[0m\u001b[0m\n\u001b[1;32m    565\u001b[0m \u001b[0;34m\u001b[0m\u001b[0m\n",
            "\u001b[0;32m/usr/local/lib/python3.7/dist-packages/tensorflow/python/util/nest.py\u001b[0m in \u001b[0;36mmap_structure\u001b[0;34m(func, *structure, **kwargs)\u001b[0m\n\u001b[1;32m    912\u001b[0m \u001b[0;34m\u001b[0m\u001b[0m\n\u001b[1;32m    913\u001b[0m   return pack_sequence_as(\n\u001b[0;32m--> 914\u001b[0;31m       \u001b[0mstructure\u001b[0m\u001b[0;34m[\u001b[0m\u001b[0;36m0\u001b[0m\u001b[0;34m]\u001b[0m\u001b[0;34m,\u001b[0m \u001b[0;34m[\u001b[0m\u001b[0mfunc\u001b[0m\u001b[0;34m(\u001b[0m\u001b[0;34m*\u001b[0m\u001b[0mx\u001b[0m\u001b[0;34m)\u001b[0m \u001b[0;32mfor\u001b[0m \u001b[0mx\u001b[0m \u001b[0;32min\u001b[0m \u001b[0mentries\u001b[0m\u001b[0;34m]\u001b[0m\u001b[0;34m,\u001b[0m\u001b[0;34m\u001b[0m\u001b[0;34m\u001b[0m\u001b[0m\n\u001b[0m\u001b[1;32m    915\u001b[0m       expand_composites=expand_composites)\n\u001b[1;32m    916\u001b[0m \u001b[0;34m\u001b[0m\u001b[0m\n",
            "\u001b[0;32m/usr/local/lib/python3.7/dist-packages/tensorflow/python/util/nest.py\u001b[0m in \u001b[0;36m<listcomp>\u001b[0;34m(.0)\u001b[0m\n\u001b[1;32m    912\u001b[0m \u001b[0;34m\u001b[0m\u001b[0m\n\u001b[1;32m    913\u001b[0m   return pack_sequence_as(\n\u001b[0;32m--> 914\u001b[0;31m       \u001b[0mstructure\u001b[0m\u001b[0;34m[\u001b[0m\u001b[0;36m0\u001b[0m\u001b[0;34m]\u001b[0m\u001b[0;34m,\u001b[0m \u001b[0;34m[\u001b[0m\u001b[0mfunc\u001b[0m\u001b[0;34m(\u001b[0m\u001b[0;34m*\u001b[0m\u001b[0mx\u001b[0m\u001b[0;34m)\u001b[0m \u001b[0;32mfor\u001b[0m \u001b[0mx\u001b[0m \u001b[0;32min\u001b[0m \u001b[0mentries\u001b[0m\u001b[0;34m]\u001b[0m\u001b[0;34m,\u001b[0m\u001b[0;34m\u001b[0m\u001b[0;34m\u001b[0m\u001b[0m\n\u001b[0m\u001b[1;32m    915\u001b[0m       expand_composites=expand_composites)\n\u001b[1;32m    916\u001b[0m \u001b[0;34m\u001b[0m\u001b[0m\n",
            "\u001b[0;32m/usr/local/lib/python3.7/dist-packages/keras/utils/tf_utils.py\u001b[0m in \u001b[0;36m_to_single_numpy_or_python_type\u001b[0;34m(t)\u001b[0m\n\u001b[1;32m    555\u001b[0m     \u001b[0;31m# Don't turn ragged or sparse tensors to NumPy.\u001b[0m\u001b[0;34m\u001b[0m\u001b[0;34m\u001b[0m\u001b[0;34m\u001b[0m\u001b[0m\n\u001b[1;32m    556\u001b[0m     \u001b[0;32mif\u001b[0m \u001b[0misinstance\u001b[0m\u001b[0;34m(\u001b[0m\u001b[0mt\u001b[0m\u001b[0;34m,\u001b[0m \u001b[0mtf\u001b[0m\u001b[0;34m.\u001b[0m\u001b[0mTensor\u001b[0m\u001b[0;34m)\u001b[0m\u001b[0;34m:\u001b[0m\u001b[0;34m\u001b[0m\u001b[0;34m\u001b[0m\u001b[0m\n\u001b[0;32m--> 557\u001b[0;31m       \u001b[0mt\u001b[0m \u001b[0;34m=\u001b[0m \u001b[0mt\u001b[0m\u001b[0;34m.\u001b[0m\u001b[0mnumpy\u001b[0m\u001b[0;34m(\u001b[0m\u001b[0;34m)\u001b[0m\u001b[0;34m\u001b[0m\u001b[0;34m\u001b[0m\u001b[0m\n\u001b[0m\u001b[1;32m    558\u001b[0m     \u001b[0;31m# Strings, ragged and sparse tensors don't have .item(). Return them as-is.\u001b[0m\u001b[0;34m\u001b[0m\u001b[0;34m\u001b[0m\u001b[0;34m\u001b[0m\u001b[0m\n\u001b[1;32m    559\u001b[0m     \u001b[0;32mif\u001b[0m \u001b[0;32mnot\u001b[0m \u001b[0misinstance\u001b[0m\u001b[0;34m(\u001b[0m\u001b[0mt\u001b[0m\u001b[0;34m,\u001b[0m \u001b[0;34m(\u001b[0m\u001b[0mnp\u001b[0m\u001b[0;34m.\u001b[0m\u001b[0mndarray\u001b[0m\u001b[0;34m,\u001b[0m \u001b[0mnp\u001b[0m\u001b[0;34m.\u001b[0m\u001b[0mgeneric\u001b[0m\u001b[0;34m)\u001b[0m\u001b[0;34m)\u001b[0m\u001b[0;34m:\u001b[0m\u001b[0;34m\u001b[0m\u001b[0;34m\u001b[0m\u001b[0m\n",
            "\u001b[0;32m/usr/local/lib/python3.7/dist-packages/tensorflow/python/framework/ops.py\u001b[0m in \u001b[0;36mnumpy\u001b[0;34m(self)\u001b[0m\n\u001b[1;32m   1221\u001b[0m     \"\"\"\n\u001b[1;32m   1222\u001b[0m     \u001b[0;31m# TODO(slebedev): Consider avoiding a copy for non-CPU or remote tensors.\u001b[0m\u001b[0;34m\u001b[0m\u001b[0;34m\u001b[0m\u001b[0;34m\u001b[0m\u001b[0m\n\u001b[0;32m-> 1223\u001b[0;31m     \u001b[0mmaybe_arr\u001b[0m \u001b[0;34m=\u001b[0m \u001b[0mself\u001b[0m\u001b[0;34m.\u001b[0m\u001b[0m_numpy\u001b[0m\u001b[0;34m(\u001b[0m\u001b[0;34m)\u001b[0m  \u001b[0;31m# pylint: disable=protected-access\u001b[0m\u001b[0;34m\u001b[0m\u001b[0;34m\u001b[0m\u001b[0m\n\u001b[0m\u001b[1;32m   1224\u001b[0m     \u001b[0;32mreturn\u001b[0m \u001b[0mmaybe_arr\u001b[0m\u001b[0;34m.\u001b[0m\u001b[0mcopy\u001b[0m\u001b[0;34m(\u001b[0m\u001b[0;34m)\u001b[0m \u001b[0;32mif\u001b[0m \u001b[0misinstance\u001b[0m\u001b[0;34m(\u001b[0m\u001b[0mmaybe_arr\u001b[0m\u001b[0;34m,\u001b[0m \u001b[0mnp\u001b[0m\u001b[0;34m.\u001b[0m\u001b[0mndarray\u001b[0m\u001b[0;34m)\u001b[0m \u001b[0;32melse\u001b[0m \u001b[0mmaybe_arr\u001b[0m\u001b[0;34m\u001b[0m\u001b[0;34m\u001b[0m\u001b[0m\n\u001b[1;32m   1225\u001b[0m \u001b[0;34m\u001b[0m\u001b[0m\n",
            "\u001b[0;32m/usr/local/lib/python3.7/dist-packages/tensorflow/python/framework/ops.py\u001b[0m in \u001b[0;36m_numpy\u001b[0;34m(self)\u001b[0m\n\u001b[1;32m   1187\u001b[0m   \u001b[0;32mdef\u001b[0m \u001b[0m_numpy\u001b[0m\u001b[0;34m(\u001b[0m\u001b[0mself\u001b[0m\u001b[0;34m)\u001b[0m\u001b[0;34m:\u001b[0m\u001b[0;34m\u001b[0m\u001b[0;34m\u001b[0m\u001b[0m\n\u001b[1;32m   1188\u001b[0m     \u001b[0;32mtry\u001b[0m\u001b[0;34m:\u001b[0m\u001b[0;34m\u001b[0m\u001b[0;34m\u001b[0m\u001b[0m\n\u001b[0;32m-> 1189\u001b[0;31m       \u001b[0;32mreturn\u001b[0m \u001b[0mself\u001b[0m\u001b[0;34m.\u001b[0m\u001b[0m_numpy_internal\u001b[0m\u001b[0;34m(\u001b[0m\u001b[0;34m)\u001b[0m\u001b[0;34m\u001b[0m\u001b[0;34m\u001b[0m\u001b[0m\n\u001b[0m\u001b[1;32m   1190\u001b[0m     \u001b[0;32mexcept\u001b[0m \u001b[0mcore\u001b[0m\u001b[0;34m.\u001b[0m\u001b[0m_NotOkStatusException\u001b[0m \u001b[0;32mas\u001b[0m \u001b[0me\u001b[0m\u001b[0;34m:\u001b[0m  \u001b[0;31m# pylint: disable=protected-access\u001b[0m\u001b[0;34m\u001b[0m\u001b[0;34m\u001b[0m\u001b[0m\n\u001b[1;32m   1191\u001b[0m       \u001b[0;32mraise\u001b[0m \u001b[0mcore\u001b[0m\u001b[0;34m.\u001b[0m\u001b[0m_status_to_exception\u001b[0m\u001b[0;34m(\u001b[0m\u001b[0me\u001b[0m\u001b[0;34m)\u001b[0m \u001b[0;32mfrom\u001b[0m \u001b[0;32mNone\u001b[0m  \u001b[0;31m# pylint: disable=protected-access\u001b[0m\u001b[0;34m\u001b[0m\u001b[0;34m\u001b[0m\u001b[0m\n",
            "\u001b[0;31mKeyboardInterrupt\u001b[0m: "
          ]
        }
      ]
    },
    {
      "cell_type": "code",
      "source": [],
      "metadata": {
        "id": "bDAo-1-ADQBn"
      },
      "execution_count": null,
      "outputs": []
    }
  ]
}