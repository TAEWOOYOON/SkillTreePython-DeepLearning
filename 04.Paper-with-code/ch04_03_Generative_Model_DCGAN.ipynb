{
  "cells": [
    {
      "cell_type": "markdown",
      "metadata": {
        "id": "view-in-github",
        "colab_type": "text"
      },
      "source": [
        "<a href=\"https://colab.research.google.com/github/TAEWOOYOON/SkillTreePython-DeepLearning/blob/main/04.Paper-with-code/ch04_03_Generative_Model_DCGAN.ipynb\" target=\"_parent\"><img src=\"https://colab.research.google.com/assets/colab-badge.svg\" alt=\"Open In Colab\"/></a>"
      ]
    },
    {
      "cell_type": "markdown",
      "metadata": {
        "id": "sWs2kEC1_b-P"
      },
      "source": [
        "# ch04.03 Generative Model - DCGAN\n",
        "\n",
        "* 날짜: 2022.08.09\n",
        "* 이름: 윤태우\n",
        "\n",
        "## 학습내용\n",
        "    - 딥러닝 생성모델에 대해 이해한다.\n",
        "    - Deep Convolutional Generative Adversarial Networks 를 구현한다.\n",
        "\n",
        "> https://arxiv.org/pdf/1406.2661.pdf\n",
        "\n"
      ]
    },
    {
      "cell_type": "markdown",
      "source": [
        "## 실습\n",
        "---"
      ],
      "metadata": {
        "id": "jMQVMO2c0X-X"
      }
    },
    {
      "cell_type": "markdown",
      "source": [
        "### | **모델 구현**\n",
        "<p  align='center'>\n",
        "<img src ='https://github.com/yebiny/SkillTreePython-DeepLearning/blob/main/imgs/ch0403-02.PNG?raw=true' width=800>\n",
        "</p>"
      ],
      "metadata": {
        "id": "7UGTVvVDz5bq"
      }
    },
    {
      "cell_type": "code",
      "source": [
        "# Generator\n",
        "\n",
        "import tensorflow as tf\n",
        "from tensorflow.keras import models, layers, utils\n",
        "def build_generator(z_dim = 64, img_shape = (28,28,1)) :\n",
        "  h,w,c = img_shape\n",
        "  z = layers.Input(shape = [z_dim]) # 길이가 z_dim인 벡터\n",
        "  y = layers.Dense(int(w/4)*int(h/4)*8, activation = 'relu')(z)\n",
        "  y = layers.Reshape([int(w/4),int(h/4),8])(y)\n",
        "\n",
        "  y = layers.BatchNormalization()(y)\n",
        "  y = layers.Conv2DTranspose(16,kernel_size = 3, padding = 'same', strides = 2, activation = 'relu')(y)\n",
        "  y = layers.BatchNormalization()(y)\n",
        "\n",
        "  # 크기가 img_shape = (h,w,c)인 텐서\n",
        "  y = layers.Conv2DTranspose(c,kernel_size = 3, padding = 'same', strides = 2, activation = 'sigmoid')(y)\n",
        "  return models.Model(z, y, name = 'Generator')\n",
        "\n",
        "g = build_generator()\n",
        "g.summary()"
      ],
      "metadata": {
        "id": "AXVQL72Gz7ua",
        "colab": {
          "base_uri": "https://localhost:8080/"
        },
        "outputId": "999bb507-6cdb-45c3-d146-8487e3235959"
      },
      "execution_count": null,
      "outputs": [
        {
          "output_type": "stream",
          "name": "stdout",
          "text": [
            "Model: \"Generator\"\n",
            "_________________________________________________________________\n",
            " Layer (type)                Output Shape              Param #   \n",
            "=================================================================\n",
            " input_8 (InputLayer)        [(None, 64)]              0         \n",
            "                                                                 \n",
            " dense_7 (Dense)             (None, 392)               25480     \n",
            "                                                                 \n",
            " reshape_7 (Reshape)         (None, 7, 7, 8)           0         \n",
            "                                                                 \n",
            " batch_normalization_2 (Batc  (None, 7, 7, 8)          32        \n",
            " hNormalization)                                                 \n",
            "                                                                 \n",
            " conv2d_transpose_15 (Conv2D  (None, 14, 14, 16)       1168      \n",
            " Transpose)                                                      \n",
            "                                                                 \n",
            " batch_normalization_3 (Batc  (None, 14, 14, 16)       64        \n",
            " hNormalization)                                                 \n",
            "                                                                 \n",
            " conv2d_transpose_16 (Conv2D  (None, 28, 28, 1)        145       \n",
            " Transpose)                                                      \n",
            "                                                                 \n",
            "=================================================================\n",
            "Total params: 26,889\n",
            "Trainable params: 26,841\n",
            "Non-trainable params: 48\n",
            "_________________________________________________________________\n"
          ]
        }
      ]
    },
    {
      "cell_type": "code",
      "source": [
        "# Discriminator\n",
        "\n",
        "def build_disc(img_shape = (28,28,1)) :\n",
        "  x = layers.Input(shape = img_shape)\n",
        "  y = layers.Conv2D(16,kernel_size = 3, strides = 2, padding = 'same', activation = 'relu')(x)\n",
        "  y = layers.Dropout(.5)(y)\n",
        "  y = layers.Conv2D(32,kernel_size = 3, strides = 2, padding = 'same', activation = 'relu')(y)\n",
        "  y = layers.Dropout(.5)(y)\n",
        "  y = layers.Flatten()(y)\n",
        "  y = layers.Dense(128, activation = 'sigmoid')(y)\n",
        "  y = layers.Dropout(.5)(y)\n",
        "  y = layers.Dense(1, activation = 'sigmoid')(y)\n",
        "  return models.Model(x, y, name = 'Discriminator')\n",
        "\n",
        "d = build_disc()\n",
        "d.summary()"
      ],
      "metadata": {
        "colab": {
          "base_uri": "https://localhost:8080/"
        },
        "id": "jb6tOMpRc4cW",
        "outputId": "68b93658-244b-44ec-8e1a-f5bbd27310fd"
      },
      "execution_count": null,
      "outputs": [
        {
          "output_type": "stream",
          "name": "stdout",
          "text": [
            "Model: \"Discriminator\"\n",
            "_________________________________________________________________\n",
            " Layer (type)                Output Shape              Param #   \n",
            "=================================================================\n",
            " input_12 (InputLayer)       [(None, 28, 28, 1)]       0         \n",
            "                                                                 \n",
            " conv2d_2 (Conv2D)           (None, 14, 14, 16)        160       \n",
            "                                                                 \n",
            " dropout_2 (Dropout)         (None, 14, 14, 16)        0         \n",
            "                                                                 \n",
            " conv2d_3 (Conv2D)           (None, 7, 7, 32)          4640      \n",
            "                                                                 \n",
            " dropout_3 (Dropout)         (None, 7, 7, 32)          0         \n",
            "                                                                 \n",
            " flatten (Flatten)           (None, 1568)              0         \n",
            "                                                                 \n",
            " dense_8 (Dense)             (None, 128)               200832    \n",
            "                                                                 \n",
            " dropout_4 (Dropout)         (None, 128)               0         \n",
            "                                                                 \n",
            " dense_9 (Dense)             (None, 1)                 129       \n",
            "                                                                 \n",
            "=================================================================\n",
            "Total params: 205,761\n",
            "Trainable params: 205,761\n",
            "Non-trainable params: 0\n",
            "_________________________________________________________________\n"
          ]
        }
      ]
    },
    {
      "cell_type": "code",
      "source": [
        "# GAN\n",
        "\n",
        "def build_gan(z_dim, img_shape) :\n",
        "  generator = build_generator(z_dim, img_shape)\n",
        "  discriminator = build_disc(img_shape)\n",
        "  z = layers.Input(shape = [z_dim])\n",
        "  fake_img = generator(z)\n",
        "  logit = discriminator(fake_img)\n",
        "  return models.Model(z, logit, name = 'GAN')\n",
        "\n",
        "gan = build_gan(128,(32,32,3))\n",
        "gan.summary()"
      ],
      "metadata": {
        "colab": {
          "base_uri": "https://localhost:8080/"
        },
        "id": "m4XsmlxFgeBt",
        "outputId": "f2784092-38d7-43f8-9ccb-af68afeb4173"
      },
      "execution_count": null,
      "outputs": [
        {
          "output_type": "stream",
          "name": "stdout",
          "text": [
            "Model: \"GAN\"\n",
            "_________________________________________________________________\n",
            " Layer (type)                Output Shape              Param #   \n",
            "=================================================================\n",
            " input_16 (InputLayer)       [(None, 128)]             0         \n",
            "                                                                 \n",
            " Generator (Functional)      (None, 32, 32, 3)         67747     \n",
            "                                                                 \n",
            " Discriminator (Functional)  (None, 1)                 267489    \n",
            "                                                                 \n",
            "=================================================================\n",
            "Total params: 335,236\n",
            "Trainable params: 335,188\n",
            "Non-trainable params: 48\n",
            "_________________________________________________________________\n"
          ]
        }
      ]
    },
    {
      "cell_type": "code",
      "source": [
        "import matplotlib.pyplot as plt\n",
        "z = tf.random.normal([1,64])\n",
        "fake_img = g.predict(z)\n",
        "print(z.shape, fake_img.shape)\n",
        "plt.imshow(fake_img[0,:,:,0], cmap = 'gray')\n",
        "plt.axis('off')\n",
        "plt.show()\n",
        "logit = d.predict(fake_img)\n",
        "print(logit)"
      ],
      "metadata": {
        "id": "x1gA41Sq0hfM",
        "colab": {
          "base_uri": "https://localhost:8080/",
          "height": 285
        },
        "outputId": "23b1d80b-4043-4472-8d15-f933aad1ef54"
      },
      "execution_count": null,
      "outputs": [
        {
          "output_type": "stream",
          "name": "stdout",
          "text": [
            "(1, 64) (1, 28, 28, 1)\n"
          ]
        },
        {
          "output_type": "display_data",
          "data": {
            "text/plain": [
              "<Figure size 432x288 with 1 Axes>"
            ],
            "image/png": "[encoded data removed]"
          },
          "metadata": {
            "needs_background": "light"
          }
        },
        {
          "output_type": "stream",
          "name": "stdout",
          "text": [
            "[[0.3562515]]\n"
          ]
        }
      ]
    },
    {
      "cell_type": "code",
      "source": [
        "\n"
      ],
      "metadata": {
        "id": "yYNlwoW10hhO"
      },
      "execution_count": null,
      "outputs": []
    },
    {
      "cell_type": "markdown",
      "source": [
        "### **| 학습**\n",
        "<p  align='center'>\n",
        "<img src ='https://github.com/yebiny/SkillTreePython-DeepLearning/blob/main/imgs/ch0403-01.PNG?raw=true' width=600>\n",
        "</p>"
      ],
      "metadata": {
        "id": "MF-TIS4sz33n"
      }
    },
    {
      "cell_type": "code",
      "execution_count": null,
      "metadata": {
        "id": "xiAiqtvxjnyx"
      },
      "outputs": [],
      "source": [
        ""
      ]
    },
    {
      "cell_type": "code",
      "execution_count": null,
      "metadata": {
        "id": "Hq-gEQ_0jb7Q"
      },
      "outputs": [],
      "source": [
        ""
      ]
    },
    {
      "cell_type": "code",
      "execution_count": null,
      "metadata": {
        "id": "_03gyRv4EiBd"
      },
      "outputs": [],
      "source": [
        ""
      ]
    },
    {
      "cell_type": "code",
      "execution_count": null,
      "metadata": {
        "id": "z63QfQEPOoiR"
      },
      "outputs": [],
      "source": [
        ""
      ]
    },
    {
      "cell_type": "code",
      "execution_count": null,
      "metadata": {
        "id": "dnWu5rT8khwc"
      },
      "outputs": [],
      "source": [
        ""
      ]
    },
    {
      "cell_type": "code",
      "execution_count": null,
      "metadata": {
        "id": "h7YYGP-tpUUd"
      },
      "outputs": [],
      "source": [
        ""
      ]
    },
    {
      "cell_type": "code",
      "execution_count": null,
      "metadata": {
        "id": "pWj4IvnQyj5d"
      },
      "outputs": [],
      "source": [
        ""
      ]
    },
    {
      "cell_type": "code",
      "execution_count": null,
      "metadata": {
        "id": "60LsTCyMknNV"
      },
      "outputs": [],
      "source": [
        ""
      ]
    },
    {
      "cell_type": "code",
      "execution_count": null,
      "metadata": {
        "id": "SpZdXBDxndaQ"
      },
      "outputs": [],
      "source": [
        ""
      ]
    },
    {
      "cell_type": "code",
      "execution_count": null,
      "metadata": {
        "id": "eLMZIDHw_wkR"
      },
      "outputs": [],
      "source": [
        ""
      ]
    }
  ],
  "metadata": {
    "accelerator": "GPU",
    "colab": {
      "collapsed_sections": [],
      "machine_shape": "hm",
      "name": "ch04_03_Generative_Model-DCGAN.ipynb",
      "provenance": [],
      "include_colab_link": true
    },
    "gpuClass": "standard",
    "kernelspec": {
      "display_name": "Python 3",
      "name": "python3"
    },
    "language_info": {
      "name": "python"
    }
  },
  "nbformat": 4,
  "nbformat_minor": 0
}