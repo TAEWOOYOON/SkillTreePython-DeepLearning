{
  "cells": [
    {
      "cell_type": "markdown",
      "metadata": {
        "id": "view-in-github",
        "colab_type": "text"
      },
      "source": [
        "<a href=\"https://colab.research.google.com/github/TAEWOOYOON/SkillTreePython-DeepLearning/blob/main/02.%EC%BC%80%EB%9D%BC%EC%8A%A4_%EC%B0%BD%EC%8B%9C%EC%9E%90%EC%97%90%EA%B2%8C_%EB%B0%B0%EC%9A%B0%EB%8A%94_%EB%94%A5%EB%9F%AC%EB%8B%9D/6_4_sequence_processing_with_convnets.ipynb\" target=\"_parent\"><img src=\"https://colab.research.google.com/assets/colab-badge.svg\" alt=\"Open In Colab\"/></a>"
      ]
    },
    {
      "cell_type": "markdown",
      "source": [
        "# 세팅\n",
        "---"
      ],
      "metadata": {
        "id": "16m7QEsKlcQW"
      }
    },
    {
      "cell_type": "markdown",
      "source": [
        "```\n",
        "! git clone https://github.com/yebiny/SkillTreePython-DeepLearning\n",
        "```"
      ],
      "metadata": {
        "id": "r6RjNGnQY3wc"
      }
    },
    {
      "cell_type": "code",
      "execution_count": 1,
      "metadata": {
        "id": "lqjonRF6KbGY",
        "colab": {
          "base_uri": "https://localhost:8080/"
        },
        "outputId": "93839c68-1d15-4f89-d788-f39d379264d0"
      },
      "outputs": [
        {
          "output_type": "stream",
          "name": "stdout",
          "text": [
            "Cloning into 'SkillTreePython-DeepLearning'...\n",
            "remote: Enumerating objects: 794, done.\u001b[K\n",
            "remote: Counting objects: 100% (367/367), done.\u001b[K\n",
            "remote: Compressing objects: 100% (171/171), done.\u001b[K\n",
            "remote: Total 794 (delta 222), reused 323 (delta 195), pack-reused 427\u001b[K\n",
            "Receiving objects: 100% (794/794), 41.83 MiB | 16.56 MiB/s, done.\n",
            "Resolving deltas: 100% (415/415), done.\n"
          ]
        }
      ],
      "source": [
        "! git clone https://github.com/yebiny/SkillTreePython-DeepLearning"
      ]
    },
    {
      "cell_type": "markdown",
      "source": [
        "```\n",
        "import sys\n",
        "sys.path.append('/content/SkillTreePython-DeepLearning/scripts')\n",
        "from import_lib import *\n",
        "from plot_result import *\n",
        "```"
      ],
      "metadata": {
        "id": "iDliBVhLlYiY"
      }
    },
    {
      "cell_type": "code",
      "source": [
        "import sys\n",
        "sys.path.append('/content/SkillTreePython-DeepLearning/scripts')\n",
        "from import_lib import *\n",
        "from plot_result import *"
      ],
      "metadata": {
        "id": "InMFlAq4Xwge"
      },
      "execution_count": 2,
      "outputs": []
    },
    {
      "cell_type": "markdown",
      "metadata": {
        "id": "t-vYBogEYVEf"
      },
      "source": [
        "# 컨브넷을 사용한 시퀀스 처리\n",
        "\n",
        "이 노트북은 [케라스 창시자에게 배우는 딥러닝](https://tensorflow.blog/%EC%BC%80%EB%9D%BC%EC%8A%A4-%EB%94%A5%EB%9F%AC%EB%8B%9D/) 책의 6장 4절의 코드 예제입니다. 책에는 더 많은 내용과 그림이 있습니다. 이 노트북에는 소스 코드에 관련된 설명만 포함합니다.\n",
        "\n",
        "\n",
        "## 1D 컨브넷 구현\n",
        "\n",
        "케라스에서 1D 컨브넷은 `Conv1D` 층을 사용하여 구현합니다. `Conv1D`는 `Conv2D`와 인터페이스가 비슷합니다. `(samples, time, features)` 크기의 3D 텐서를 입력받고 비슷한 형태의 3D 텐서를 반환합니다. 합성곱 윈도우는 시간 축의 1D 윈도우입니다. 즉, 입력 텐서의 두 번째 축입니다.\n",
        "\n",
        "간단한 두 개 층으로 된 1D 컨브넷을 만들어 익숙한 IMDB 감성 분류 문제에 적용해 보죠.\n",
        "\n",
        "기억을 되살리기 위해 데이터를 로드하고 전처리하는 코드를 다시 보겠습니다:"
      ]
    },
    {
      "cell_type": "code",
      "execution_count": 3,
      "metadata": {
        "id": "O5SQypsoYVEg",
        "colab": {
          "base_uri": "https://localhost:8080/"
        },
        "outputId": "195eb63d-5237-4576-a1b6-83e9b0585065"
      },
      "outputs": [
        {
          "output_type": "stream",
          "name": "stdout",
          "text": [
            "데이터 로드...\n",
            "Downloading data from https://storage.googleapis.com/tensorflow/tf-keras-datasets/imdb.npz\n",
            "17465344/17464789 [==============================] - 0s 0us/step\n",
            "17473536/17464789 [==============================] - 0s 0us/step\n",
            "25000 훈련 시퀀스\n",
            "25000 테스트 시퀀스\n",
            "시퀀스 패딩 (samples x time)\n",
            "x_train 크기: (25000, 500)\n",
            "x_test 크기: (25000, 500)\n"
          ]
        }
      ],
      "source": [
        "max_features = 10000  # 특성으로 사용할 단어의 수\n",
        "max_len = 500  # 사용할 텍스트의 길이(가장 빈번한 max_features 개의 단어만 사용합니다)\n",
        "\n",
        "imdb = tf.keras.datasets.imdb\n",
        "print('데이터 로드...')\n",
        "(x_train, y_train), (x_test, y_test) = imdb.load_data(num_words=max_features)\n",
        "print(len(x_train), '훈련 시퀀스')\n",
        "print(len(x_test), '테스트 시퀀스')\n",
        "\n",
        "print('시퀀스 패딩 (samples x time)')\n",
        "x_train = preprocessing.sequence.pad_sequences(x_train, maxlen=max_len)\n",
        "x_test = preprocessing.sequence.pad_sequences(x_test, maxlen=max_len)\n",
        "print('x_train 크기:', x_train.shape)\n",
        "print('x_test 크기:', x_test.shape)"
      ]
    },
    {
      "cell_type": "markdown",
      "metadata": {
        "id": "I0ZzgHdlYVEh"
      },
      "source": [
        "1D 컨브넷은 5장에서 사용한 2D 컨브넷과 비슷한 방식으로 구성합니다. `Conv1D`와 `MaxPooling1D` 층을 쌓고 전역 풀링 층이나 `Flatten` 층으로 마칩니다. 이 구조는 3D 입력을 2D 출력으로 바꾸므로 분류나 회귀를 위해 모델에 하나 이상의 `Dense` 층을 추가할 수 있습니다.\n",
        "\n",
        "한 가지 다른 점은 1D 컨브넷에 큰 합성곱 윈도우를 사용할 수 있다는 것입니다. 2D 합성곱 층에서 3 × 3 합성곱 윈도우는 3 × 3 = 9 특성을 고려합니다. 하지만 1D 합성곱 층에서 크기 3인 합성곱 윈도우는 3개의 특성만 고려합니다. 그래서 1D 합성곱에 크기 7이나 9의 윈도우를 사용할 수 있습니다.\n",
        "\n",
        "다음은 IMDB 데이터셋을 위한 1D 컨브넷의 예입니다:"
      ]
    },
    {
      "cell_type": "code",
      "execution_count": 9,
      "metadata": {
        "id": "XgCE247VYVEi",
        "colab": {
          "base_uri": "https://localhost:8080/"
        },
        "outputId": "7e630c74-893d-45d5-bc7b-92981f817a18"
      },
      "outputs": [
        {
          "output_type": "stream",
          "name": "stdout",
          "text": [
            "Model: \"model_3\"\n",
            "_________________________________________________________________\n",
            " Layer (type)                Output Shape              Param #   \n",
            "=================================================================\n",
            " input_6 (InputLayer)        [(None, 500)]             0         \n",
            "                                                                 \n",
            " embedding_5 (Embedding)     (None, 500, 128)          1280000   \n",
            "                                                                 \n",
            " conv1d_6 (Conv1D)           (None, 494, 32)           28704     \n",
            "                                                                 \n",
            " max_pooling1d_2 (MaxPooling  (None, 98, 32)           0         \n",
            " 1D)                                                             \n",
            "                                                                 \n",
            " conv1d_7 (Conv1D)           (None, 92, 32)            7200      \n",
            "                                                                 \n",
            " global_average_pooling1d_2   (None, 32)               0         \n",
            " (GlobalAveragePooling1D)                                        \n",
            "                                                                 \n",
            " dense_2 (Dense)             (None, 1)                 33        \n",
            "                                                                 \n",
            "=================================================================\n",
            "Total params: 1,315,937\n",
            "Trainable params: 1,315,937\n",
            "Non-trainable params: 0\n",
            "_________________________________________________________________\n"
          ]
        }
      ],
      "source": [
        "x = layers.Input(shape = (max_len, ))\n",
        "y = layers.Embedding(max_features, 128)(x)\n",
        "y = layers.Conv1D(32,7, activation = 'relu')(y)\n",
        "y = layers.MaxPool1D(5)(y)\n",
        "y = layers.Conv1D(32,7, activation = 'relu')(y)\n",
        "y = layers.GlobalAveragePooling1D()(y)\n",
        "y = layers.Dense(1, activation = 'sigmoid')(y)  # 긍정/부정 클래스 예측\n",
        "\n",
        "model = models.Model(x,y)\n",
        "model.summary()"
      ]
    },
    {
      "cell_type": "code",
      "source": [
        "model.compile(optimizer = tf.keras.optimizers.RMSprop(learning_rate = 1e-4),\n",
        "              loss = 'binary_crossentropy',\n",
        "              metrics = ['acc'])\n",
        "history = model.fit(x_train, y_train, \n",
        "                    epochs = 20,\n",
        "                    batch_size = 128,\n",
        "                    validation_data = (x_test, y_test))\n",
        "plot_lcurve([history], ['conv1d'], ['g'], x_itv = 5)"
      ],
      "metadata": {
        "colab": {
          "base_uri": "https://localhost:8080/",
          "height": 1000
        },
        "id": "XCVktf0JIK_f",
        "outputId": "bd01e078-0cec-4e8a-eaf8-a98df7840588"
      },
      "execution_count": 10,
      "outputs": [
        {
          "output_type": "stream",
          "name": "stdout",
          "text": [
            "Epoch 1/20\n",
            "196/196 [==============================] - 16s 14ms/step - loss: 0.6902 - acc: 0.5700 - val_loss: 0.6825 - val_acc: 0.6812\n",
            "Epoch 2/20\n",
            "196/196 [==============================] - 2s 12ms/step - loss: 0.6543 - acc: 0.7248 - val_loss: 0.6168 - val_acc: 0.7572\n",
            "Epoch 3/20\n",
            "196/196 [==============================] - 2s 12ms/step - loss: 0.5513 - acc: 0.8010 - val_loss: 0.5020 - val_acc: 0.8172\n",
            "Epoch 4/20\n",
            "196/196 [==============================] - 2s 12ms/step - loss: 0.4321 - acc: 0.8495 - val_loss: 0.4102 - val_acc: 0.8428\n",
            "Epoch 5/20\n",
            "196/196 [==============================] - 3s 16ms/step - loss: 0.3533 - acc: 0.8732 - val_loss: 0.3642 - val_acc: 0.8567\n",
            "Epoch 6/20\n",
            "196/196 [==============================] - 3s 15ms/step - loss: 0.3085 - acc: 0.8876 - val_loss: 0.3389 - val_acc: 0.8670\n",
            "Epoch 7/20\n",
            "196/196 [==============================] - 2s 12ms/step - loss: 0.2790 - acc: 0.8976 - val_loss: 0.3263 - val_acc: 0.8722\n",
            "Epoch 8/20\n",
            "196/196 [==============================] - 2s 12ms/step - loss: 0.2575 - acc: 0.9076 - val_loss: 0.3184 - val_acc: 0.8740\n",
            "Epoch 9/20\n",
            "196/196 [==============================] - 2s 12ms/step - loss: 0.2408 - acc: 0.9130 - val_loss: 0.3124 - val_acc: 0.8751\n",
            "Epoch 10/20\n",
            "196/196 [==============================] - 3s 16ms/step - loss: 0.2269 - acc: 0.9180 - val_loss: 0.3128 - val_acc: 0.8759\n",
            "Epoch 11/20\n",
            "196/196 [==============================] - 3s 16ms/step - loss: 0.2147 - acc: 0.9227 - val_loss: 0.3197 - val_acc: 0.8726\n",
            "Epoch 12/20\n",
            "196/196 [==============================] - 2s 12ms/step - loss: 0.2050 - acc: 0.9274 - val_loss: 0.3151 - val_acc: 0.8756\n",
            "Epoch 13/20\n",
            "196/196 [==============================] - 3s 16ms/step - loss: 0.1954 - acc: 0.9318 - val_loss: 0.3195 - val_acc: 0.8745\n",
            "Epoch 14/20\n",
            "196/196 [==============================] - 3s 16ms/step - loss: 0.1875 - acc: 0.9340 - val_loss: 0.3236 - val_acc: 0.8736\n",
            "Epoch 15/20\n",
            "196/196 [==============================] - 3s 16ms/step - loss: 0.1802 - acc: 0.9368 - val_loss: 0.3256 - val_acc: 0.8726\n",
            "Epoch 16/20\n",
            "196/196 [==============================] - 3s 16ms/step - loss: 0.1733 - acc: 0.9403 - val_loss: 0.3295 - val_acc: 0.8722\n",
            "Epoch 17/20\n",
            "196/196 [==============================] - 3s 15ms/step - loss: 0.1670 - acc: 0.9426 - val_loss: 0.3567 - val_acc: 0.8646\n",
            "Epoch 18/20\n",
            "196/196 [==============================] - 3s 16ms/step - loss: 0.1614 - acc: 0.9440 - val_loss: 0.3606 - val_acc: 0.8642\n",
            "Epoch 19/20\n",
            "196/196 [==============================] - 3s 15ms/step - loss: 0.1560 - acc: 0.9463 - val_loss: 0.3489 - val_acc: 0.8691\n",
            "Epoch 20/20\n",
            "196/196 [==============================] - 3s 16ms/step - loss: 0.1511 - acc: 0.9482 - val_loss: 0.3545 - val_acc: 0.8680\n"
          ]
        },
        {
          "output_type": "display_data",
          "data": {
            "text/plain": [
              "<Figure size 864x288 with 2 Axes>"
            ],
            "image/png": "[encoded data removed]"
          },
          "metadata": {
            "needs_background": "light"
          }
        }
      ]
    },
    {
      "cell_type": "markdown",
      "metadata": {
        "id": "7h3UU5eRYVEi"
      },
      "source": [
        "그림 6-27과 6-28은 훈련과 검증 결과를 보여줍니다. 검증 정확도는 LSTM보다 조금 낮지만 CPU나 GPU에서 더 빠르게 실행됩니다(속도 향상은 환경에 따라 많이 다릅니다). 여기에서 적절한 에포크 수(4개)로 모델을 다시 훈련하고 테스트 세트에서 확인할 수 있습니다. 이 예는 단어 수준의 감성 분류 작업에 순환 네트워크를 대신하여 빠르고 경제적인 1D 컨브넷을 사용할 수 있음을 보여줍니다."
      ]
    },
    {
      "cell_type": "markdown",
      "metadata": {
        "id": "AwQcgStyYVEk"
      },
      "source": [
        "## CNN과 RNN을 연결하여 긴 시퀀스를 처리하기\n",
        "\n",
        "1D 컨브넷이 입력 패치를 독립적으로 처리하기 때문에 RNN과 달리 (합성곱 윈도우 크기의 범위를 넘어선) 타임스텝의 순서에 민감하지 않습니다. 물론 장기간 패턴을 인식하기 위해 많은 합성곱 층과 풀링 층을 쌓을 수 있습니다. 상위 층은 원본 입력에서 긴 범위를 보게 될 것입니다. 이런 방법은 순서를 감지하기엔 부족합니다. 온도 예측 문제에 1D 컨브넷을 적용하여 이를 확인해 보겠습니다. 이 문제는 순서를 감지해야 좋은 예측을 만들어 낼 수 있습니다. 다음은 이전에 정의한 float_data, train_gen, val_gen, val_steps를 다시 사용합니다:"
      ]
    },
    {
      "cell_type": "markdown",
      "metadata": {
        "id": "P1AoQ3LlYVEm"
      },
      "source": [
        "이 기법이 연구 논문이나 실전 애플리케이션에 자주 등장하지는 않습니다. 아마도 널리 알려지지 않았기 때문일 것입니다. 이 방법은 효과적이므로 많이 사용되기를 바랍니다. 온도 예측 문제에 적용해 보죠. 이 전략은 훨씬 긴 시퀀스를 다룰 수 있으므로 더 오래전 데이터를 바라보거나(데이터 제너레이터의 `lookback` 매개변수를 증가시킵니다), 시계열 데이터를 더 촘촘히 바라볼 수 있습니다(제너레이터의 `step` 매개변수를 감소시킵니다). 여기서는 그냥 `step`을 절반으로 줄여서 사용하겠습니다. 온도 데이터가 30분마다 1 포인트씩 샘플링되기 때문에 결과 시계열 데이터는 두 배로 길어집니다. 앞서 정의한 제너레이터 함수를 다시 사용합니다."
      ]
    },
    {
      "cell_type": "markdown",
      "metadata": {
        "id": "DnL6DVjTYVEn"
      },
      "source": [
        "이 모델은 두 개의 `Conv1D` 층 다음에 `GRU` 층을 놓았습니다:"
      ]
    },
    {
      "cell_type": "code",
      "execution_count": null,
      "metadata": {
        "id": "BqI8oWI6YVEn"
      },
      "outputs": [],
      "source": [
        ""
      ]
    },
    {
      "cell_type": "markdown",
      "metadata": {
        "id": "iBcUywmIYVEo"
      },
      "source": [
        "검증 손실로 비교해 보면 이 설정은 규제가 있는 GRU 모델만큼 좋지는 않습니다. 하지만 훨씬 빠르기 때문에 데이터를 두 배 더 많이 처리할 수 있습니다. 여기서는 큰 도움이 안 되었지만 다른 데이터셋에서는 중요할 수 있습니다."
      ]
    },
    {
      "cell_type": "markdown",
      "metadata": {
        "id": "GGnuZYu7YVEo"
      },
      "source": [
        "## 정리\n",
        "\n",
        "다음은 이번 절에서 배운 것들입니다.\n",
        "\n",
        "* 2D 컨브넷이 2D 공간의 시각적 패턴을 잘 처리하는 것과 같이 1D 컨브넷은 시간에 따른 패턴을 잘 처리합니다. 1D 컨브넷은 특정 자연어 처리 같은 일부 문제에 RNN을 대신할 수 있는 빠른 모델입니다.\n",
        "* 전형적으로 1D 컨브넷은 컴퓨터 비전 분야의 2D 컨브넷과 비슷하게 구성합니다. `Conv1D` 층과 `Max-Pooling1D` 층을 쌓고 마지막에 전역 풀링 연산이나 `Flatten` 층을 둡니다.\n",
        "* RNN으로 아주 긴 시퀀스를 처리하려면 계산 비용이 많이 듭니다. 1D 컨브넷은 비용이 적게 듭니다. 따라서 1D 컨브넷을 RNN 이전의 전처리 단계로 사용하는 것은 좋은 생각입니다. 시퀀스 길이를 줄이고 RNN이 처리할 유용한 표현을 추출해 줄 것입니다.\n",
        "\n",
        "유용하고 중요한 개념이지만 여기서 다루지 않은 것은 팽창 커널을 사용한 1D 합성곱입니다."
      ]
    },
    {
      "cell_type": "code",
      "source": [
        "x = layers.Input(shape = (max_len, ))\n",
        "y = layers.Embedding(max_features, 128)(x)\n",
        "y = layers.Conv1D(32,7, activation = 'relu')(y)\n",
        "y = layers.MaxPool1D(5)(y)\n",
        "y = layers.Conv1D(32,7, activation = 'relu')(y)\n",
        "y = layers.GRU(32,dropout = 0.2)(y)\n",
        "y = layers.Dense(1, activation = 'sigmoid')(y)  # 긍정/부정 클래스 예측\n",
        "\n",
        "model = models.Model(x,y)\n",
        "model.summary()\n",
        "model.compile(optimizer = tf.keras.optimizers.RMSprop(learning_rate = 1e-4),\n",
        "              loss = 'binary_crossentropy',\n",
        "              metrics = ['acc'])\n",
        "history = model.fit(x_train, y_train, \n",
        "                    epochs = 20,\n",
        "                    batch_size = 128,\n",
        "                    validation_data = (x_test, y_test))\n",
        "plot_lcurve([history], ['conv1d'], ['g'], x_itv = 5)"
      ],
      "metadata": {
        "id": "mAIj-EXewBjh",
        "colab": {
          "base_uri": "https://localhost:8080/",
          "height": 1000
        },
        "outputId": "6dddef82-fea6-4fcc-b742-860761d9e9ec"
      },
      "execution_count": 12,
      "outputs": [
        {
          "output_type": "stream",
          "name": "stdout",
          "text": [
            "Model: \"model_5\"\n",
            "_________________________________________________________________\n",
            " Layer (type)                Output Shape              Param #   \n",
            "=================================================================\n",
            " input_8 (InputLayer)        [(None, 500)]             0         \n",
            "                                                                 \n",
            " embedding_7 (Embedding)     (None, 500, 128)          1280000   \n",
            "                                                                 \n",
            " conv1d_10 (Conv1D)          (None, 494, 32)           28704     \n",
            "                                                                 \n",
            " max_pooling1d_4 (MaxPooling  (None, 98, 32)           0         \n",
            " 1D)                                                             \n",
            "                                                                 \n",
            " conv1d_11 (Conv1D)          (None, 92, 32)            7200      \n",
            "                                                                 \n",
            " gru_1 (GRU)                 (None, 32)                6336      \n",
            "                                                                 \n",
            " dense_4 (Dense)             (None, 1)                 33        \n",
            "                                                                 \n",
            "=================================================================\n",
            "Total params: 1,322,273\n",
            "Trainable params: 1,322,273\n",
            "Non-trainable params: 0\n",
            "_________________________________________________________________\n",
            "Epoch 1/20\n",
            "196/196 [==============================] - 7s 21ms/step - loss: 0.6914 - acc: 0.5430 - val_loss: 0.6870 - val_acc: 0.6308\n",
            "Epoch 2/20\n",
            "196/196 [==============================] - 3s 17ms/step - loss: 0.6567 - acc: 0.6755 - val_loss: 0.6068 - val_acc: 0.7060\n",
            "Epoch 3/20\n",
            "196/196 [==============================] - 3s 17ms/step - loss: 0.4985 - acc: 0.7729 - val_loss: 0.4339 - val_acc: 0.7983\n",
            "Epoch 4/20\n",
            "196/196 [==============================] - 4s 19ms/step - loss: 0.3332 - acc: 0.8565 - val_loss: 0.3480 - val_acc: 0.8488\n",
            "Epoch 5/20\n",
            "196/196 [==============================] - 3s 17ms/step - loss: 0.2653 - acc: 0.8914 - val_loss: 0.3376 - val_acc: 0.8581\n",
            "Epoch 6/20\n",
            "196/196 [==============================] - 4s 19ms/step - loss: 0.2245 - acc: 0.9146 - val_loss: 0.3371 - val_acc: 0.8570\n",
            "Epoch 7/20\n",
            "196/196 [==============================] - 4s 19ms/step - loss: 0.1972 - acc: 0.9276 - val_loss: 0.3465 - val_acc: 0.8561\n",
            "Epoch 8/20\n",
            "196/196 [==============================] - 4s 19ms/step - loss: 0.1734 - acc: 0.9381 - val_loss: 0.3311 - val_acc: 0.8660\n",
            "Epoch 9/20\n",
            "196/196 [==============================] - 3s 17ms/step - loss: 0.1519 - acc: 0.9471 - val_loss: 0.4247 - val_acc: 0.8373\n",
            "Epoch 10/20\n",
            "196/196 [==============================] - 4s 19ms/step - loss: 0.1353 - acc: 0.9538 - val_loss: 0.3554 - val_acc: 0.8631\n",
            "Epoch 11/20\n",
            "196/196 [==============================] - 4s 19ms/step - loss: 0.1204 - acc: 0.9610 - val_loss: 0.3734 - val_acc: 0.8605\n",
            "Epoch 12/20\n",
            "196/196 [==============================] - 4s 19ms/step - loss: 0.1058 - acc: 0.9662 - val_loss: 0.4416 - val_acc: 0.8414\n",
            "Epoch 13/20\n",
            "196/196 [==============================] - 3s 17ms/step - loss: 0.0931 - acc: 0.9703 - val_loss: 0.4102 - val_acc: 0.8548\n",
            "Epoch 14/20\n",
            "196/196 [==============================] - 4s 19ms/step - loss: 0.0821 - acc: 0.9752 - val_loss: 0.4901 - val_acc: 0.8379\n",
            "Epoch 15/20\n",
            "196/196 [==============================] - 3s 17ms/step - loss: 0.0724 - acc: 0.9775 - val_loss: 0.4557 - val_acc: 0.8483\n",
            "Epoch 16/20\n",
            "196/196 [==============================] - 3s 17ms/step - loss: 0.0632 - acc: 0.9814 - val_loss: 0.5120 - val_acc: 0.8416\n",
            "Epoch 17/20\n",
            "196/196 [==============================] - 4s 19ms/step - loss: 0.0541 - acc: 0.9846 - val_loss: 0.5210 - val_acc: 0.8365\n",
            "Epoch 18/20\n",
            "196/196 [==============================] - 4s 19ms/step - loss: 0.0464 - acc: 0.9876 - val_loss: 0.5113 - val_acc: 0.8455\n",
            "Epoch 19/20\n",
            "196/196 [==============================] - 4s 19ms/step - loss: 0.0412 - acc: 0.9898 - val_loss: 0.5513 - val_acc: 0.8380\n",
            "Epoch 20/20\n",
            "196/196 [==============================] - 3s 17ms/step - loss: 0.0346 - acc: 0.9919 - val_loss: 0.5857 - val_acc: 0.8351\n"
          ]
        },
        {
          "output_type": "display_data",
          "data": {
            "text/plain": [
              "<Figure size 864x288 with 2 Axes>"
            ],
            "image/png": "[encoded data removed]"
          },
          "metadata": {
            "needs_background": "light"
          }
        }
      ]
    },
    {
      "cell_type": "code",
      "source": [
        "x = layers.Input(shape = (max_len, ))\n",
        "y = layers.Embedding(max_features, 128)(x)\n",
        "\n",
        "y1 = layers.Conv1D(32,7, activation = 'relu')(y)\n",
        "y1= layers.MaxPool1D(5)(y1)\n",
        "\n",
        "y2 = layers.Conv1D(32,7, activation = 'relu')(y)\n",
        "y2 = layers.MaxPool1D(5)(y2)\n",
        "\n",
        "y = layers.concatenate([y1,y2])\n",
        "y = layers.GlobalAveragePooling1D()(y)\n",
        "y = layers.Dense(1, activation = 'sigmoid')(y)  # 긍정/부정 클래스 예측\n",
        "\n",
        "model = models.Model(x,y)\n",
        "model.summary()\n",
        "\n",
        "model.compile(optimizer = tf.keras.optimizers.RMSprop(learning_rate = 1e-4),\n",
        "              loss = 'binary_crossentropy',\n",
        "              metrics = ['acc'])\n",
        "history = model.fit(x_train, y_train, \n",
        "                    epochs = 20,\n",
        "                    batch_size = 128,\n",
        "                    validation_data = (x_test, y_test))\n",
        "plot_lcurve([history], ['conv1d_parallel'], ['g'], x_itv = 5)"
      ],
      "metadata": {
        "colab": {
          "base_uri": "https://localhost:8080/",
          "height": 1000
        },
        "id": "F2AzuUthMNkF",
        "outputId": "b7383815-5370-4c63-da45-544e996fbe23"
      },
      "execution_count": 14,
      "outputs": [
        {
          "output_type": "stream",
          "name": "stdout",
          "text": [
            "Model: \"model_6\"\n",
            "__________________________________________________________________________________________________\n",
            " Layer (type)                   Output Shape         Param #     Connected to                     \n",
            "==================================================================================================\n",
            " input_10 (InputLayer)          [(None, 500)]        0           []                               \n",
            "                                                                                                  \n",
            " embedding_9 (Embedding)        (None, 500, 128)     1280000     ['input_10[0][0]']               \n",
            "                                                                                                  \n",
            " conv1d_13 (Conv1D)             (None, 494, 32)      28704       ['embedding_9[0][0]']            \n",
            "                                                                                                  \n",
            " conv1d_14 (Conv1D)             (None, 494, 32)      28704       ['embedding_9[0][0]']            \n",
            "                                                                                                  \n",
            " max_pooling1d_5 (MaxPooling1D)  (None, 98, 32)      0           ['conv1d_13[0][0]']              \n",
            "                                                                                                  \n",
            " max_pooling1d_6 (MaxPooling1D)  (None, 98, 32)      0           ['conv1d_14[0][0]']              \n",
            "                                                                                                  \n",
            " concatenate (Concatenate)      (None, 98, 64)       0           ['max_pooling1d_5[0][0]',        \n",
            "                                                                  'max_pooling1d_6[0][0]']        \n",
            "                                                                                                  \n",
            " global_average_pooling1d_3 (Gl  (None, 64)          0           ['concatenate[0][0]']            \n",
            " obalAveragePooling1D)                                                                            \n",
            "                                                                                                  \n",
            " dense_5 (Dense)                (None, 1)            65          ['global_average_pooling1d_3[0][0\n",
            "                                                                 ]']                              \n",
            "                                                                                                  \n",
            "==================================================================================================\n",
            "Total params: 1,337,473\n",
            "Trainable params: 1,337,473\n",
            "Non-trainable params: 0\n",
            "__________________________________________________________________________________________________\n",
            "Epoch 1/20\n",
            "196/196 [==============================] - 5s 21ms/step - loss: 0.6893 - acc: 0.5817 - val_loss: 0.6829 - val_acc: 0.7026\n",
            "Epoch 2/20\n",
            "196/196 [==============================] - 4s 18ms/step - loss: 0.6680 - acc: 0.7182 - val_loss: 0.6522 - val_acc: 0.7320\n",
            "Epoch 3/20\n",
            "196/196 [==============================] - 4s 21ms/step - loss: 0.6226 - acc: 0.7757 - val_loss: 0.5989 - val_acc: 0.7841\n",
            "Epoch 4/20\n",
            "196/196 [==============================] - 4s 19ms/step - loss: 0.5585 - acc: 0.8103 - val_loss: 0.5358 - val_acc: 0.8098\n",
            "Epoch 5/20\n",
            "196/196 [==============================] - 4s 19ms/step - loss: 0.4889 - acc: 0.8360 - val_loss: 0.4747 - val_acc: 0.8315\n",
            "Epoch 6/20\n",
            "196/196 [==============================] - 4s 18ms/step - loss: 0.4287 - acc: 0.8567 - val_loss: 0.4250 - val_acc: 0.8472\n",
            "Epoch 7/20\n",
            "196/196 [==============================] - 4s 20ms/step - loss: 0.3802 - acc: 0.8708 - val_loss: 0.3883 - val_acc: 0.8570\n",
            "Epoch 8/20\n",
            "196/196 [==============================] - 4s 18ms/step - loss: 0.3437 - acc: 0.8802 - val_loss: 0.3618 - val_acc: 0.8640\n",
            "Epoch 9/20\n",
            "196/196 [==============================] - 4s 18ms/step - loss: 0.3161 - acc: 0.8874 - val_loss: 0.3427 - val_acc: 0.8692\n",
            "Epoch 10/20\n",
            "196/196 [==============================] - 4s 21ms/step - loss: 0.2953 - acc: 0.8941 - val_loss: 0.3296 - val_acc: 0.8724\n",
            "Epoch 11/20\n",
            "196/196 [==============================] - 4s 20ms/step - loss: 0.2787 - acc: 0.9001 - val_loss: 0.3200 - val_acc: 0.8758\n",
            "Epoch 12/20\n",
            "196/196 [==============================] - 4s 18ms/step - loss: 0.2650 - acc: 0.9050 - val_loss: 0.3115 - val_acc: 0.8799\n",
            "Epoch 13/20\n",
            "196/196 [==============================] - 4s 20ms/step - loss: 0.2531 - acc: 0.9092 - val_loss: 0.3063 - val_acc: 0.8800\n",
            "Epoch 14/20\n",
            "196/196 [==============================] - 4s 18ms/step - loss: 0.2431 - acc: 0.9126 - val_loss: 0.3020 - val_acc: 0.8814\n",
            "Epoch 15/20\n",
            "196/196 [==============================] - 4s 20ms/step - loss: 0.2340 - acc: 0.9168 - val_loss: 0.2986 - val_acc: 0.8812\n",
            "Epoch 16/20\n",
            "196/196 [==============================] - 4s 20ms/step - loss: 0.2260 - acc: 0.9193 - val_loss: 0.2984 - val_acc: 0.8836\n",
            "Epoch 17/20\n",
            "196/196 [==============================] - 4s 20ms/step - loss: 0.2188 - acc: 0.9210 - val_loss: 0.2949 - val_acc: 0.8835\n",
            "Epoch 18/20\n",
            "196/196 [==============================] - 4s 20ms/step - loss: 0.2122 - acc: 0.9242 - val_loss: 0.2939 - val_acc: 0.8836\n",
            "Epoch 19/20\n",
            "196/196 [==============================] - 4s 20ms/step - loss: 0.2062 - acc: 0.9261 - val_loss: 0.2944 - val_acc: 0.8836\n",
            "Epoch 20/20\n",
            "196/196 [==============================] - 4s 20ms/step - loss: 0.2005 - acc: 0.9285 - val_loss: 0.2982 - val_acc: 0.8829\n"
          ]
        },
        {
          "output_type": "display_data",
          "data": {
            "text/plain": [
              "<Figure size 864x288 with 2 Axes>"
            ],
            "image/png": "[encoded data removed]"
          },
          "metadata": {
            "needs_background": "light"
          }
        }
      ]
    },
    {
      "cell_type": "markdown",
      "source": [
        "## 시계열 데이터 분석\n",
        "---"
      ],
      "metadata": {
        "id": "BiCJuR7ywB4z"
      }
    },
    {
      "cell_type": "code",
      "source": [
        "! git clone https://github.com/gilbutITbook/006975.git"
      ],
      "metadata": {
        "colab": {
          "base_uri": "https://localhost:8080/"
        },
        "id": "XPM8ktY_wDXG",
        "outputId": "87b683f2-1212-4516-a2c6-7cc2f4c264dc"
      },
      "execution_count": 15,
      "outputs": [
        {
          "output_type": "stream",
          "name": "stdout",
          "text": [
            "Cloning into '006975'...\n",
            "remote: Enumerating objects: 102534, done.\u001b[K\n",
            "Receiving objects:  98% (101184/102534), 152.30 MiB | 16.89 MiB/s   \n",
            "remote: Total 102534 (delta 0), reused 0 (delta 0), pack-reused 102534\u001b[K\n",
            "Receiving objects: 100% (102534/102534), 202.75 MiB | 14.80 MiB/s, done.\n",
            "Resolving deltas: 100% (11/11), done.\n",
            "Checking out files: 100% (104042/104042), done.\n"
          ]
        }
      ]
    },
    {
      "cell_type": "code",
      "source": [
        "data_dir = '/content/006975/datasets/jena_climate/'\n",
        "fname = os.path.join(data_dir, 'jena_climate_2009_2016.csv')\n",
        "\n",
        "f = open(fname)\n",
        "data = f.read()\n",
        "f.close()\n",
        "\n",
        "lines = data.split('\\n')\n",
        "header = lines[0].split(',')\n",
        "lines = lines[1:]\n",
        "\n",
        "print(header)\n",
        "print(len(lines))\n",
        "\n",
        "float_data = np.zeros((len(lines), len(header) - 1))\n",
        "for i, line in enumerate(lines):\n",
        "    values = [float(x) for x in line.split(',')[1:]]\n",
        "    float_data[i, :] = values\n",
        "\n",
        "mean = float_data[:200000].mean(axis=0)\n",
        "float_data -= mean\n",
        "std = float_data[:200000].std(axis=0)\n",
        "float_data /= std\n",
        "\n",
        "\n",
        "def generator(data, lookback, delay, min_index, max_index,\n",
        "              shuffle=False, batch_size=128, step=6):\n",
        "    if max_index is None:\n",
        "        max_index = len(data) - delay - 1\n",
        "    i = min_index + lookback\n",
        "    while 1:\n",
        "        if shuffle:\n",
        "            rows = np.random.randint(\n",
        "                min_index + lookback, max_index, size=batch_size)\n",
        "        else:\n",
        "            if i + batch_size >= max_index:\n",
        "                i = min_index + lookback\n",
        "            rows = np.arange(i, min(i + batch_size, max_index))\n",
        "            i += len(rows)\n",
        "\n",
        "        samples = np.zeros((len(rows),\n",
        "                           lookback // step,\n",
        "                           data.shape[-1]))\n",
        "        targets = np.zeros((len(rows),))\n",
        "        for j, row in enumerate(rows):\n",
        "            indices = range(rows[j] - lookback, rows[j], step)\n",
        "            samples[j] = data[indices]\n",
        "            targets[j] = data[rows[j] + delay][1]\n",
        "        yield samples, targets\n",
        "\n",
        "lookback = 1440\n",
        "step = 6\n",
        "delay = 144\n",
        "batch_size = 128\n",
        "\n",
        "train_gen = generator(float_data,\n",
        "                      lookback=lookback,\n",
        "                      delay=delay,\n",
        "                      min_index=0,\n",
        "                      max_index=200000,\n",
        "                      shuffle=True,\n",
        "                      step=step, \n",
        "                      batch_size=batch_size)\n",
        "val_gen = generator(float_data,\n",
        "                    lookback=lookback,\n",
        "                    delay=delay,\n",
        "                    min_index=200001,\n",
        "                    max_index=300000,\n",
        "                    step=step,\n",
        "                    batch_size=batch_size)\n",
        "test_gen = generator(float_data,\n",
        "                     lookback=lookback,\n",
        "                     delay=delay,\n",
        "                     min_index=300001,\n",
        "                     max_index=None,\n",
        "                     step=step,\n",
        "                     batch_size=batch_size)\n",
        "\n",
        "# 전체 검증 세트를 순회하기 위해 val_gen에서 추출할 횟수\n",
        "val_steps = (300000 - 200001 - lookback) // batch_size\n",
        "\n",
        "# 전체 테스트 세트를 순회하기 위해 test_gen에서 추출할 횟수\n",
        "test_steps = (len(float_data) - 300001 - lookback) // batch_size\n",
        "\n",
        "for samples, targets in train_gen:\n",
        "  print(samples.shape, targets.shape)\n",
        "  break"
      ],
      "metadata": {
        "id": "9gAHwgljwTPE",
        "colab": {
          "base_uri": "https://localhost:8080/"
        },
        "outputId": "42fcafe7-509d-4b33-ba38-d53b2778a96d"
      },
      "execution_count": 16,
      "outputs": [
        {
          "output_type": "stream",
          "name": "stdout",
          "text": [
            "['\"Date Time\"', '\"p (mbar)\"', '\"T (degC)\"', '\"Tpot (K)\"', '\"Tdew (degC)\"', '\"rh (%)\"', '\"VPmax (mbar)\"', '\"VPact (mbar)\"', '\"VPdef (mbar)\"', '\"sh (g/kg)\"', '\"H2OC (mmol/mol)\"', '\"rho (g/m**3)\"', '\"wv (m/s)\"', '\"max. wv (m/s)\"', '\"wd (deg)\"']\n",
            "420551\n",
            "(128, 240, 14) (128,)\n"
          ]
        }
      ]
    },
    {
      "cell_type": "code",
      "source": [
        "max_len = len(float_data)\n",
        "float_data[0]"
      ],
      "metadata": {
        "colab": {
          "base_uri": "https://localhost:8080/"
        },
        "id": "TUllGJWZXQRA",
        "outputId": "e70c8708-af07-435c-e2e7-86027a39aa30"
      },
      "execution_count": 94,
      "outputs": [
        {
          "output_type": "execute_result",
          "data": {
            "text/plain": [
              "array([ 0.90014748, -1.93135845, -1.98211036, -1.86280029,  1.07285236,\n",
              "       -1.30742164, -1.47375773, -0.79868641, -1.4762674 , -1.47815522,\n",
              "        2.12375056, -0.72950452, -0.78067973, -0.27613603])"
            ]
          },
          "metadata": {},
          "execution_count": 94
        }
      ]
    },
    {
      "cell_type": "code",
      "source": [
        "float_data."
      ],
      "metadata": {
        "id": "6ntwL1f5X674"
      },
      "execution_count": null,
      "outputs": []
    },
    {
      "cell_type": "code",
      "source": [
        "# 교재 내용대로 모델 구성"
      ],
      "metadata": {
        "id": "_PjHrQG-whvY"
      },
      "execution_count": null,
      "outputs": []
    },
    {
      "cell_type": "code",
      "source": [
        "from keras import optimizers\n",
        "\n",
        "\n",
        "x = layers.Input(shape = (240,14))\n",
        "y = layers.Conv1D(32,5, activation = 'relu')(x)\n",
        "y = layers.MaxPooling1D(3)(y)\n",
        "y = layers.Conv1D(32,5,activation = 'relu')(y)\n",
        "y = layers.GRU(32, dropout=0.3, recurrent_dropout = 0.5)(y)\n",
        "y = layers.Dense(1, activation = 'linear')(y)\n",
        "\n",
        "model = models.Model(x,y)\n",
        "model.summary()"
      ],
      "metadata": {
        "id": "hRm4rwUFwvQz",
        "colab": {
          "base_uri": "https://localhost:8080/"
        },
        "outputId": "e3363199-65ba-413f-9188-15e0cd39fca2"
      },
      "execution_count": 91,
      "outputs": [
        {
          "output_type": "stream",
          "name": "stdout",
          "text": [
            "WARNING:tensorflow:Layer gru_28 will not use cuDNN kernels since it doesn't meet the criteria. It will use a generic GPU kernel as fallback when running on GPU.\n"
          ]
        },
        {
          "output_type": "stream",
          "name": "stderr",
          "text": [
            "WARNING:tensorflow:Layer gru_28 will not use cuDNN kernels since it doesn't meet the criteria. It will use a generic GPU kernel as fallback when running on GPU.\n"
          ]
        },
        {
          "output_type": "stream",
          "name": "stdout",
          "text": [
            "Model: \"model_24\"\n",
            "_________________________________________________________________\n",
            " Layer (type)                Output Shape              Param #   \n",
            "=================================================================\n",
            " input_32 (InputLayer)       [(None, 240, 14)]         0         \n",
            "                                                                 \n",
            " conv1d_74 (Conv1D)          (None, 236, 32)           2272      \n",
            "                                                                 \n",
            " max_pooling1d_35 (MaxPoolin  (None, 78, 32)           0         \n",
            " g1D)                                                            \n",
            "                                                                 \n",
            " conv1d_75 (Conv1D)          (None, 74, 32)            5152      \n",
            "                                                                 \n",
            " gru_28 (GRU)                (None, 32)                6336      \n",
            "                                                                 \n",
            " dense_36 (Dense)            (None, 1)                 33        \n",
            "                                                                 \n",
            "=================================================================\n",
            "Total params: 13,793\n",
            "Trainable params: 13,793\n",
            "Non-trainable params: 0\n",
            "_________________________________________________________________\n"
          ]
        }
      ]
    },
    {
      "cell_type": "code",
      "source": [
        "def draw_mse(hist, x_itv) :\n",
        "  for i, h in enumerate(hist) :\n",
        "    hist_mse = h.history['mse']\n",
        "    val_hist_mse = h.history['val_mse']\n",
        "    epochs = range(1, 1+len(hist_mse))\n",
        "    xbins = range(0, 1+len(hist_mse), x_itv)\n",
        "    plt.plot(epochs, hist_mse, linestyle=':', label=f'train mse', c= 'g')\n",
        "    plt.plot(epochs, val_hist_mse, marker='.', label=f'valid mse', c= 'g')\n",
        "    plt.legend();plt.grid(True);plt.xticks(xbins)\n",
        "    plt.xlabel('Epochs');plt.ylabel('mse')\n",
        "    x, y = epochs[-1], h.history['mse'][-1]\n",
        "    plt.text(x, y, np.round(y,2), c= 'g')\n",
        "    x, y = epochs[-1], h.history['val_mse'][-1]\n",
        "    plt.text(x, y, np.round(y,2), c= 'g')"
      ],
      "metadata": {
        "id": "XXK8Pk0XsLU2"
      },
      "execution_count": 122,
      "outputs": []
    },
    {
      "cell_type": "code",
      "source": [
        "epoch_step = len(lines) // batch_size\n",
        "model.compile(loss= 'mse', optimizer= 'adam', metrics= ['mse'])\n",
        "history = model.fit(train_gen,\n",
        "                    epochs = 10,\n",
        "                    steps_per_epoch = 50,\n",
        "                    batch_size = 128,\n",
        "                    validation_data = val_gen,\n",
        "                    validation_steps = val_steps)"
      ],
      "metadata": {
        "colab": {
          "base_uri": "https://localhost:8080/"
        },
        "id": "TnDbWSaYcogl",
        "outputId": "4f732013-121a-4ed7-fe04-4405d00e98d1"
      },
      "execution_count": 117,
      "outputs": [
        {
          "output_type": "stream",
          "name": "stdout",
          "text": [
            "Epoch 1/10\n",
            "50/50 [==============================] - 39s 758ms/step - loss: 0.1735 - mse: 0.1735 - val_loss: 0.1587 - val_mse: 0.1587\n",
            "Epoch 2/10\n",
            "50/50 [==============================] - 34s 688ms/step - loss: 0.1688 - mse: 0.1688 - val_loss: 0.1426 - val_mse: 0.1426\n",
            "Epoch 3/10\n",
            "50/50 [==============================] - 34s 686ms/step - loss: 0.1662 - mse: 0.1662 - val_loss: 0.1512 - val_mse: 0.1512\n",
            "Epoch 4/10\n",
            "50/50 [==============================] - 34s 692ms/step - loss: 0.1617 - mse: 0.1617 - val_loss: 0.1511 - val_mse: 0.1511\n",
            "Epoch 5/10\n",
            "50/50 [==============================] - 34s 688ms/step - loss: 0.1613 - mse: 0.1613 - val_loss: 0.1557 - val_mse: 0.1557\n",
            "Epoch 6/10\n",
            "50/50 [==============================] - 34s 693ms/step - loss: 0.1587 - mse: 0.1587 - val_loss: 0.1511 - val_mse: 0.1511\n",
            "Epoch 7/10\n",
            "50/50 [==============================] - 34s 695ms/step - loss: 0.1576 - mse: 0.1576 - val_loss: 0.1460 - val_mse: 0.1460\n",
            "Epoch 8/10\n",
            "50/50 [==============================] - 34s 691ms/step - loss: 0.1581 - mse: 0.1581 - val_loss: 0.1453 - val_mse: 0.1453\n",
            "Epoch 9/10\n",
            "50/50 [==============================] - 34s 695ms/step - loss: 0.1557 - mse: 0.1557 - val_loss: 0.1485 - val_mse: 0.1485\n",
            "Epoch 10/10\n",
            "50/50 [==============================] - 34s 684ms/step - loss: 0.1550 - mse: 0.1550 - val_loss: 0.1440 - val_mse: 0.1440\n"
          ]
        }
      ]
    },
    {
      "cell_type": "code",
      "source": [
        "draw_mse([history], 1)"
      ],
      "metadata": {
        "colab": {
          "base_uri": "https://localhost:8080/",
          "height": 283
        },
        "id": "R69k-Q9RyB2F",
        "outputId": "ac99a91c-eac0-4199-8a6b-9e2a5a44b5e2"
      },
      "execution_count": 123,
      "outputs": [
        {
          "output_type": "display_data",
          "data": {
            "text/plain": [
              "<Figure size 432x288 with 1 Axes>"
            ],
            "image/png": "[encoded data removed]"
          },
          "metadata": {
            "needs_background": "light"
          }
        }
      ]
    },
    {
      "cell_type": "code",
      "source": [
        "# 본인 모델 구성\n",
        "x = layers.Input(shape = (240,14))\n",
        "y1 = layers.Conv1D(32,5, activation = 'relu')(x)\n",
        "y1 = layers.MaxPooling1D(3)(y1)\n",
        "\n",
        "y2 = layers.Conv1D(32,5,activation = 'relu')(x)\n",
        "y2 = layers.MaxPooling1D(3)(y2)\n",
        "\n",
        "y = layers.concatenate([y1,y2])\n",
        "y = layers.GlobalAveragePooling1D()(y)\n",
        "y = layers.GRU(32, dropout=0.2, recurrent_dropout = 0.5)(y1)\n",
        "y = layers.Dense(1, activation = 'linear')(y)\n",
        "\n",
        "model = models.Model(x,y)\n",
        "model.summary()"
      ],
      "metadata": {
        "colab": {
          "base_uri": "https://localhost:8080/"
        },
        "id": "WTYKrwxLhUpa",
        "outputId": "323ab787-1bdc-4f4a-d5c0-43a53d0e6954"
      },
      "execution_count": 93,
      "outputs": [
        {
          "output_type": "stream",
          "name": "stdout",
          "text": [
            "WARNING:tensorflow:Layer gru_29 will not use cuDNN kernels since it doesn't meet the criteria. It will use a generic GPU kernel as fallback when running on GPU.\n"
          ]
        },
        {
          "output_type": "stream",
          "name": "stderr",
          "text": [
            "WARNING:tensorflow:Layer gru_29 will not use cuDNN kernels since it doesn't meet the criteria. It will use a generic GPU kernel as fallback when running on GPU.\n"
          ]
        },
        {
          "output_type": "stream",
          "name": "stdout",
          "text": [
            "Model: \"model_25\"\n",
            "_________________________________________________________________\n",
            " Layer (type)                Output Shape              Param #   \n",
            "=================================================================\n",
            " input_33 (InputLayer)       [(None, 240, 14)]         0         \n",
            "                                                                 \n",
            " conv1d_76 (Conv1D)          (None, 236, 32)           2272      \n",
            "                                                                 \n",
            " max_pooling1d_36 (MaxPoolin  (None, 78, 32)           0         \n",
            " g1D)                                                            \n",
            "                                                                 \n",
            " gru_29 (GRU)                (None, 32)                6336      \n",
            "                                                                 \n",
            " dense_37 (Dense)            (None, 1)                 33        \n",
            "                                                                 \n",
            "=================================================================\n",
            "Total params: 8,641\n",
            "Trainable params: 8,641\n",
            "Non-trainable params: 0\n",
            "_________________________________________________________________\n"
          ]
        }
      ]
    },
    {
      "cell_type": "code",
      "source": [
        "model.compile(loss= 'mse', optimizer= 'adam', metrics= ['mse'])\n",
        "history = model.fit(train_gen,\n",
        "                    epochs = 10,\n",
        "                    steps_per_epoch = 50,\n",
        "                    batch_size = 128,\n",
        "                    validation_data = val_gen,\n",
        "                    validation_steps = val_steps)"
      ],
      "metadata": {
        "colab": {
          "base_uri": "https://localhost:8080/"
        },
        "id": "CRlYKUcFr2pN",
        "outputId": "0ade734c-29c9-454f-be1d-6abebbc4bbdc"
      },
      "execution_count": 124,
      "outputs": [
        {
          "output_type": "stream",
          "name": "stdout",
          "text": [
            "Epoch 1/10\n",
            "50/50 [==============================] - 37s 698ms/step - loss: 0.1566 - mse: 0.1566 - val_loss: 0.1449 - val_mse: 0.1449\n",
            "Epoch 2/10\n",
            "50/50 [==============================] - 34s 688ms/step - loss: 0.1508 - mse: 0.1508 - val_loss: 0.1417 - val_mse: 0.1417\n",
            "Epoch 3/10\n",
            "50/50 [==============================] - 34s 689ms/step - loss: 0.1523 - mse: 0.1523 - val_loss: 0.1407 - val_mse: 0.1407\n",
            "Epoch 4/10\n",
            "50/50 [==============================] - 34s 688ms/step - loss: 0.1485 - mse: 0.1485 - val_loss: 0.1422 - val_mse: 0.1422\n",
            "Epoch 5/10\n",
            "50/50 [==============================] - 34s 686ms/step - loss: 0.1442 - mse: 0.1442 - val_loss: 0.1383 - val_mse: 0.1383\n",
            "Epoch 6/10\n",
            "50/50 [==============================] - 34s 688ms/step - loss: 0.1499 - mse: 0.1499 - val_loss: 0.1407 - val_mse: 0.1407\n",
            "Epoch 7/10\n",
            "50/50 [==============================] - 34s 696ms/step - loss: 0.1447 - mse: 0.1447 - val_loss: 0.1506 - val_mse: 0.1506\n",
            "Epoch 8/10\n",
            "50/50 [==============================] - 34s 696ms/step - loss: 0.1458 - mse: 0.1458 - val_loss: 0.1478 - val_mse: 0.1478\n",
            "Epoch 9/10\n",
            "50/50 [==============================] - 34s 681ms/step - loss: 0.1521 - mse: 0.1521 - val_loss: 0.1357 - val_mse: 0.1357\n",
            "Epoch 10/10\n",
            "50/50 [==============================] - 34s 688ms/step - loss: 0.1449 - mse: 0.1449 - val_loss: 0.1346 - val_mse: 0.1346\n"
          ]
        }
      ]
    },
    {
      "cell_type": "code",
      "source": [
        "draw_mse([history], 1)"
      ],
      "metadata": {
        "colab": {
          "base_uri": "https://localhost:8080/",
          "height": 279
        },
        "id": "aws8_ZJWsyN0",
        "outputId": "ff5421ac-aaba-46d6-e538-c8a7d709361f"
      },
      "execution_count": 125,
      "outputs": [
        {
          "output_type": "display_data",
          "data": {
            "text/plain": [
              "<Figure size 432x288 with 1 Axes>"
            ],
            "image/png": "[encoded data removed]"
          },
          "metadata": {
            "needs_background": "light"
          }
        }
      ]
    }
  ],
  "metadata": {
    "kernelspec": {
      "display_name": "Python 3",
      "language": "python",
      "name": "python3"
    },
    "language_info": {
      "codemirror_mode": {
        "name": "ipython",
        "version": 3
      },
      "file_extension": ".py",
      "mimetype": "text/x-python",
      "name": "python",
      "nbconvert_exporter": "python",
      "pygments_lexer": "ipython3",
      "version": "3.6.6"
    },
    "colab": {
      "name": "6.4-sequence-processing-with-convnets.ipynb",
      "provenance": [],
      "collapsed_sections": [],
      "include_colab_link": true
    },
    "accelerator": "GPU",
    "gpuClass": "standard"
  },
  "nbformat": 4,
  "nbformat_minor": 0
}