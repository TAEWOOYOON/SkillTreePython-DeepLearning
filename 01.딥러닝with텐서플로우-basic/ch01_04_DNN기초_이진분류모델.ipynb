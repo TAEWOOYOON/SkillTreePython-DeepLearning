{
  "nbformat": 4,
  "nbformat_minor": 0,
  "metadata": {
    "colab": {
      "name": "ch01_04_DNN기초-이진분류모델.ipynb",
      "provenance": [],
      "collapsed_sections": []
    },
    "kernelspec": {
      "name": "python3",
      "display_name": "Python 3"
    },
    "language_info": {
      "name": "python"
    }
  },
  "cells": [
    {
      "cell_type": "markdown",
      "source": [
        "# ch01.04 DNN기초 - 이진분류 모델\n",
        "\n",
        "\n",
        "---\n",
        "* 날짜: 2022.06.28\n",
        "* 이름: 윤태우\n",
        "\n",
        "## 학습내용\n",
        "    - 딥러닝을 이용한 이진분류 모델 구현\n",
        "    - 적절한 손실함수와 최적화 함수 정의\n",
        "    - 평가 및 예측\n",
        "\n",
        "## 학습자료\n",
        "\n",
        "* 모두의딥러닝 11장, 13장\n",
        "* 데이터\n",
        "  * `sornar.csv`\n",
        "  * `pima-indians-diabetes.csv`\n",
        "\n",
        "\n",
        "```\n",
        "import numpy as np\n",
        "import pandas as pd\n",
        "import tensorflow as tf\n",
        "import matplotlib.pyplot as plt\n",
        "import seaborn as sns\n",
        "seed=1\n",
        "np.random.seed(seed)\n",
        "tf.random.set_seed(seed)\n",
        "```\n",
        "\n",
        "```\n",
        "https://github.com/yebiny/SkillTreePython-DeepLearning.git\n",
        "```"
      ],
      "metadata": {
        "id": "sWs2kEC1_b-P"
      }
    },
    {
      "cell_type": "code",
      "source": [
        "import numpy as np\n",
        "import pandas as pd\n",
        "import tensorflow as tf\n",
        "import matplotlib.pyplot as plt\n",
        "import seaborn as sns\n",
        "seed=1\n",
        "np.random.seed(seed)\n",
        "tf.random.set_seed(seed)"
      ],
      "metadata": {
        "id": "3dvXKSSnDQ9V"
      },
      "execution_count": 1,
      "outputs": []
    },
    {
      "cell_type": "code",
      "source": [
        "! git clone https://github.com/yebiny/SkillTreePython-DeepLearning.git"
      ],
      "metadata": {
        "id": "VIgPnWNbUt_X",
        "colab": {
          "base_uri": "https://localhost:8080/"
        },
        "outputId": "1be49038-faac-4930-8c63-5a2188353cd3"
      },
      "execution_count": 2,
      "outputs": [
        {
          "output_type": "stream",
          "name": "stdout",
          "text": [
            "Cloning into 'SkillTreePython-DeepLearning'...\n",
            "remote: Enumerating objects: 292, done.\u001b[K\n",
            "remote: Counting objects: 100% (114/114), done.\u001b[K\n",
            "remote: Compressing objects: 100% (71/71), done.\u001b[K\n",
            "remote: Total 292 (delta 77), reused 43 (delta 43), pack-reused 178\u001b[K\n",
            "Receiving objects: 100% (292/292), 21.99 MiB | 25.00 MiB/s, done.\n",
            "Resolving deltas: 100% (112/112), done.\n"
          ]
        }
      ]
    },
    {
      "cell_type": "markdown",
      "source": [
        "## 소나 데이터 광물 예측\n",
        "---\n",
        "\n",
        "> 1988년 존스홉킨스 대학교의 세즈노프스키(Sejnowski) 교수는 광석과 일반 돌을 가져다 놓고 음파 탐지기를 쏜 후 그 결과를 데이터를 정리했습니다. 신경망이 광석과 돌을 얼마나 잘 구분하는지 알아보도록 합시다.\n",
        "\n",
        "```\n",
        "- 0~59 : 음파 탐지기를 이용해 얻은 값\n",
        "- 60: 광석 구분 {R, M}\n",
        "```\n",
        "<p align='center'>\n",
        "<img src=https://github.com/yebiny/SkillTreePython-DeepLearning/blob/main/imgs/ch0104-01.PNG?raw=true width=450>\n",
        "</p>\n",
        "\n",
        "\n"
      ],
      "metadata": {
        "id": "KOmt3w8_rVe2"
      }
    },
    {
      "cell_type": "markdown",
      "source": [
        "### | 데이터 준비"
      ],
      "metadata": {
        "id": "TmgkVAdIfngb"
      }
    },
    {
      "cell_type": "markdown",
      "source": [
        "#### **데이터 로드**\n",
        "* `sonar.csv`"
      ],
      "metadata": {
        "id": "cHXodXKif2BB"
      }
    },
    {
      "cell_type": "code",
      "execution_count": 79,
      "metadata": {
        "id": "2sh64rMrANLD",
        "colab": {
          "base_uri": "https://localhost:8080/",
          "height": 235
        },
        "outputId": "902445ff-7762-435b-8243-0f3fd0d7aed0"
      },
      "outputs": [
        {
          "output_type": "execute_result",
          "data": {
            "text/plain": [
              "   0.0200  0.0371  0.0428  0.0207  0.0954  0.0986  0.1539  0.1601  0.3109  \\\n",
              "0  0.0453  0.0523  0.0843  0.0689  0.1183  0.2583  0.2156  0.3481  0.3337   \n",
              "1  0.0262  0.0582  0.1099  0.1083  0.0974  0.2280  0.2431  0.3771  0.5598   \n",
              "2  0.0100  0.0171  0.0623  0.0205  0.0205  0.0368  0.1098  0.1276  0.0598   \n",
              "3  0.0762  0.0666  0.0481  0.0394  0.0590  0.0649  0.1209  0.2467  0.3564   \n",
              "4  0.0286  0.0453  0.0277  0.0174  0.0384  0.0990  0.1201  0.1833  0.2105   \n",
              "\n",
              "   0.2111  ...  0.0027  0.0065  0.0159  0.0072  0.0167  0.0180  0.0084  \\\n",
              "0  0.2872  ...  0.0084  0.0089  0.0048  0.0094  0.0191  0.0140  0.0049   \n",
              "1  0.6194  ...  0.0232  0.0166  0.0095  0.0180  0.0244  0.0316  0.0164   \n",
              "2  0.1264  ...  0.0121  0.0036  0.0150  0.0085  0.0073  0.0050  0.0044   \n",
              "3  0.4459  ...  0.0031  0.0054  0.0105  0.0110  0.0015  0.0072  0.0048   \n",
              "4  0.3039  ...  0.0045  0.0014  0.0038  0.0013  0.0089  0.0057  0.0027   \n",
              "\n",
              "   0.0090  0.0032  R  \n",
              "0  0.0052  0.0044  R  \n",
              "1  0.0095  0.0078  R  \n",
              "2  0.0040  0.0117  R  \n",
              "3  0.0107  0.0094  R  \n",
              "4  0.0051  0.0062  R  \n",
              "\n",
              "[5 rows x 61 columns]"
            ],
            "text/html": [
              "\n",
              "  <div id=\"df-1cab2be7-ab03-4e05-93f2-8a37fb74e108\">\n",
              "    <div class=\"colab-df-container\">\n",
              "      <div>\n",
              "<style scoped>\n",
              "    .dataframe tbody tr th:only-of-type {\n",
              "        vertical-align: middle;\n",
              "    }\n",
              "\n",
              "    .dataframe tbody tr th {\n",
              "        vertical-align: top;\n",
              "    }\n",
              "\n",
              "    .dataframe thead th {\n",
              "        text-align: right;\n",
              "    }\n",
              "</style>\n",
              "<table border=\"1\" class=\"dataframe\">\n",
              "  <thead>\n",
              "    <tr style=\"text-align: right;\">\n",
              "      <th></th>\n",
              "      <th>0.0200</th>\n",
              "      <th>0.0371</th>\n",
              "      <th>0.0428</th>\n",
              "      <th>0.0207</th>\n",
              "      <th>0.0954</th>\n",
              "      <th>0.0986</th>\n",
              "      <th>0.1539</th>\n",
              "      <th>0.1601</th>\n",
              "      <th>0.3109</th>\n",
              "      <th>0.2111</th>\n",
              "      <th>...</th>\n",
              "      <th>0.0027</th>\n",
              "      <th>0.0065</th>\n",
              "      <th>0.0159</th>\n",
              "      <th>0.0072</th>\n",
              "      <th>0.0167</th>\n",
              "      <th>0.0180</th>\n",
              "      <th>0.0084</th>\n",
              "      <th>0.0090</th>\n",
              "      <th>0.0032</th>\n",
              "      <th>R</th>\n",
              "    </tr>\n",
              "  </thead>\n",
              "  <tbody>\n",
              "    <tr>\n",
              "      <th>0</th>\n",
              "      <td>0.0453</td>\n",
              "      <td>0.0523</td>\n",
              "      <td>0.0843</td>\n",
              "      <td>0.0689</td>\n",
              "      <td>0.1183</td>\n",
              "      <td>0.2583</td>\n",
              "      <td>0.2156</td>\n",
              "      <td>0.3481</td>\n",
              "      <td>0.3337</td>\n",
              "      <td>0.2872</td>\n",
              "      <td>...</td>\n",
              "      <td>0.0084</td>\n",
              "      <td>0.0089</td>\n",
              "      <td>0.0048</td>\n",
              "      <td>0.0094</td>\n",
              "      <td>0.0191</td>\n",
              "      <td>0.0140</td>\n",
              "      <td>0.0049</td>\n",
              "      <td>0.0052</td>\n",
              "      <td>0.0044</td>\n",
              "      <td>R</td>\n",
              "    </tr>\n",
              "    <tr>\n",
              "      <th>1</th>\n",
              "      <td>0.0262</td>\n",
              "      <td>0.0582</td>\n",
              "      <td>0.1099</td>\n",
              "      <td>0.1083</td>\n",
              "      <td>0.0974</td>\n",
              "      <td>0.2280</td>\n",
              "      <td>0.2431</td>\n",
              "      <td>0.3771</td>\n",
              "      <td>0.5598</td>\n",
              "      <td>0.6194</td>\n",
              "      <td>...</td>\n",
              "      <td>0.0232</td>\n",
              "      <td>0.0166</td>\n",
              "      <td>0.0095</td>\n",
              "      <td>0.0180</td>\n",
              "      <td>0.0244</td>\n",
              "      <td>0.0316</td>\n",
              "      <td>0.0164</td>\n",
              "      <td>0.0095</td>\n",
              "      <td>0.0078</td>\n",
              "      <td>R</td>\n",
              "    </tr>\n",
              "    <tr>\n",
              "      <th>2</th>\n",
              "      <td>0.0100</td>\n",
              "      <td>0.0171</td>\n",
              "      <td>0.0623</td>\n",
              "      <td>0.0205</td>\n",
              "      <td>0.0205</td>\n",
              "      <td>0.0368</td>\n",
              "      <td>0.1098</td>\n",
              "      <td>0.1276</td>\n",
              "      <td>0.0598</td>\n",
              "      <td>0.1264</td>\n",
              "      <td>...</td>\n",
              "      <td>0.0121</td>\n",
              "      <td>0.0036</td>\n",
              "      <td>0.0150</td>\n",
              "      <td>0.0085</td>\n",
              "      <td>0.0073</td>\n",
              "      <td>0.0050</td>\n",
              "      <td>0.0044</td>\n",
              "      <td>0.0040</td>\n",
              "      <td>0.0117</td>\n",
              "      <td>R</td>\n",
              "    </tr>\n",
              "    <tr>\n",
              "      <th>3</th>\n",
              "      <td>0.0762</td>\n",
              "      <td>0.0666</td>\n",
              "      <td>0.0481</td>\n",
              "      <td>0.0394</td>\n",
              "      <td>0.0590</td>\n",
              "      <td>0.0649</td>\n",
              "      <td>0.1209</td>\n",
              "      <td>0.2467</td>\n",
              "      <td>0.3564</td>\n",
              "      <td>0.4459</td>\n",
              "      <td>...</td>\n",
              "      <td>0.0031</td>\n",
              "      <td>0.0054</td>\n",
              "      <td>0.0105</td>\n",
              "      <td>0.0110</td>\n",
              "      <td>0.0015</td>\n",
              "      <td>0.0072</td>\n",
              "      <td>0.0048</td>\n",
              "      <td>0.0107</td>\n",
              "      <td>0.0094</td>\n",
              "      <td>R</td>\n",
              "    </tr>\n",
              "    <tr>\n",
              "      <th>4</th>\n",
              "      <td>0.0286</td>\n",
              "      <td>0.0453</td>\n",
              "      <td>0.0277</td>\n",
              "      <td>0.0174</td>\n",
              "      <td>0.0384</td>\n",
              "      <td>0.0990</td>\n",
              "      <td>0.1201</td>\n",
              "      <td>0.1833</td>\n",
              "      <td>0.2105</td>\n",
              "      <td>0.3039</td>\n",
              "      <td>...</td>\n",
              "      <td>0.0045</td>\n",
              "      <td>0.0014</td>\n",
              "      <td>0.0038</td>\n",
              "      <td>0.0013</td>\n",
              "      <td>0.0089</td>\n",
              "      <td>0.0057</td>\n",
              "      <td>0.0027</td>\n",
              "      <td>0.0051</td>\n",
              "      <td>0.0062</td>\n",
              "      <td>R</td>\n",
              "    </tr>\n",
              "  </tbody>\n",
              "</table>\n",
              "<p>5 rows × 61 columns</p>\n",
              "</div>\n",
              "      <button class=\"colab-df-convert\" onclick=\"convertToInteractive('df-1cab2be7-ab03-4e05-93f2-8a37fb74e108')\"\n",
              "              title=\"Convert this dataframe to an interactive table.\"\n",
              "              style=\"display:none;\">\n",
              "        \n",
              "  <svg xmlns=\"http://www.w3.org/2000/svg\" height=\"24px\"viewBox=\"0 0 24 24\"\n",
              "       width=\"24px\">\n",
              "    <path d=\"M0 0h24v24H0V0z\" fill=\"none\"/>\n",
              "    <path d=\"M18.56 5.44l.94 2.06.94-2.06 2.06-.94-2.06-.94-.94-2.06-.94 2.06-2.06.94zm-11 1L8.5 8.5l.94-2.06 2.06-.94-2.06-.94L8.5 2.5l-.94 2.06-2.06.94zm10 10l.94 2.06.94-2.06 2.06-.94-2.06-.94-.94-2.06-.94 2.06-2.06.94z\"/><path d=\"M17.41 7.96l-1.37-1.37c-.4-.4-.92-.59-1.43-.59-.52 0-1.04.2-1.43.59L10.3 9.45l-7.72 7.72c-.78.78-.78 2.05 0 2.83L4 21.41c.39.39.9.59 1.41.59.51 0 1.02-.2 1.41-.59l7.78-7.78 2.81-2.81c.8-.78.8-2.07 0-2.86zM5.41 20L4 18.59l7.72-7.72 1.47 1.35L5.41 20z\"/>\n",
              "  </svg>\n",
              "      </button>\n",
              "      \n",
              "  <style>\n",
              "    .colab-df-container {\n",
              "      display:flex;\n",
              "      flex-wrap:wrap;\n",
              "      gap: 12px;\n",
              "    }\n",
              "\n",
              "    .colab-df-convert {\n",
              "      background-color: #E8F0FE;\n",
              "      border: none;\n",
              "      border-radius: 50%;\n",
              "      cursor: pointer;\n",
              "      display: none;\n",
              "      fill: #1967D2;\n",
              "      height: 32px;\n",
              "      padding: 0 0 0 0;\n",
              "      width: 32px;\n",
              "    }\n",
              "\n",
              "    .colab-df-convert:hover {\n",
              "      background-color: #E2EBFA;\n",
              "      box-shadow: 0px 1px 2px rgba(60, 64, 67, 0.3), 0px 1px 3px 1px rgba(60, 64, 67, 0.15);\n",
              "      fill: #174EA6;\n",
              "    }\n",
              "\n",
              "    [theme=dark] .colab-df-convert {\n",
              "      background-color: #3B4455;\n",
              "      fill: #D2E3FC;\n",
              "    }\n",
              "\n",
              "    [theme=dark] .colab-df-convert:hover {\n",
              "      background-color: #434B5C;\n",
              "      box-shadow: 0px 1px 3px 1px rgba(0, 0, 0, 0.15);\n",
              "      filter: drop-shadow(0px 1px 2px rgba(0, 0, 0, 0.3));\n",
              "      fill: #FFFFFF;\n",
              "    }\n",
              "  </style>\n",
              "\n",
              "      <script>\n",
              "        const buttonEl =\n",
              "          document.querySelector('#df-1cab2be7-ab03-4e05-93f2-8a37fb74e108 button.colab-df-convert');\n",
              "        buttonEl.style.display =\n",
              "          google.colab.kernel.accessAllowed ? 'block' : 'none';\n",
              "\n",
              "        async function convertToInteractive(key) {\n",
              "          const element = document.querySelector('#df-1cab2be7-ab03-4e05-93f2-8a37fb74e108');\n",
              "          const dataTable =\n",
              "            await google.colab.kernel.invokeFunction('convertToInteractive',\n",
              "                                                     [key], {});\n",
              "          if (!dataTable) return;\n",
              "\n",
              "          const docLinkHtml = 'Like what you see? Visit the ' +\n",
              "            '<a target=\"_blank\" href=https://colab.research.google.com/notebooks/data_table.ipynb>data table notebook</a>'\n",
              "            + ' to learn more about interactive tables.';\n",
              "          element.innerHTML = '';\n",
              "          dataTable['output_type'] = 'display_data';\n",
              "          await google.colab.output.renderOutput(dataTable, element);\n",
              "          const docLink = document.createElement('div');\n",
              "          docLink.innerHTML = docLinkHtml;\n",
              "          element.appendChild(docLink);\n",
              "        }\n",
              "      </script>\n",
              "    </div>\n",
              "  </div>\n",
              "  "
            ]
          },
          "metadata": {},
          "execution_count": 79
        }
      ],
      "source": [
        "path = '/content/SkillTreePython-DeepLearning/dataset/sonar.csv'\n",
        "df = pd.read_csv(path)\n",
        "df.head()"
      ]
    },
    {
      "cell_type": "markdown",
      "source": [
        "#### **데이터 전처리**"
      ],
      "metadata": {
        "id": "0NL7LyHXrhoW"
      }
    },
    {
      "cell_type": "code",
      "source": [
        "from sklearn.preprocessing import StandardScaler, LabelEncoder\n",
        "from sklearn.model_selection import train_test_split\n",
        "\n",
        "def data_load(path, seed=1):\n",
        "  # 데이터 적절히 불러오기\n",
        "  df = pd.read_csv(data_path,\n",
        "                   header=None, # 첫번째 행이 데이터(컬럼이 없음)\n",
        "                   )\n",
        "  # x-y 분할\n",
        "  x = df.values[:, :-1] # 모든행(샘플), 0부터59까지 열(속성)\n",
        "  y = df.values[:, -1] # 모든행(샘플), 60번째 열(속성)\n",
        "\n",
        "  # 정규화 (x의 모든속성, y는 하지 않음)\n",
        "  scaler = StandardScaler()\n",
        "  x = scaler.fit_transform(x)\n",
        "  \n",
        "  # 라벨링 (y 라벨링, x는 하지 않음)\n",
        "  labeling = LabelEncoder()\n",
        "  y = labeling.fit_transform(y)\n",
        "\n",
        "  # train-test 데이터 분할\n",
        "  x_train, x_valid, y_train, y_valid = train_test_split(x, y, test_size=0.3, \n",
        "                                                      random_state=seed, \n",
        "                                                      stratify=y ) # train-test 분할 시 클래스 비율 비슷하게 유지\n",
        "  return x_train, x_test, y_train, y_test\n",
        "\n",
        "data_path = '/content/SkillTreePython-DeepLearning/dataset/sonar.csv'\n",
        "x_train, x_valid, y_train, y_valid = path2data_sonar(data_path)\n",
        "print(x_train.shape, x_valid.shape, y_train.shape, y_valid.shape)"
      ],
      "metadata": {
        "id": "CoWLi5NgraBV",
        "colab": {
          "base_uri": "https://localhost:8080/"
        },
        "outputId": "085a9aa4-0ac8-4c2c-bda3-dafa397c0ac2"
      },
      "execution_count": 89,
      "outputs": [
        {
          "output_type": "stream",
          "name": "stdout",
          "text": [
            "(145, 60) (63, 60) (145,) (63,)\n"
          ]
        }
      ]
    },
    {
      "cell_type": "markdown",
      "source": [
        "* 예측값 분포 확인"
      ],
      "metadata": {
        "id": "J49Ys-SNBKyS"
      }
    },
    {
      "cell_type": "code",
      "source": [
        "plt.subplot(121);sns.histplot(x=y_train);plt.title('trainset')\n",
        "plt.subplot(122);sns.histplot(x=y_valid);plt.title('validset')"
      ],
      "metadata": {
        "id": "3vlsRwuoBMcY",
        "colab": {
          "base_uri": "https://localhost:8080/",
          "height": 299
        },
        "outputId": "5cb739b9-bf96-4cc0-d35e-1cfce24ff4b4"
      },
      "execution_count": 90,
      "outputs": [
        {
          "output_type": "execute_result",
          "data": {
            "text/plain": [
              "Text(0.5, 1.0, 'validset')"
            ]
          },
          "metadata": {},
          "execution_count": 90
        },
        {
          "output_type": "display_data",
          "data": {
            "text/plain": [
              "<Figure size 432x288 with 2 Axes>"
            ],
            "image/png": "[encoded data removed]"
          },
          "metadata": {
            "needs_background": "light"
          }
        }
      ]
    },
    {
      "cell_type": "markdown",
      "source": [
        "### | 모델\n",
        "\n",
        "\n",
        "<p align='center'>\n",
        "<img src=https://github.com/yebiny/SkillTreePython-DeepLearning/blob/main/imgs/ch0104-02.PNG?raw=true width=500>\n",
        "</p>\n"
      ],
      "metadata": {
        "id": "DHshtWB9r0be"
      }
    },
    {
      "cell_type": "markdown",
      "source": [
        "#### **모델 생성**"
      ],
      "metadata": {
        "id": "J94jFpWyr2k9"
      }
    },
    {
      "cell_type": "code",
      "source": [
        "from tensorflow.keras import layers, models, utils\n",
        "\n",
        "def build_model() :\n",
        "  x = layers.Input(shape=(60)) # 데이터가 주어지면 인풋의 shape는 고정\n",
        "  z = layers.Dense(30, activation = 'relu')(x)\n",
        "  y = layers.Dense(1, activation = 'sigmoid')(z) # 데이터가 주어지면 아웃풋의 shape는 고정\n",
        "  # 이진분류 문제는 마지막 아웃풋 shape가 1, 마지막 활성화 함수는 시그모이드 함수\n",
        "  model = models.Model(x,y, name='house_regression')\n",
        "  return model"
      ],
      "metadata": {
        "id": "5BZG1z90rsGc"
      },
      "execution_count": 96,
      "outputs": []
    },
    {
      "cell_type": "markdown",
      "source": [
        "#### **모델 시각화**\n",
        "\n",
        "* `model.summary()`\n",
        "* `utils.plot_model()`"
      ],
      "metadata": {
        "id": "1yqXLbEyx5QK"
      }
    },
    {
      "cell_type": "code",
      "source": [
        "model = build_model()\n",
        "model.summary()\n",
        "utils.plot_model(model, show_shapes=True)"
      ],
      "metadata": {
        "id": "dKCT38Fsr6dF",
        "colab": {
          "base_uri": "https://localhost:8080/",
          "height": 589
        },
        "outputId": "ad2d425c-da75-4a43-8a45-8cf4244e52ac"
      },
      "execution_count": 97,
      "outputs": [
        {
          "output_type": "stream",
          "name": "stdout",
          "text": [
            "Model: \"house_regression\"\n",
            "_________________________________________________________________\n",
            " Layer (type)                Output Shape              Param #   \n",
            "=================================================================\n",
            " input_3 (InputLayer)        [(None, 60)]              0         \n",
            "                                                                 \n",
            " dense_4 (Dense)             (None, 30)                1830      \n",
            "                                                                 \n",
            " dense_5 (Dense)             (None, 1)                 31        \n",
            "                                                                 \n",
            "=================================================================\n",
            "Total params: 1,861\n",
            "Trainable params: 1,861\n",
            "Non-trainable params: 0\n",
            "_________________________________________________________________\n"
          ]
        },
        {
          "output_type": "execute_result",
          "data": {
            "text/plain": [
              "<IPython.core.display.Image object>"
            ],
            "image/png": "[encoded data removed]"
          },
          "metadata": {},
          "execution_count": 97
        }
      ]
    },
    {
      "cell_type": "markdown",
      "source": [
        "### | 학습"
      ],
      "metadata": {
        "id": "gLuvsUFmwzPa"
      }
    },
    {
      "cell_type": "markdown",
      "source": [
        "#### **모델 컴파일**\n",
        "\n",
        "```\n",
        "model.compile(loss, optimizer, metrics) \n",
        "```\n",
        "* `loss` : 'binary_crossentropy'\n",
        "* `optimizer` : adam\n",
        "* `metrics`: accuracy \n"
      ],
      "metadata": {
        "id": "fwQboNHp3EHe"
      }
    },
    {
      "cell_type": "code",
      "source": [
        "model.compile(loss = 'binary_crossentropy', \n",
        "              optimizer = 'adam', \n",
        "              metrics = ['accuracy'])"
      ],
      "metadata": {
        "id": "SASPIskxgfRY"
      },
      "execution_count": 98,
      "outputs": []
    },
    {
      "cell_type": "markdown",
      "source": [
        "#### **학습**\n",
        "\n",
        "```\n",
        "model.fit(x_train, y_train, epochs, batch_size)\n",
        "```\n",
        "* `x_train` : 넘파이 혹은 텐서 형식의 인풋 데이터\n",
        "* `y_train` : 넘파이 혹은 텐서 형식의 아웃풋 데이터\n",
        "* `epochs` : 학습 횟수\n",
        "* `batch_size` : 배치 사이즈 (업데이트 한번에 사용될 샘플 개수)"
      ],
      "metadata": {
        "id": "JukUpWB4gfRY"
      }
    },
    {
      "cell_type": "code",
      "source": [
        "model.fit(x_train, y_train, epochs = 100, batch_size = 16)"
      ],
      "metadata": {
        "id": "9bgbpUhogfRY",
        "colab": {
          "base_uri": "https://localhost:8080/"
        },
        "outputId": "3245a40a-e1db-4fc4-a18e-146290ed4c74"
      },
      "execution_count": 99,
      "outputs": [
        {
          "output_type": "stream",
          "name": "stdout",
          "text": [
            "Epoch 1/100\n",
            "10/10 [==============================] - 1s 3ms/step - loss: 0.7145 - accuracy: 0.5793\n",
            "Epoch 2/100\n",
            "10/10 [==============================] - 0s 2ms/step - loss: 0.5978 - accuracy: 0.6690\n",
            "Epoch 3/100\n",
            "10/10 [==============================] - 0s 2ms/step - loss: 0.5322 - accuracy: 0.7379\n",
            "Epoch 4/100\n",
            "10/10 [==============================] - 0s 2ms/step - loss: 0.4840 - accuracy: 0.7862\n",
            "Epoch 5/100\n",
            "10/10 [==============================] - 0s 2ms/step - loss: 0.4498 - accuracy: 0.8483\n",
            "Epoch 6/100\n",
            "10/10 [==============================] - 0s 2ms/step - loss: 0.4240 - accuracy: 0.8552\n",
            "Epoch 7/100\n",
            "10/10 [==============================] - 0s 2ms/step - loss: 0.4000 - accuracy: 0.8552\n",
            "Epoch 8/100\n",
            "10/10 [==============================] - 0s 2ms/step - loss: 0.3788 - accuracy: 0.8759\n",
            "Epoch 9/100\n",
            "10/10 [==============================] - 0s 2ms/step - loss: 0.3587 - accuracy: 0.9034\n",
            "Epoch 10/100\n",
            "10/10 [==============================] - 0s 2ms/step - loss: 0.3440 - accuracy: 0.9103\n",
            "Epoch 11/100\n",
            "10/10 [==============================] - 0s 2ms/step - loss: 0.3291 - accuracy: 0.9103\n",
            "Epoch 12/100\n",
            "10/10 [==============================] - 0s 3ms/step - loss: 0.3118 - accuracy: 0.9172\n",
            "Epoch 13/100\n",
            "10/10 [==============================] - 0s 3ms/step - loss: 0.2970 - accuracy: 0.9379\n",
            "Epoch 14/100\n",
            "10/10 [==============================] - 0s 3ms/step - loss: 0.2847 - accuracy: 0.9379\n",
            "Epoch 15/100\n",
            "10/10 [==============================] - 0s 3ms/step - loss: 0.2735 - accuracy: 0.9448\n",
            "Epoch 16/100\n",
            "10/10 [==============================] - 0s 3ms/step - loss: 0.2623 - accuracy: 0.9448\n",
            "Epoch 17/100\n",
            "10/10 [==============================] - 0s 3ms/step - loss: 0.2522 - accuracy: 0.9448\n",
            "Epoch 18/100\n",
            "10/10 [==============================] - 0s 2ms/step - loss: 0.2430 - accuracy: 0.9448\n",
            "Epoch 19/100\n",
            "10/10 [==============================] - 0s 2ms/step - loss: 0.2341 - accuracy: 0.9448\n",
            "Epoch 20/100\n",
            "10/10 [==============================] - 0s 3ms/step - loss: 0.2252 - accuracy: 0.9448\n",
            "Epoch 21/100\n",
            "10/10 [==============================] - 0s 2ms/step - loss: 0.2179 - accuracy: 0.9517\n",
            "Epoch 22/100\n",
            "10/10 [==============================] - 0s 2ms/step - loss: 0.2091 - accuracy: 0.9655\n",
            "Epoch 23/100\n",
            "10/10 [==============================] - 0s 3ms/step - loss: 0.2019 - accuracy: 0.9724\n",
            "Epoch 24/100\n",
            "10/10 [==============================] - 0s 2ms/step - loss: 0.1944 - accuracy: 0.9724\n",
            "Epoch 25/100\n",
            "10/10 [==============================] - 0s 3ms/step - loss: 0.1880 - accuracy: 0.9724\n",
            "Epoch 26/100\n",
            "10/10 [==============================] - 0s 2ms/step - loss: 0.1821 - accuracy: 0.9655\n",
            "Epoch 27/100\n",
            "10/10 [==============================] - 0s 2ms/step - loss: 0.1767 - accuracy: 0.9724\n",
            "Epoch 28/100\n",
            "10/10 [==============================] - 0s 2ms/step - loss: 0.1709 - accuracy: 0.9862\n",
            "Epoch 29/100\n",
            "10/10 [==============================] - 0s 2ms/step - loss: 0.1659 - accuracy: 0.9931\n",
            "Epoch 30/100\n",
            "10/10 [==============================] - 0s 2ms/step - loss: 0.1610 - accuracy: 0.9931\n",
            "Epoch 31/100\n",
            "10/10 [==============================] - 0s 3ms/step - loss: 0.1554 - accuracy: 0.9931\n",
            "Epoch 32/100\n",
            "10/10 [==============================] - 0s 2ms/step - loss: 0.1504 - accuracy: 0.9931\n",
            "Epoch 33/100\n",
            "10/10 [==============================] - 0s 2ms/step - loss: 0.1465 - accuracy: 1.0000\n",
            "Epoch 34/100\n",
            "10/10 [==============================] - 0s 3ms/step - loss: 0.1415 - accuracy: 1.0000\n",
            "Epoch 35/100\n",
            "10/10 [==============================] - 0s 3ms/step - loss: 0.1372 - accuracy: 1.0000\n",
            "Epoch 36/100\n",
            "10/10 [==============================] - 0s 2ms/step - loss: 0.1331 - accuracy: 0.9931\n",
            "Epoch 37/100\n",
            "10/10 [==============================] - 0s 2ms/step - loss: 0.1297 - accuracy: 0.9931\n",
            "Epoch 38/100\n",
            "10/10 [==============================] - 0s 3ms/step - loss: 0.1266 - accuracy: 1.0000\n",
            "Epoch 39/100\n",
            "10/10 [==============================] - 0s 2ms/step - loss: 0.1228 - accuracy: 1.0000\n",
            "Epoch 40/100\n",
            "10/10 [==============================] - 0s 2ms/step - loss: 0.1191 - accuracy: 1.0000\n",
            "Epoch 41/100\n",
            "10/10 [==============================] - 0s 3ms/step - loss: 0.1158 - accuracy: 1.0000\n",
            "Epoch 42/100\n",
            "10/10 [==============================] - 0s 2ms/step - loss: 0.1124 - accuracy: 1.0000\n",
            "Epoch 43/100\n",
            "10/10 [==============================] - 0s 3ms/step - loss: 0.1093 - accuracy: 1.0000\n",
            "Epoch 44/100\n",
            "10/10 [==============================] - 0s 2ms/step - loss: 0.1063 - accuracy: 1.0000\n",
            "Epoch 45/100\n",
            "10/10 [==============================] - 0s 2ms/step - loss: 0.1034 - accuracy: 1.0000\n",
            "Epoch 46/100\n",
            "10/10 [==============================] - 0s 2ms/step - loss: 0.1006 - accuracy: 1.0000\n",
            "Epoch 47/100\n",
            "10/10 [==============================] - 0s 2ms/step - loss: 0.0983 - accuracy: 1.0000\n",
            "Epoch 48/100\n",
            "10/10 [==============================] - 0s 2ms/step - loss: 0.0955 - accuracy: 1.0000\n",
            "Epoch 49/100\n",
            "10/10 [==============================] - 0s 3ms/step - loss: 0.0929 - accuracy: 1.0000\n",
            "Epoch 50/100\n",
            "10/10 [==============================] - 0s 2ms/step - loss: 0.0905 - accuracy: 1.0000\n",
            "Epoch 51/100\n",
            "10/10 [==============================] - 0s 2ms/step - loss: 0.0882 - accuracy: 1.0000\n",
            "Epoch 52/100\n",
            "10/10 [==============================] - 0s 2ms/step - loss: 0.0859 - accuracy: 1.0000\n",
            "Epoch 53/100\n",
            "10/10 [==============================] - 0s 3ms/step - loss: 0.0840 - accuracy: 1.0000\n",
            "Epoch 54/100\n",
            "10/10 [==============================] - 0s 3ms/step - loss: 0.0816 - accuracy: 1.0000\n",
            "Epoch 55/100\n",
            "10/10 [==============================] - 0s 2ms/step - loss: 0.0793 - accuracy: 1.0000\n",
            "Epoch 56/100\n",
            "10/10 [==============================] - 0s 2ms/step - loss: 0.0770 - accuracy: 1.0000\n",
            "Epoch 57/100\n",
            "10/10 [==============================] - 0s 2ms/step - loss: 0.0750 - accuracy: 1.0000\n",
            "Epoch 58/100\n",
            "10/10 [==============================] - 0s 2ms/step - loss: 0.0731 - accuracy: 1.0000\n",
            "Epoch 59/100\n",
            "10/10 [==============================] - 0s 2ms/step - loss: 0.0712 - accuracy: 1.0000\n",
            "Epoch 60/100\n",
            "10/10 [==============================] - 0s 2ms/step - loss: 0.0694 - accuracy: 1.0000\n",
            "Epoch 61/100\n",
            "10/10 [==============================] - 0s 3ms/step - loss: 0.0675 - accuracy: 1.0000\n",
            "Epoch 62/100\n",
            "10/10 [==============================] - 0s 2ms/step - loss: 0.0660 - accuracy: 1.0000\n",
            "Epoch 63/100\n",
            "10/10 [==============================] - 0s 2ms/step - loss: 0.0644 - accuracy: 1.0000\n",
            "Epoch 64/100\n",
            "10/10 [==============================] - 0s 2ms/step - loss: 0.0637 - accuracy: 1.0000\n",
            "Epoch 65/100\n",
            "10/10 [==============================] - 0s 2ms/step - loss: 0.0639 - accuracy: 1.0000\n",
            "Epoch 66/100\n",
            "10/10 [==============================] - 0s 2ms/step - loss: 0.0619 - accuracy: 1.0000\n",
            "Epoch 67/100\n",
            "10/10 [==============================] - 0s 3ms/step - loss: 0.0594 - accuracy: 1.0000\n",
            "Epoch 68/100\n",
            "10/10 [==============================] - 0s 2ms/step - loss: 0.0573 - accuracy: 1.0000\n",
            "Epoch 69/100\n",
            "10/10 [==============================] - 0s 2ms/step - loss: 0.0552 - accuracy: 1.0000\n",
            "Epoch 70/100\n",
            "10/10 [==============================] - 0s 2ms/step - loss: 0.0537 - accuracy: 1.0000\n",
            "Epoch 71/100\n",
            "10/10 [==============================] - 0s 2ms/step - loss: 0.0525 - accuracy: 1.0000\n",
            "Epoch 72/100\n",
            "10/10 [==============================] - 0s 2ms/step - loss: 0.0509 - accuracy: 1.0000\n",
            "Epoch 73/100\n",
            "10/10 [==============================] - 0s 2ms/step - loss: 0.0496 - accuracy: 1.0000\n",
            "Epoch 74/100\n",
            "10/10 [==============================] - 0s 2ms/step - loss: 0.0483 - accuracy: 1.0000\n",
            "Epoch 75/100\n",
            "10/10 [==============================] - 0s 2ms/step - loss: 0.0476 - accuracy: 1.0000\n",
            "Epoch 76/100\n",
            "10/10 [==============================] - 0s 3ms/step - loss: 0.0461 - accuracy: 1.0000\n",
            "Epoch 77/100\n",
            "10/10 [==============================] - 0s 2ms/step - loss: 0.0452 - accuracy: 1.0000\n",
            "Epoch 78/100\n",
            "10/10 [==============================] - 0s 3ms/step - loss: 0.0441 - accuracy: 1.0000\n",
            "Epoch 79/100\n",
            "10/10 [==============================] - 0s 3ms/step - loss: 0.0431 - accuracy: 1.0000\n",
            "Epoch 80/100\n",
            "10/10 [==============================] - 0s 2ms/step - loss: 0.0420 - accuracy: 1.0000\n",
            "Epoch 81/100\n",
            "10/10 [==============================] - 0s 2ms/step - loss: 0.0412 - accuracy: 1.0000\n",
            "Epoch 82/100\n",
            "10/10 [==============================] - 0s 3ms/step - loss: 0.0403 - accuracy: 1.0000\n",
            "Epoch 83/100\n",
            "10/10 [==============================] - 0s 4ms/step - loss: 0.0392 - accuracy: 1.0000\n",
            "Epoch 84/100\n",
            "10/10 [==============================] - 0s 3ms/step - loss: 0.0386 - accuracy: 1.0000\n",
            "Epoch 85/100\n",
            "10/10 [==============================] - 0s 2ms/step - loss: 0.0377 - accuracy: 1.0000\n",
            "Epoch 86/100\n",
            "10/10 [==============================] - 0s 3ms/step - loss: 0.0368 - accuracy: 1.0000\n",
            "Epoch 87/100\n",
            "10/10 [==============================] - 0s 3ms/step - loss: 0.0359 - accuracy: 1.0000\n",
            "Epoch 88/100\n",
            "10/10 [==============================] - 0s 3ms/step - loss: 0.0354 - accuracy: 1.0000\n",
            "Epoch 89/100\n",
            "10/10 [==============================] - 0s 2ms/step - loss: 0.0345 - accuracy: 1.0000\n",
            "Epoch 90/100\n",
            "10/10 [==============================] - 0s 2ms/step - loss: 0.0338 - accuracy: 1.0000\n",
            "Epoch 91/100\n",
            "10/10 [==============================] - 0s 2ms/step - loss: 0.0328 - accuracy: 1.0000\n",
            "Epoch 92/100\n",
            "10/10 [==============================] - 0s 2ms/step - loss: 0.0322 - accuracy: 1.0000\n",
            "Epoch 93/100\n",
            "10/10 [==============================] - 0s 2ms/step - loss: 0.0315 - accuracy: 1.0000\n",
            "Epoch 94/100\n",
            "10/10 [==============================] - 0s 2ms/step - loss: 0.0308 - accuracy: 1.0000\n",
            "Epoch 95/100\n",
            "10/10 [==============================] - 0s 3ms/step - loss: 0.0302 - accuracy: 1.0000\n",
            "Epoch 96/100\n",
            "10/10 [==============================] - 0s 3ms/step - loss: 0.0295 - accuracy: 1.0000\n",
            "Epoch 97/100\n",
            "10/10 [==============================] - 0s 2ms/step - loss: 0.0289 - accuracy: 1.0000\n",
            "Epoch 98/100\n",
            "10/10 [==============================] - 0s 2ms/step - loss: 0.0285 - accuracy: 1.0000\n",
            "Epoch 99/100\n",
            "10/10 [==============================] - 0s 2ms/step - loss: 0.0284 - accuracy: 1.0000\n",
            "Epoch 100/100\n",
            "10/10 [==============================] - 0s 2ms/step - loss: 0.0279 - accuracy: 1.0000\n"
          ]
        },
        {
          "output_type": "execute_result",
          "data": {
            "text/plain": [
              "<keras.callbacks.History at 0x7ff86a8ebf10>"
            ]
          },
          "metadata": {},
          "execution_count": 99
        }
      ]
    },
    {
      "cell_type": "markdown",
      "source": [
        "### | 검증 및 예측\n"
      ],
      "metadata": {
        "id": "DyFOnqyNw5_q"
      }
    },
    {
      "cell_type": "markdown",
      "source": [
        "#### **검증**\n",
        "\n",
        "```\n",
        "model.evaluate(x_test, y_test)\n",
        "```\n",
        "* `x_test` : 넘파이 혹은 텐서 형식의 인풋 테스트 데이터\n",
        "* `y_test` : 넘파이 혹은 텐서 형식의 아웃풋 테스트 데이터"
      ],
      "metadata": {
        "id": "qlalKZ-a04c3"
      }
    },
    {
      "cell_type": "code",
      "source": [
        "model.evaluate(x_valid, y_valid)"
      ],
      "metadata": {
        "id": "uHGyMlf60zng",
        "colab": {
          "base_uri": "https://localhost:8080/"
        },
        "outputId": "f54b7318-117c-442c-98df-5dae29b8a8a3"
      },
      "execution_count": 101,
      "outputs": [
        {
          "output_type": "stream",
          "name": "stdout",
          "text": [
            "2/2 [==============================] - 0s 13ms/step - loss: 0.4455 - accuracy: 0.8413\n"
          ]
        },
        {
          "output_type": "execute_result",
          "data": {
            "text/plain": [
              "[0.4455161392688751, 0.841269850730896]"
            ]
          },
          "metadata": {},
          "execution_count": 101
        }
      ]
    },
    {
      "cell_type": "markdown",
      "source": [
        "#### **예측**\n",
        "\n",
        "```\n",
        "model.predict(x_test)\n",
        "```\n",
        "* `x_test` : 넘파이 혹은 텐서 형식의 인풋 테스트 데이터\n",
        "* `y_test` : 넘파이 혹은 텐서 형식의 아웃풋 테스트 데이터"
      ],
      "metadata": {
        "id": "BITPUIOj07Uv"
      }
    },
    {
      "cell_type": "code",
      "source": [
        "y_pred = model.predict(x_valid)"
      ],
      "metadata": {
        "id": "KfDHL4PRv8YD"
      },
      "execution_count": 103,
      "outputs": []
    },
    {
      "cell_type": "markdown",
      "source": [
        "* 예측 시각화"
      ],
      "metadata": {
        "id": "gThN4RCR0_HI"
      }
    },
    {
      "cell_type": "code",
      "source": [
        "from sklearn.metrics import confusion_matrix, ConfusionMatrixDisplay\n",
        "\n",
        "# 함수 인풋 배열은 정수가 되어야 한다.\n",
        "cm = confusion_matrix(y_valid, np.round(y_pred))\n",
        "print(cm)\n",
        "ConfusionMatrixDisplay(cm).plot(cmap='Blues')"
      ],
      "metadata": {
        "id": "TG533VyLwDaK",
        "colab": {
          "base_uri": "https://localhost:8080/",
          "height": 334
        },
        "outputId": "e833031d-a50b-446d-f526-fa2bd8357bd3"
      },
      "execution_count": 105,
      "outputs": [
        {
          "output_type": "stream",
          "name": "stdout",
          "text": [
            "[[28  6]\n",
            " [ 4 25]]\n"
          ]
        },
        {
          "output_type": "execute_result",
          "data": {
            "text/plain": [
              "<sklearn.metrics._plot.confusion_matrix.ConfusionMatrixDisplay at 0x7ff86cb1bb50>"
            ]
          },
          "metadata": {},
          "execution_count": 105
        },
        {
          "output_type": "display_data",
          "data": {
            "text/plain": [
              "<Figure size 432x288 with 2 Axes>"
            ],
            "image/png": "[encoded data removed]"
          },
          "metadata": {
            "needs_background": "light"
          }
        }
      ]
    },
    {
      "cell_type": "markdown",
      "source": [
        "## 과제\n",
        "---"
      ],
      "metadata": {
        "id": "ZFrRTgcyipYg"
      }
    },
    {
      "cell_type": "markdown",
      "source": [
        "### | 과제1. 이진분류 문제 정리\n",
        "\n",
        "* 예측값의 범위 : 0에서 1 사이의 확률값\n",
        "* 예측값의 shape : (샘플 개수, ) 혹은 (샘플 개수, 1)\n",
        "* 아웃풋 레이어의 노드 개수 : 1\n",
        "* 아웃풋 레이어의 activation : sigmoid \n",
        "* 손실함수 (loss) : binary crossentropy\n",
        "* 평가함수 (metrics) : accuracy"
      ],
      "metadata": {
        "id": "xjnJSLgXK_Pp"
      }
    },
    {
      "cell_type": "markdown",
      "source": [
        "### | 과제2. 한 셀에 코드 정리하기\n",
        "\n",
        "* 추가 연습\n",
        "  * 모델의 깊이(depth)를 늘려가며 학습해 보세요.\n",
        "  * 모델의 너비(width)를 늘려가며 학습해 보세요."
      ],
      "metadata": {
        "id": "ZvFAB78P1B_Q"
      }
    },
    {
      "cell_type": "code",
      "source": [
        "from sklearn.preprocessing import StandardScaler, LabelEncoder\n",
        "from sklearn.model_selection import train_test_split\n",
        "\n",
        "def data_load(path, seed=1):\n",
        "  # 데이터 적절히 불러오기\n",
        "  df = pd.read_csv(data_path,\n",
        "                   header=None, # 첫번째 행이 데이터(컬럼이 없음)\n",
        "                   )\n",
        "  # x-y 분할\n",
        "  x = df.values[:, :-1] # 모든행(샘플), 0부터59까지 열(속성)\n",
        "  y = df.values[:, -1] # 모든행(샘플), 60번째 열(속성)\n",
        "\n",
        "  # 정규화 (x의 모든속성, y는 하지 않음)\n",
        "  scaler = StandardScaler()\n",
        "  x = scaler.fit_transform(x)\n",
        "  \n",
        "  # 라벨링 (y 라벨링, x는 하지 않음)\n",
        "  labeling = LabelEncoder()\n",
        "  y = labeling.fit_transform(y)\n",
        "\n",
        "  # train-test 데이터 분할\n",
        "  x_train, x_valid, y_train, y_valid = train_test_split(x, y, test_size=0.3, \n",
        "                                                      random_state=seed, \n",
        "                                                      stratify=y ) # train-test 분할 시 클래스 비율 비슷하게 유지\n",
        "  return x_train, x_test, y_train, y_test\n",
        "\n",
        "data_path = '/content/SkillTreePython-DeepLearning/dataset/sonar.csv'\n",
        "x_train, x_valid, y_train, y_valid = path2data_sonar(data_path)\n",
        "\n",
        "from tensorflow.keras import layers, models, utils\n",
        "\n",
        "def build_model(depth, width) :\n",
        "  x = layers.Input(shape=(60)) # 데이터가 주어지면 인풋의 shape는 고정\n",
        "  z = layers.Dense(width, activation = 'relu')(x)\n",
        "  for i in range(depth) :\n",
        "    z = layers.Dense(width, activation = 'relu')(z)\n",
        "  y = layers.Dense(1, activation = 'sigmoid')(z) # 데이터가 주어지면 아웃풋의 shape는 고정\n",
        "  # 이진분류 문제는 마지막 아웃풋 shape가 1, 마지막 활성화 함수는 시그모이드 함수\n",
        "  model = models.Model(x,y, name='house_regression')\n",
        "  return model\n",
        "\n",
        "model.compile(loss = 'binary_crossentropy', \n",
        "              optimizer = 'adam', \n",
        "              metrics = ['accuracy'])\n",
        "model.fit(x_train, y_train, epochs = 100, batch_size = 16)\n",
        "y_pred = model.predict(x_valid)\n",
        "print('-'*30, 'evaluate', '-'*30)\n",
        "model.evaluate(x_valid, y_valid)\n",
        "from sklearn.metrics import confusion_matrix, ConfusionMatrixDisplay\n",
        "cm = confusion_matrix(y_valid, np.round(y_pred))\n",
        "ConfusionMatrixDisplay(cm).plot(cmap='Blues')"
      ],
      "metadata": {
        "id": "v5WYSd9a1Cz4",
        "colab": {
          "base_uri": "https://localhost:8080/",
          "height": 1000
        },
        "outputId": "d66a9e91-607c-4ed5-cbe7-897bdcbe5a60"
      },
      "execution_count": 107,
      "outputs": [
        {
          "output_type": "stream",
          "name": "stdout",
          "text": [
            "Epoch 1/100\n",
            "10/10 [==============================] - 1s 2ms/step - loss: 9.3156e-04 - accuracy: 1.0000\n",
            "Epoch 2/100\n",
            "10/10 [==============================] - 0s 4ms/step - loss: 7.8198e-04 - accuracy: 1.0000\n",
            "Epoch 3/100\n",
            "10/10 [==============================] - 0s 2ms/step - loss: 6.8425e-04 - accuracy: 1.0000\n",
            "Epoch 4/100\n",
            "10/10 [==============================] - 0s 3ms/step - loss: 6.1310e-04 - accuracy: 1.0000\n",
            "Epoch 5/100\n",
            "10/10 [==============================] - 0s 2ms/step - loss: 5.5630e-04 - accuracy: 1.0000\n",
            "Epoch 6/100\n",
            "10/10 [==============================] - 0s 3ms/step - loss: 5.1731e-04 - accuracy: 1.0000\n",
            "Epoch 7/100\n",
            "10/10 [==============================] - 0s 3ms/step - loss: 4.8374e-04 - accuracy: 1.0000\n",
            "Epoch 8/100\n",
            "10/10 [==============================] - 0s 2ms/step - loss: 4.3416e-04 - accuracy: 1.0000\n",
            "Epoch 9/100\n",
            "10/10 [==============================] - 0s 2ms/step - loss: 4.0757e-04 - accuracy: 1.0000\n",
            "Epoch 10/100\n",
            "10/10 [==============================] - 0s 2ms/step - loss: 3.8014e-04 - accuracy: 1.0000\n",
            "Epoch 11/100\n",
            "10/10 [==============================] - 0s 3ms/step - loss: 3.6391e-04 - accuracy: 1.0000\n",
            "Epoch 12/100\n",
            "10/10 [==============================] - 0s 3ms/step - loss: 3.3202e-04 - accuracy: 1.0000\n",
            "Epoch 13/100\n",
            "10/10 [==============================] - 0s 2ms/step - loss: 3.0633e-04 - accuracy: 1.0000\n",
            "Epoch 14/100\n",
            "10/10 [==============================] - 0s 3ms/step - loss: 2.7990e-04 - accuracy: 1.0000\n",
            "Epoch 15/100\n",
            "10/10 [==============================] - 0s 3ms/step - loss: 2.6321e-04 - accuracy: 1.0000\n",
            "Epoch 16/100\n",
            "10/10 [==============================] - 0s 3ms/step - loss: 2.4848e-04 - accuracy: 1.0000\n",
            "Epoch 17/100\n",
            "10/10 [==============================] - 0s 3ms/step - loss: 2.3346e-04 - accuracy: 1.0000\n",
            "Epoch 18/100\n",
            "10/10 [==============================] - 0s 4ms/step - loss: 2.2668e-04 - accuracy: 1.0000\n",
            "Epoch 19/100\n",
            "10/10 [==============================] - 0s 3ms/step - loss: 2.1886e-04 - accuracy: 1.0000\n",
            "Epoch 20/100\n",
            "10/10 [==============================] - 0s 3ms/step - loss: 2.0176e-04 - accuracy: 1.0000\n",
            "Epoch 21/100\n",
            "10/10 [==============================] - 0s 3ms/step - loss: 1.9002e-04 - accuracy: 1.0000\n",
            "Epoch 22/100\n",
            "10/10 [==============================] - 0s 3ms/step - loss: 1.7756e-04 - accuracy: 1.0000\n",
            "Epoch 23/100\n",
            "10/10 [==============================] - 0s 2ms/step - loss: 1.6891e-04 - accuracy: 1.0000\n",
            "Epoch 24/100\n",
            "10/10 [==============================] - 0s 2ms/step - loss: 1.6190e-04 - accuracy: 1.0000\n",
            "Epoch 25/100\n",
            "10/10 [==============================] - 0s 3ms/step - loss: 1.5345e-04 - accuracy: 1.0000\n",
            "Epoch 26/100\n",
            "10/10 [==============================] - 0s 3ms/step - loss: 1.4582e-04 - accuracy: 1.0000\n",
            "Epoch 27/100\n",
            "10/10 [==============================] - 0s 3ms/step - loss: 1.3984e-04 - accuracy: 1.0000\n",
            "Epoch 28/100\n",
            "10/10 [==============================] - 0s 3ms/step - loss: 1.3501e-04 - accuracy: 1.0000\n",
            "Epoch 29/100\n",
            "10/10 [==============================] - 0s 4ms/step - loss: 1.3081e-04 - accuracy: 1.0000\n",
            "Epoch 30/100\n",
            "10/10 [==============================] - 0s 3ms/step - loss: 1.2577e-04 - accuracy: 1.0000\n",
            "Epoch 31/100\n",
            "10/10 [==============================] - 0s 3ms/step - loss: 1.1918e-04 - accuracy: 1.0000\n",
            "Epoch 32/100\n",
            "10/10 [==============================] - 0s 2ms/step - loss: 1.1348e-04 - accuracy: 1.0000\n",
            "Epoch 33/100\n",
            "10/10 [==============================] - 0s 2ms/step - loss: 1.1036e-04 - accuracy: 1.0000\n",
            "Epoch 34/100\n",
            "10/10 [==============================] - 0s 2ms/step - loss: 1.0347e-04 - accuracy: 1.0000\n",
            "Epoch 35/100\n",
            "10/10 [==============================] - 0s 2ms/step - loss: 9.9703e-05 - accuracy: 1.0000\n",
            "Epoch 36/100\n",
            "10/10 [==============================] - 0s 3ms/step - loss: 9.5839e-05 - accuracy: 1.0000\n",
            "Epoch 37/100\n",
            "10/10 [==============================] - 0s 3ms/step - loss: 9.2495e-05 - accuracy: 1.0000\n",
            "Epoch 38/100\n",
            "10/10 [==============================] - 0s 3ms/step - loss: 8.9406e-05 - accuracy: 1.0000\n",
            "Epoch 39/100\n",
            "10/10 [==============================] - 0s 2ms/step - loss: 8.6237e-05 - accuracy: 1.0000\n",
            "Epoch 40/100\n",
            "10/10 [==============================] - 0s 3ms/step - loss: 8.2985e-05 - accuracy: 1.0000\n",
            "Epoch 41/100\n",
            "10/10 [==============================] - 0s 2ms/step - loss: 8.0335e-05 - accuracy: 1.0000\n",
            "Epoch 42/100\n",
            "10/10 [==============================] - 0s 2ms/step - loss: 7.7355e-05 - accuracy: 1.0000\n",
            "Epoch 43/100\n",
            "10/10 [==============================] - 0s 3ms/step - loss: 7.5108e-05 - accuracy: 1.0000\n",
            "Epoch 44/100\n",
            "10/10 [==============================] - 0s 3ms/step - loss: 7.2559e-05 - accuracy: 1.0000\n",
            "Epoch 45/100\n",
            "10/10 [==============================] - 0s 3ms/step - loss: 7.0173e-05 - accuracy: 1.0000\n",
            "Epoch 46/100\n",
            "10/10 [==============================] - 0s 3ms/step - loss: 6.8129e-05 - accuracy: 1.0000\n",
            "Epoch 47/100\n",
            "10/10 [==============================] - 0s 3ms/step - loss: 6.6571e-05 - accuracy: 1.0000\n",
            "Epoch 48/100\n",
            "10/10 [==============================] - 0s 3ms/step - loss: 6.4540e-05 - accuracy: 1.0000\n",
            "Epoch 49/100\n",
            "10/10 [==============================] - 0s 3ms/step - loss: 6.2341e-05 - accuracy: 1.0000\n",
            "Epoch 50/100\n",
            "10/10 [==============================] - 0s 3ms/step - loss: 6.0828e-05 - accuracy: 1.0000\n",
            "Epoch 51/100\n",
            "10/10 [==============================] - 0s 2ms/step - loss: 5.8911e-05 - accuracy: 1.0000\n",
            "Epoch 52/100\n",
            "10/10 [==============================] - 0s 3ms/step - loss: 5.7224e-05 - accuracy: 1.0000\n",
            "Epoch 53/100\n",
            "10/10 [==============================] - 0s 3ms/step - loss: 5.5739e-05 - accuracy: 1.0000\n",
            "Epoch 54/100\n",
            "10/10 [==============================] - 0s 2ms/step - loss: 5.4266e-05 - accuracy: 1.0000\n",
            "Epoch 55/100\n",
            "10/10 [==============================] - 0s 2ms/step - loss: 5.2848e-05 - accuracy: 1.0000\n",
            "Epoch 56/100\n",
            "10/10 [==============================] - 0s 3ms/step - loss: 5.1293e-05 - accuracy: 1.0000\n",
            "Epoch 57/100\n",
            "10/10 [==============================] - 0s 3ms/step - loss: 5.0017e-05 - accuracy: 1.0000\n",
            "Epoch 58/100\n",
            "10/10 [==============================] - 0s 3ms/step - loss: 4.8702e-05 - accuracy: 1.0000\n",
            "Epoch 59/100\n",
            "10/10 [==============================] - 0s 2ms/step - loss: 4.7382e-05 - accuracy: 1.0000\n",
            "Epoch 60/100\n",
            "10/10 [==============================] - 0s 3ms/step - loss: 4.6256e-05 - accuracy: 1.0000\n",
            "Epoch 61/100\n",
            "10/10 [==============================] - 0s 2ms/step - loss: 4.5154e-05 - accuracy: 1.0000\n",
            "Epoch 62/100\n",
            "10/10 [==============================] - 0s 2ms/step - loss: 4.3961e-05 - accuracy: 1.0000\n",
            "Epoch 63/100\n",
            "10/10 [==============================] - 0s 2ms/step - loss: 4.3083e-05 - accuracy: 1.0000\n",
            "Epoch 64/100\n",
            "10/10 [==============================] - 0s 2ms/step - loss: 4.3798e-05 - accuracy: 1.0000\n",
            "Epoch 65/100\n",
            "10/10 [==============================] - 0s 2ms/step - loss: 5.0506e-05 - accuracy: 1.0000\n",
            "Epoch 66/100\n",
            "10/10 [==============================] - 0s 3ms/step - loss: 4.7050e-05 - accuracy: 1.0000\n",
            "Epoch 67/100\n",
            "10/10 [==============================] - 0s 4ms/step - loss: 4.2918e-05 - accuracy: 1.0000\n",
            "Epoch 68/100\n",
            "10/10 [==============================] - 0s 2ms/step - loss: 3.8644e-05 - accuracy: 1.0000\n",
            "Epoch 69/100\n",
            "10/10 [==============================] - 0s 3ms/step - loss: 3.6558e-05 - accuracy: 1.0000\n",
            "Epoch 70/100\n",
            "10/10 [==============================] - 0s 3ms/step - loss: 3.5662e-05 - accuracy: 1.0000\n",
            "Epoch 71/100\n",
            "10/10 [==============================] - 0s 3ms/step - loss: 3.4771e-05 - accuracy: 1.0000\n",
            "Epoch 72/100\n",
            "10/10 [==============================] - 0s 2ms/step - loss: 3.3825e-05 - accuracy: 1.0000\n",
            "Epoch 73/100\n",
            "10/10 [==============================] - 0s 2ms/step - loss: 3.3163e-05 - accuracy: 1.0000\n",
            "Epoch 74/100\n",
            "10/10 [==============================] - 0s 2ms/step - loss: 3.2180e-05 - accuracy: 1.0000\n",
            "Epoch 75/100\n",
            "10/10 [==============================] - 0s 2ms/step - loss: 3.1835e-05 - accuracy: 1.0000\n",
            "Epoch 76/100\n",
            "10/10 [==============================] - 0s 2ms/step - loss: 3.0891e-05 - accuracy: 1.0000\n",
            "Epoch 77/100\n",
            "10/10 [==============================] - 0s 2ms/step - loss: 3.0336e-05 - accuracy: 1.0000\n",
            "Epoch 78/100\n",
            "10/10 [==============================] - 0s 2ms/step - loss: 2.9681e-05 - accuracy: 1.0000\n",
            "Epoch 79/100\n",
            "10/10 [==============================] - 0s 2ms/step - loss: 2.9110e-05 - accuracy: 1.0000\n",
            "Epoch 80/100\n",
            "10/10 [==============================] - 0s 2ms/step - loss: 2.8546e-05 - accuracy: 1.0000\n",
            "Epoch 81/100\n",
            "10/10 [==============================] - 0s 2ms/step - loss: 2.8003e-05 - accuracy: 1.0000\n",
            "Epoch 82/100\n",
            "10/10 [==============================] - 0s 2ms/step - loss: 2.7378e-05 - accuracy: 1.0000\n",
            "Epoch 83/100\n",
            "10/10 [==============================] - 0s 2ms/step - loss: 2.6861e-05 - accuracy: 1.0000\n",
            "Epoch 84/100\n",
            "10/10 [==============================] - 0s 2ms/step - loss: 2.6477e-05 - accuracy: 1.0000\n",
            "Epoch 85/100\n",
            "10/10 [==============================] - 0s 4ms/step - loss: 2.5896e-05 - accuracy: 1.0000\n",
            "Epoch 86/100\n",
            "10/10 [==============================] - 0s 2ms/step - loss: 2.5396e-05 - accuracy: 1.0000\n",
            "Epoch 87/100\n",
            "10/10 [==============================] - 0s 2ms/step - loss: 2.4850e-05 - accuracy: 1.0000\n",
            "Epoch 88/100\n",
            "10/10 [==============================] - 0s 3ms/step - loss: 2.4978e-05 - accuracy: 1.0000\n",
            "Epoch 89/100\n",
            "10/10 [==============================] - 0s 2ms/step - loss: 2.4463e-05 - accuracy: 1.0000\n",
            "Epoch 90/100\n",
            "10/10 [==============================] - 0s 3ms/step - loss: 2.3897e-05 - accuracy: 1.0000\n",
            "Epoch 91/100\n",
            "10/10 [==============================] - 0s 2ms/step - loss: 2.3120e-05 - accuracy: 1.0000\n",
            "Epoch 92/100\n",
            "10/10 [==============================] - 0s 2ms/step - loss: 2.2650e-05 - accuracy: 1.0000\n",
            "Epoch 93/100\n",
            "10/10 [==============================] - 0s 3ms/step - loss: 2.2207e-05 - accuracy: 1.0000\n",
            "Epoch 94/100\n",
            "10/10 [==============================] - 0s 3ms/step - loss: 2.1776e-05 - accuracy: 1.0000\n",
            "Epoch 95/100\n",
            "10/10 [==============================] - 0s 2ms/step - loss: 2.1446e-05 - accuracy: 1.0000\n",
            "Epoch 96/100\n",
            "10/10 [==============================] - 0s 2ms/step - loss: 2.1071e-05 - accuracy: 1.0000\n",
            "Epoch 97/100\n",
            "10/10 [==============================] - 0s 3ms/step - loss: 2.0670e-05 - accuracy: 1.0000\n",
            "Epoch 98/100\n",
            "10/10 [==============================] - 0s 2ms/step - loss: 2.0362e-05 - accuracy: 1.0000\n",
            "Epoch 99/100\n",
            "10/10 [==============================] - 0s 3ms/step - loss: 2.0160e-05 - accuracy: 1.0000\n",
            "Epoch 100/100\n",
            "10/10 [==============================] - 0s 2ms/step - loss: 1.9821e-05 - accuracy: 1.0000\n",
            "------------------------------ evaluate ------------------------------\n",
            "2/2 [==============================] - 0s 6ms/step - loss: 0.9885 - accuracy: 0.8571\n"
          ]
        },
        {
          "output_type": "execute_result",
          "data": {
            "text/plain": [
              "<sklearn.metrics._plot.confusion_matrix.ConfusionMatrixDisplay at 0x7ff86c894f50>"
            ]
          },
          "metadata": {},
          "execution_count": 107
        },
        {
          "output_type": "display_data",
          "data": {
            "text/plain": [
              "<Figure size 432x288 with 2 Axes>"
            ],
            "image/png": "[encoded data removed]"
          },
          "metadata": {
            "needs_background": "light"
          }
        }
      ]
    },
    {
      "cell_type": "markdown",
      "source": [
        ""
      ],
      "metadata": {
        "id": "uIkNMaZQNCs_"
      }
    },
    {
      "cell_type": "markdown",
      "source": [
        "### | 과제 3. 피마 인디언 당뇨병 예측\n",
        "\n",
        "\n",
        "* `pima-indians-diabetes.csv`\n",
        "```\n",
        "df = pd.read_csv(data_path,\n",
        "                names = [\"pregnant\", \"plasma\", \"pressure\", \"thickness\", \"insulin\", \"BMI\", \"pedigree\", \"age\", \"class\"])\n",
        "```"
      ],
      "metadata": {
        "id": "2K0mAdPzjOAf"
      }
    },
    {
      "cell_type": "code",
      "source": [
        "df = pd.read_csv('/content/SkillTreePython-DeepLearning/dataset/pima-indians-diabetes.csv',\n",
        "                 names = [\"pregnant\", \"plasma\", \"pressure\", \"thickness\", \"insulin\", \"BMI\", \"pedigree\", \"age\", \"class\"])\n",
        "df.head()"
      ],
      "metadata": {
        "id": "Ppi8p2S_HsVb",
        "colab": {
          "base_uri": "https://localhost:8080/",
          "height": 206
        },
        "outputId": "01f46fae-e31f-453e-ef02-5dce8b3cc672"
      },
      "execution_count": 114,
      "outputs": [
        {
          "output_type": "execute_result",
          "data": {
            "text/plain": [
              "   pregnant  plasma  pressure  thickness  insulin   BMI  pedigree  age  class\n",
              "0         6     148        72         35        0  33.6     0.627   50      1\n",
              "1         1      85        66         29        0  26.6     0.351   31      0\n",
              "2         8     183        64          0        0  23.3     0.672   32      1\n",
              "3         1      89        66         23       94  28.1     0.167   21      0\n",
              "4         0     137        40         35      168  43.1     2.288   33      1"
            ],
            "text/html": [
              "\n",
              "  <div id=\"df-06629fc2-5148-4a57-9b5d-a4068a82d71a\">\n",
              "    <div class=\"colab-df-container\">\n",
              "      <div>\n",
              "<style scoped>\n",
              "    .dataframe tbody tr th:only-of-type {\n",
              "        vertical-align: middle;\n",
              "    }\n",
              "\n",
              "    .dataframe tbody tr th {\n",
              "        vertical-align: top;\n",
              "    }\n",
              "\n",
              "    .dataframe thead th {\n",
              "        text-align: right;\n",
              "    }\n",
              "</style>\n",
              "<table border=\"1\" class=\"dataframe\">\n",
              "  <thead>\n",
              "    <tr style=\"text-align: right;\">\n",
              "      <th></th>\n",
              "      <th>pregnant</th>\n",
              "      <th>plasma</th>\n",
              "      <th>pressure</th>\n",
              "      <th>thickness</th>\n",
              "      <th>insulin</th>\n",
              "      <th>BMI</th>\n",
              "      <th>pedigree</th>\n",
              "      <th>age</th>\n",
              "      <th>class</th>\n",
              "    </tr>\n",
              "  </thead>\n",
              "  <tbody>\n",
              "    <tr>\n",
              "      <th>0</th>\n",
              "      <td>6</td>\n",
              "      <td>148</td>\n",
              "      <td>72</td>\n",
              "      <td>35</td>\n",
              "      <td>0</td>\n",
              "      <td>33.6</td>\n",
              "      <td>0.627</td>\n",
              "      <td>50</td>\n",
              "      <td>1</td>\n",
              "    </tr>\n",
              "    <tr>\n",
              "      <th>1</th>\n",
              "      <td>1</td>\n",
              "      <td>85</td>\n",
              "      <td>66</td>\n",
              "      <td>29</td>\n",
              "      <td>0</td>\n",
              "      <td>26.6</td>\n",
              "      <td>0.351</td>\n",
              "      <td>31</td>\n",
              "      <td>0</td>\n",
              "    </tr>\n",
              "    <tr>\n",
              "      <th>2</th>\n",
              "      <td>8</td>\n",
              "      <td>183</td>\n",
              "      <td>64</td>\n",
              "      <td>0</td>\n",
              "      <td>0</td>\n",
              "      <td>23.3</td>\n",
              "      <td>0.672</td>\n",
              "      <td>32</td>\n",
              "      <td>1</td>\n",
              "    </tr>\n",
              "    <tr>\n",
              "      <th>3</th>\n",
              "      <td>1</td>\n",
              "      <td>89</td>\n",
              "      <td>66</td>\n",
              "      <td>23</td>\n",
              "      <td>94</td>\n",
              "      <td>28.1</td>\n",
              "      <td>0.167</td>\n",
              "      <td>21</td>\n",
              "      <td>0</td>\n",
              "    </tr>\n",
              "    <tr>\n",
              "      <th>4</th>\n",
              "      <td>0</td>\n",
              "      <td>137</td>\n",
              "      <td>40</td>\n",
              "      <td>35</td>\n",
              "      <td>168</td>\n",
              "      <td>43.1</td>\n",
              "      <td>2.288</td>\n",
              "      <td>33</td>\n",
              "      <td>1</td>\n",
              "    </tr>\n",
              "  </tbody>\n",
              "</table>\n",
              "</div>\n",
              "      <button class=\"colab-df-convert\" onclick=\"convertToInteractive('df-06629fc2-5148-4a57-9b5d-a4068a82d71a')\"\n",
              "              title=\"Convert this dataframe to an interactive table.\"\n",
              "              style=\"display:none;\">\n",
              "        \n",
              "  <svg xmlns=\"http://www.w3.org/2000/svg\" height=\"24px\"viewBox=\"0 0 24 24\"\n",
              "       width=\"24px\">\n",
              "    <path d=\"M0 0h24v24H0V0z\" fill=\"none\"/>\n",
              "    <path d=\"M18.56 5.44l.94 2.06.94-2.06 2.06-.94-2.06-.94-.94-2.06-.94 2.06-2.06.94zm-11 1L8.5 8.5l.94-2.06 2.06-.94-2.06-.94L8.5 2.5l-.94 2.06-2.06.94zm10 10l.94 2.06.94-2.06 2.06-.94-2.06-.94-.94-2.06-.94 2.06-2.06.94z\"/><path d=\"M17.41 7.96l-1.37-1.37c-.4-.4-.92-.59-1.43-.59-.52 0-1.04.2-1.43.59L10.3 9.45l-7.72 7.72c-.78.78-.78 2.05 0 2.83L4 21.41c.39.39.9.59 1.41.59.51 0 1.02-.2 1.41-.59l7.78-7.78 2.81-2.81c.8-.78.8-2.07 0-2.86zM5.41 20L4 18.59l7.72-7.72 1.47 1.35L5.41 20z\"/>\n",
              "  </svg>\n",
              "      </button>\n",
              "      \n",
              "  <style>\n",
              "    .colab-df-container {\n",
              "      display:flex;\n",
              "      flex-wrap:wrap;\n",
              "      gap: 12px;\n",
              "    }\n",
              "\n",
              "    .colab-df-convert {\n",
              "      background-color: #E8F0FE;\n",
              "      border: none;\n",
              "      border-radius: 50%;\n",
              "      cursor: pointer;\n",
              "      display: none;\n",
              "      fill: #1967D2;\n",
              "      height: 32px;\n",
              "      padding: 0 0 0 0;\n",
              "      width: 32px;\n",
              "    }\n",
              "\n",
              "    .colab-df-convert:hover {\n",
              "      background-color: #E2EBFA;\n",
              "      box-shadow: 0px 1px 2px rgba(60, 64, 67, 0.3), 0px 1px 3px 1px rgba(60, 64, 67, 0.15);\n",
              "      fill: #174EA6;\n",
              "    }\n",
              "\n",
              "    [theme=dark] .colab-df-convert {\n",
              "      background-color: #3B4455;\n",
              "      fill: #D2E3FC;\n",
              "    }\n",
              "\n",
              "    [theme=dark] .colab-df-convert:hover {\n",
              "      background-color: #434B5C;\n",
              "      box-shadow: 0px 1px 3px 1px rgba(0, 0, 0, 0.15);\n",
              "      filter: drop-shadow(0px 1px 2px rgba(0, 0, 0, 0.3));\n",
              "      fill: #FFFFFF;\n",
              "    }\n",
              "  </style>\n",
              "\n",
              "      <script>\n",
              "        const buttonEl =\n",
              "          document.querySelector('#df-06629fc2-5148-4a57-9b5d-a4068a82d71a button.colab-df-convert');\n",
              "        buttonEl.style.display =\n",
              "          google.colab.kernel.accessAllowed ? 'block' : 'none';\n",
              "\n",
              "        async function convertToInteractive(key) {\n",
              "          const element = document.querySelector('#df-06629fc2-5148-4a57-9b5d-a4068a82d71a');\n",
              "          const dataTable =\n",
              "            await google.colab.kernel.invokeFunction('convertToInteractive',\n",
              "                                                     [key], {});\n",
              "          if (!dataTable) return;\n",
              "\n",
              "          const docLinkHtml = 'Like what you see? Visit the ' +\n",
              "            '<a target=\"_blank\" href=https://colab.research.google.com/notebooks/data_table.ipynb>data table notebook</a>'\n",
              "            + ' to learn more about interactive tables.';\n",
              "          element.innerHTML = '';\n",
              "          dataTable['output_type'] = 'display_data';\n",
              "          await google.colab.output.renderOutput(dataTable, element);\n",
              "          const docLink = document.createElement('div');\n",
              "          docLink.innerHTML = docLinkHtml;\n",
              "          element.appendChild(docLink);\n",
              "        }\n",
              "      </script>\n",
              "    </div>\n",
              "  </div>\n",
              "  "
            ]
          },
          "metadata": {},
          "execution_count": 114
        }
      ]
    },
    {
      "cell_type": "code",
      "source": [
        "scaler = StandardScaler()\n",
        "x = scaler.fit_transform(df.values[:,:-1])\n",
        "y = df.values[:,-1]\n",
        "\n",
        "X_train,X_valid,y_train,y_valid = train_test_split(x,y,test_size=0.2, random_state = 1, stratify = y)\n",
        "print(X_train.shape,X_valid.shape,y_train.shape,y_valid.shape)"
      ],
      "metadata": {
        "colab": {
          "base_uri": "https://localhost:8080/"
        },
        "id": "BzOff4rXQ0eB",
        "outputId": "f6373cdd-c46e-48b1-a2af-878b4bbd7848"
      },
      "execution_count": 115,
      "outputs": [
        {
          "output_type": "stream",
          "name": "stdout",
          "text": [
            "(614, 8) (154, 8) (614,) (154,)\n"
          ]
        }
      ]
    },
    {
      "cell_type": "code",
      "source": [
        "def build_model() :\n",
        "  x = layers.Input(shape=(8))\n",
        "  z = layers.Dense(16)(x)\n",
        "  z = layers.Dense(16, activation = 'relu')(z)\n",
        "  z = layers.Dense(8,activation = 'relu')(z)\n",
        "  y = layers.Dense(1, activation = 'sigmoid')(z)\n",
        "  model = models.Model(x,y,name='pima_diabetes')\n",
        "  return model\n",
        "model = build_model()"
      ],
      "metadata": {
        "id": "TQ1XAERaRgRq"
      },
      "execution_count": 117,
      "outputs": []
    },
    {
      "cell_type": "code",
      "source": [
        "model.compile(loss = 'binary_crossentropy', \n",
        "              optimizer = 'adam', metrics = ['accuracy'])\n",
        "model.fit(X_train,y_train, epochs = 100, batch_size = 8)\n",
        "print('-'*30, 'evaluate', '-'*30)\n",
        "model.evaluate(X_valid, y_valid)\n",
        "y_pred = model.predict(X_valid)"
      ],
      "metadata": {
        "colab": {
          "base_uri": "https://localhost:8080/"
        },
        "id": "tGcuxhw-SpTJ",
        "outputId": "ad2c4b11-0a4d-4048-d318-a0fd8900001e"
      },
      "execution_count": 121,
      "outputs": [
        {
          "output_type": "stream",
          "name": "stdout",
          "text": [
            "Epoch 1/100\n",
            "77/77 [==============================] - 1s 2ms/step - loss: 0.6577 - accuracy: 0.6661\n",
            "Epoch 2/100\n",
            "77/77 [==============================] - 0s 3ms/step - loss: 0.5556 - accuracy: 0.7492\n",
            "Epoch 3/100\n",
            "77/77 [==============================] - 0s 3ms/step - loss: 0.4859 - accuracy: 0.7638\n",
            "Epoch 4/100\n",
            "77/77 [==============================] - 0s 2ms/step - loss: 0.4625 - accuracy: 0.7769\n",
            "Epoch 5/100\n",
            "77/77 [==============================] - 0s 3ms/step - loss: 0.4510 - accuracy: 0.7834\n",
            "Epoch 6/100\n",
            "77/77 [==============================] - 0s 3ms/step - loss: 0.4455 - accuracy: 0.7932\n",
            "Epoch 7/100\n",
            "77/77 [==============================] - 0s 3ms/step - loss: 0.4409 - accuracy: 0.7915\n",
            "Epoch 8/100\n",
            "77/77 [==============================] - 0s 3ms/step - loss: 0.4370 - accuracy: 0.7866\n",
            "Epoch 9/100\n",
            "77/77 [==============================] - 0s 3ms/step - loss: 0.4339 - accuracy: 0.7948\n",
            "Epoch 10/100\n",
            "77/77 [==============================] - 0s 2ms/step - loss: 0.4323 - accuracy: 0.7866\n",
            "Epoch 11/100\n",
            "77/77 [==============================] - 0s 2ms/step - loss: 0.4294 - accuracy: 0.7980\n",
            "Epoch 12/100\n",
            "77/77 [==============================] - 0s 2ms/step - loss: 0.4255 - accuracy: 0.7964\n",
            "Epoch 13/100\n",
            "77/77 [==============================] - 0s 2ms/step - loss: 0.4243 - accuracy: 0.7883\n",
            "Epoch 14/100\n",
            "77/77 [==============================] - 0s 2ms/step - loss: 0.4219 - accuracy: 0.8046\n",
            "Epoch 15/100\n",
            "77/77 [==============================] - 0s 2ms/step - loss: 0.4206 - accuracy: 0.7997\n",
            "Epoch 16/100\n",
            "77/77 [==============================] - 0s 2ms/step - loss: 0.4176 - accuracy: 0.8062\n",
            "Epoch 17/100\n",
            "77/77 [==============================] - 0s 2ms/step - loss: 0.4164 - accuracy: 0.7948\n",
            "Epoch 18/100\n",
            "77/77 [==============================] - 0s 2ms/step - loss: 0.4143 - accuracy: 0.8029\n",
            "Epoch 19/100\n",
            "77/77 [==============================] - 0s 2ms/step - loss: 0.4128 - accuracy: 0.8029\n",
            "Epoch 20/100\n",
            "77/77 [==============================] - 0s 2ms/step - loss: 0.4115 - accuracy: 0.7997\n",
            "Epoch 21/100\n",
            "77/77 [==============================] - 0s 2ms/step - loss: 0.4087 - accuracy: 0.8111\n",
            "Epoch 22/100\n",
            "77/77 [==============================] - 0s 2ms/step - loss: 0.4071 - accuracy: 0.8029\n",
            "Epoch 23/100\n",
            "77/77 [==============================] - 0s 2ms/step - loss: 0.4047 - accuracy: 0.7980\n",
            "Epoch 24/100\n",
            "77/77 [==============================] - 0s 2ms/step - loss: 0.4036 - accuracy: 0.8046\n",
            "Epoch 25/100\n",
            "77/77 [==============================] - 0s 2ms/step - loss: 0.4022 - accuracy: 0.8111\n",
            "Epoch 26/100\n",
            "77/77 [==============================] - 0s 2ms/step - loss: 0.4002 - accuracy: 0.8078\n",
            "Epoch 27/100\n",
            "77/77 [==============================] - 0s 2ms/step - loss: 0.3993 - accuracy: 0.8111\n",
            "Epoch 28/100\n",
            "77/77 [==============================] - 0s 2ms/step - loss: 0.3958 - accuracy: 0.8094\n",
            "Epoch 29/100\n",
            "77/77 [==============================] - 0s 2ms/step - loss: 0.3944 - accuracy: 0.8127\n",
            "Epoch 30/100\n",
            "77/77 [==============================] - 0s 2ms/step - loss: 0.3933 - accuracy: 0.8143\n",
            "Epoch 31/100\n",
            "77/77 [==============================] - 0s 2ms/step - loss: 0.3918 - accuracy: 0.8160\n",
            "Epoch 32/100\n",
            "77/77 [==============================] - 0s 2ms/step - loss: 0.3893 - accuracy: 0.8094\n",
            "Epoch 33/100\n",
            "77/77 [==============================] - 0s 2ms/step - loss: 0.3872 - accuracy: 0.8094\n",
            "Epoch 34/100\n",
            "77/77 [==============================] - 0s 2ms/step - loss: 0.3871 - accuracy: 0.8111\n",
            "Epoch 35/100\n",
            "77/77 [==============================] - 0s 2ms/step - loss: 0.3829 - accuracy: 0.8078\n",
            "Epoch 36/100\n",
            "77/77 [==============================] - 0s 2ms/step - loss: 0.3830 - accuracy: 0.8176\n",
            "Epoch 37/100\n",
            "77/77 [==============================] - 0s 2ms/step - loss: 0.3817 - accuracy: 0.8127\n",
            "Epoch 38/100\n",
            "77/77 [==============================] - 0s 2ms/step - loss: 0.3808 - accuracy: 0.8062\n",
            "Epoch 39/100\n",
            "77/77 [==============================] - 0s 2ms/step - loss: 0.3789 - accuracy: 0.8176\n",
            "Epoch 40/100\n",
            "77/77 [==============================] - 0s 2ms/step - loss: 0.3774 - accuracy: 0.8176\n",
            "Epoch 41/100\n",
            "77/77 [==============================] - 0s 2ms/step - loss: 0.3771 - accuracy: 0.8208\n",
            "Epoch 42/100\n",
            "77/77 [==============================] - 0s 2ms/step - loss: 0.3740 - accuracy: 0.8225\n",
            "Epoch 43/100\n",
            "77/77 [==============================] - 0s 2ms/step - loss: 0.3697 - accuracy: 0.8241\n",
            "Epoch 44/100\n",
            "77/77 [==============================] - 0s 2ms/step - loss: 0.3703 - accuracy: 0.8257\n",
            "Epoch 45/100\n",
            "77/77 [==============================] - 0s 2ms/step - loss: 0.3694 - accuracy: 0.8225\n",
            "Epoch 46/100\n",
            "77/77 [==============================] - 0s 2ms/step - loss: 0.3685 - accuracy: 0.8225\n",
            "Epoch 47/100\n",
            "77/77 [==============================] - 0s 2ms/step - loss: 0.3676 - accuracy: 0.8225\n",
            "Epoch 48/100\n",
            "77/77 [==============================] - 0s 2ms/step - loss: 0.3648 - accuracy: 0.8274\n",
            "Epoch 49/100\n",
            "77/77 [==============================] - 0s 2ms/step - loss: 0.3663 - accuracy: 0.8225\n",
            "Epoch 50/100\n",
            "77/77 [==============================] - 0s 2ms/step - loss: 0.3634 - accuracy: 0.8322\n",
            "Epoch 51/100\n",
            "77/77 [==============================] - 0s 2ms/step - loss: 0.3627 - accuracy: 0.8274\n",
            "Epoch 52/100\n",
            "77/77 [==============================] - 0s 2ms/step - loss: 0.3615 - accuracy: 0.8290\n",
            "Epoch 53/100\n",
            "77/77 [==============================] - 0s 2ms/step - loss: 0.3630 - accuracy: 0.8274\n",
            "Epoch 54/100\n",
            "77/77 [==============================] - 0s 2ms/step - loss: 0.3593 - accuracy: 0.8371\n",
            "Epoch 55/100\n",
            "77/77 [==============================] - 0s 2ms/step - loss: 0.3591 - accuracy: 0.8257\n",
            "Epoch 56/100\n",
            "77/77 [==============================] - 0s 2ms/step - loss: 0.3547 - accuracy: 0.8355\n",
            "Epoch 57/100\n",
            "77/77 [==============================] - 0s 2ms/step - loss: 0.3554 - accuracy: 0.8339\n",
            "Epoch 58/100\n",
            "77/77 [==============================] - 0s 2ms/step - loss: 0.3544 - accuracy: 0.8388\n",
            "Epoch 59/100\n",
            "77/77 [==============================] - 0s 2ms/step - loss: 0.3520 - accuracy: 0.8322\n",
            "Epoch 60/100\n",
            "77/77 [==============================] - 0s 2ms/step - loss: 0.3524 - accuracy: 0.8388\n",
            "Epoch 61/100\n",
            "77/77 [==============================] - 0s 2ms/step - loss: 0.3511 - accuracy: 0.8355\n",
            "Epoch 62/100\n",
            "77/77 [==============================] - 0s 2ms/step - loss: 0.3516 - accuracy: 0.8306\n",
            "Epoch 63/100\n",
            "77/77 [==============================] - 0s 2ms/step - loss: 0.3524 - accuracy: 0.8225\n",
            "Epoch 64/100\n",
            "77/77 [==============================] - 0s 2ms/step - loss: 0.3512 - accuracy: 0.8306\n",
            "Epoch 65/100\n",
            "77/77 [==============================] - 0s 2ms/step - loss: 0.3494 - accuracy: 0.8388\n",
            "Epoch 66/100\n",
            "77/77 [==============================] - 0s 2ms/step - loss: 0.3457 - accuracy: 0.8371\n",
            "Epoch 67/100\n",
            "77/77 [==============================] - 0s 2ms/step - loss: 0.3472 - accuracy: 0.8290\n",
            "Epoch 68/100\n",
            "77/77 [==============================] - 0s 2ms/step - loss: 0.3446 - accuracy: 0.8388\n",
            "Epoch 69/100\n",
            "77/77 [==============================] - 0s 2ms/step - loss: 0.3449 - accuracy: 0.8306\n",
            "Epoch 70/100\n",
            "77/77 [==============================] - 0s 2ms/step - loss: 0.3447 - accuracy: 0.8518\n",
            "Epoch 71/100\n",
            "77/77 [==============================] - 0s 2ms/step - loss: 0.3440 - accuracy: 0.8388\n",
            "Epoch 72/100\n",
            "77/77 [==============================] - 0s 2ms/step - loss: 0.3437 - accuracy: 0.8388\n",
            "Epoch 73/100\n",
            "77/77 [==============================] - 0s 2ms/step - loss: 0.3441 - accuracy: 0.8355\n",
            "Epoch 74/100\n",
            "77/77 [==============================] - 0s 2ms/step - loss: 0.3404 - accuracy: 0.8322\n",
            "Epoch 75/100\n",
            "77/77 [==============================] - 0s 2ms/step - loss: 0.3402 - accuracy: 0.8371\n",
            "Epoch 76/100\n",
            "77/77 [==============================] - 0s 2ms/step - loss: 0.3386 - accuracy: 0.8469\n",
            "Epoch 77/100\n",
            "77/77 [==============================] - 0s 2ms/step - loss: 0.3398 - accuracy: 0.8322\n",
            "Epoch 78/100\n",
            "77/77 [==============================] - 0s 2ms/step - loss: 0.3362 - accuracy: 0.8485\n",
            "Epoch 79/100\n",
            "77/77 [==============================] - 0s 2ms/step - loss: 0.3349 - accuracy: 0.8404\n",
            "Epoch 80/100\n",
            "77/77 [==============================] - 0s 2ms/step - loss: 0.3347 - accuracy: 0.8420\n",
            "Epoch 81/100\n",
            "77/77 [==============================] - 0s 2ms/step - loss: 0.3358 - accuracy: 0.8371\n",
            "Epoch 82/100\n",
            "77/77 [==============================] - 0s 2ms/step - loss: 0.3371 - accuracy: 0.8420\n",
            "Epoch 83/100\n",
            "77/77 [==============================] - 0s 2ms/step - loss: 0.3351 - accuracy: 0.8388\n",
            "Epoch 84/100\n",
            "77/77 [==============================] - 0s 2ms/step - loss: 0.3336 - accuracy: 0.8388\n",
            "Epoch 85/100\n",
            "77/77 [==============================] - 0s 2ms/step - loss: 0.3288 - accuracy: 0.8485\n",
            "Epoch 86/100\n",
            "77/77 [==============================] - 0s 2ms/step - loss: 0.3301 - accuracy: 0.8453\n",
            "Epoch 87/100\n",
            "77/77 [==============================] - 0s 2ms/step - loss: 0.3297 - accuracy: 0.8518\n",
            "Epoch 88/100\n",
            "77/77 [==============================] - 0s 2ms/step - loss: 0.3302 - accuracy: 0.8518\n",
            "Epoch 89/100\n",
            "77/77 [==============================] - 0s 2ms/step - loss: 0.3282 - accuracy: 0.8485\n",
            "Epoch 90/100\n",
            "77/77 [==============================] - 0s 2ms/step - loss: 0.3281 - accuracy: 0.8518\n",
            "Epoch 91/100\n",
            "77/77 [==============================] - 0s 2ms/step - loss: 0.3275 - accuracy: 0.8534\n",
            "Epoch 92/100\n",
            "77/77 [==============================] - 0s 2ms/step - loss: 0.3261 - accuracy: 0.8550\n",
            "Epoch 93/100\n",
            "77/77 [==============================] - 0s 2ms/step - loss: 0.3243 - accuracy: 0.8388\n",
            "Epoch 94/100\n",
            "77/77 [==============================] - 0s 2ms/step - loss: 0.3237 - accuracy: 0.8599\n",
            "Epoch 95/100\n",
            "77/77 [==============================] - 0s 2ms/step - loss: 0.3229 - accuracy: 0.8355\n",
            "Epoch 96/100\n",
            "77/77 [==============================] - 0s 2ms/step - loss: 0.3211 - accuracy: 0.8583\n",
            "Epoch 97/100\n",
            "77/77 [==============================] - 0s 2ms/step - loss: 0.3220 - accuracy: 0.8436\n",
            "Epoch 98/100\n",
            "77/77 [==============================] - 0s 2ms/step - loss: 0.3210 - accuracy: 0.8599\n",
            "Epoch 99/100\n",
            "77/77 [==============================] - 0s 2ms/step - loss: 0.3225 - accuracy: 0.8485\n",
            "Epoch 100/100\n",
            "77/77 [==============================] - 0s 2ms/step - loss: 0.3232 - accuracy: 0.8453\n",
            "------------------------------ evaluate ------------------------------\n",
            "5/5 [==============================] - 0s 3ms/step - loss: 0.6730 - accuracy: 0.7273\n"
          ]
        }
      ]
    },
    {
      "cell_type": "markdown",
      "source": [
        "### | 과제 4. 생각해보기\n",
        "\n",
        "데이터가 불균형 할 때 딥러닝에서는 어떠한 방법을 써서 이를 해결 하나요? \n"
      ],
      "metadata": {
        "id": "s4VjzrycjTUK"
      }
    },
    {
      "cell_type": "code",
      "source": [
        "'''\n",
        "1. weight balancing\n",
        "특정 피쳐에 가중치를 높게 설정하여 불균형을 조절한다.\n",
        "예를 들어 2:8 비율의 피쳐 두개가 있다면, 2 비율인 피쳐에 6만큼의 가중치를 더 주어 균형을 맞추는 것이다.\n",
        "\n",
        "2. over sampling or under sampling\n",
        "over sampling은 불균형 데이터의 적은 샘플들을 반복 학습 시키는 것이다. 이는 가중치를 높이는 것과 비슷하다.\n",
        "under sampling은 샘플 수가 많은 피쳐의 샘플 중 일부만을 선택하고, 불균형 데이터에서는 최대한 많은 샘플을 사용하는 방법이다. 이 때 Undersampling 된 데이터가 원본 데이터와 비교해 대표성이 있어야한다.\n",
        "'''"
      ],
      "metadata": {
        "id": "tcMHkA5BjSho"
      },
      "execution_count": null,
      "outputs": []
    }
  ]
}