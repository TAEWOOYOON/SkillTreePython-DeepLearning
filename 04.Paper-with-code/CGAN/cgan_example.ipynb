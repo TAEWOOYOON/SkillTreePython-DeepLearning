{
  "nbformat": 4,
  "nbformat_minor": 0,
  "metadata": {
    "colab": {
      "name": "cgan-example.ipynb",
      "provenance": [],
      "collapsed_sections": [],
      "authorship_tag": "ABX9TyNDN8yllLfB8ojfV7Pufp0M",
      "include_colab_link": true
    },
    "kernelspec": {
      "name": "python3",
      "display_name": "Python 3"
    },
    "language_info": {
      "name": "python"
    },
    "accelerator": "GPU",
    "gpuClass": "standard"
  },
  "cells": [
    {
      "cell_type": "markdown",
      "metadata": {
        "id": "view-in-github",
        "colab_type": "text"
      },
      "source": [
        "<a href=\"https://colab.research.google.com/github/TAEWOOYOON/SkillTreePython-DeepLearning/blob/main/04.Paper-with-code/CGAN/cgan_example.ipynb\" target=\"_parent\"><img src=\"https://colab.research.google.com/assets/colab-badge.svg\" alt=\"Open In Colab\"/></a>"
      ]
    },
    {
      "cell_type": "markdown",
      "source": [
        "# CGAN"
      ],
      "metadata": {
        "id": "e3znJ3y_sUx9"
      }
    },
    {
      "cell_type": "markdown",
      "source": [
        "## 모델 생성"
      ],
      "metadata": {
        "id": "l7DA20I5ecWG"
      }
    },
    {
      "cell_type": "code",
      "execution_count": null,
      "metadata": {
        "id": "5HwUXGcgbjU6"
      },
      "outputs": [],
      "source": [
        "import tensorflow as tf\n",
        "from tensorflow.keras import models, layers, utils\n",
        "from tensorflow.keras import backend as K\n",
        "\n",
        "class BuildModel():\n",
        "  def __init__(self, img_shape, z_dim, label_dim):\n",
        "    self.img_shape = img_shape\n",
        "    self.z_dim = z_dim\n",
        "    self.label_dim = label_dim\n",
        "\n",
        "  def build_generator(self, \n",
        "                 activation = 'selu',\n",
        "                 last_activation='sigmoid',\n",
        "                 kernel_size=5):\n",
        "\n",
        "    h, w, ch = self.img_shape\n",
        "    \n",
        "    z = layers.Input(shape=[self.z_dim,], name='noise')\n",
        "    c = layers.Input(shape=[self.label_dim,], name='condition')\n",
        "    y = layers.concatenate([z, c])\n",
        "\n",
        "    y = layers.Dense(int(w/4)*int(h/4)*128)(y)\n",
        "    y = layers.Reshape( [int(w/4),int(h/4),128] )(y)\n",
        "    y = layers.BatchNormalization()(y)\n",
        "    y = layers.Conv2DTranspose(64, kernel_size=5, padding='same', strides=2, activation=activation)(y)\n",
        "    y = layers.BatchNormalization()(y)\n",
        "    y = layers.Conv2DTranspose(ch, kernel_size=5, padding='same', strides=2, activation=last_activation)(y)\n",
        "    \n",
        "    return models.Model([z, c], y, name='Generator')\n",
        "\n",
        "  def build_discriminator(self,\n",
        "                 activation='relu',\n",
        "                 last_activation='sigmoid',\n",
        "                 kernel_size=5):\n",
        "\n",
        "    h, w, ch = self.img_shape\n",
        "    def _expand_label_input(x):\n",
        "      y = K.expand_dims(x, axis=1)\n",
        "      y = K.expand_dims(y, axis=1)\n",
        "      y = K.tile(y, [1, h, w, 1])\n",
        "      return y\n",
        "\n",
        "    x = layers.Input(shape=self.img_shape, name='image')\n",
        "    c = layers.Input(shape= self.label_dim, name='condition')\n",
        "    c = layers.Lambda(_expand_label_input)(c)\n",
        "    \n",
        "    y = layers.concatenate([x, c], axis=3)\n",
        "    y = layers.Conv2D(64, kernel_size=kernel_size, strides=2, padding='same', activation=activation)(y)\n",
        "    y = layers.Dropout(.5)(y)\n",
        "    y = layers.Conv2D(128, kernel_size=kernel_size, strides=2, padding='same', activation=activation)(y)\n",
        "    y = layers.Dropout(.5)(y)\n",
        "    y = layers.Flatten()(y)\n",
        "\n",
        "    y = layers.Dense(1, activation=last_activation)(y)\n",
        "    return models.Model([x,c], y, name='Discriminator')"
      ]
    },
    {
      "cell_type": "markdown",
      "source": [
        "## 데이터 로더"
      ],
      "metadata": {
        "id": "MtP6_Fj-k05i"
      }
    },
    {
      "cell_type": "code",
      "source": [
        "import tensorflow as tf\n",
        "import numpy as np\n",
        "\n",
        "def mnist_loader(standard=False):\n",
        "  (x_train, y_train), (x_test, y_test) = tf.keras.datasets.mnist.load_data()\n",
        "  x_train = np.expand_dims(x_train, 3)\n",
        "  \n",
        "  x_train = x_train / 255. # 0~1\n",
        "  x_test = x_test / 255. # 0~1\n",
        "  if standard:\n",
        "    x_train = (x_train*2)-1\n",
        "    x_test = (x_test*2)-1\n",
        "\n",
        "  return x_train, y_train, x_test, y_test\n",
        "\n",
        "def fmnist_loader(standard=False):\n",
        "  (x_train, y_train), (x_test, y_test) = tf.keras.datasets.fashion_mnist.load_data()\n",
        "  x_train = np.expand_dims(x_train, 3)\n",
        "\n",
        "  x_train = x_train / 255.\n",
        "  x_test = x_test / 255.\n",
        "  if standard:\n",
        "    x_train = (x_train*2)-1\n",
        "    x_test = (x_test*2)-1\n",
        "\n",
        "  return x_train, y_train, x_test, y_test\n",
        "\n",
        "def cifar10_loader(standard=False):\n",
        "  (x_train, y_train), (x_test, y_test) = tf.keras.datasets.cifar10.load_data()\n",
        "\n",
        "  x_train = x_train / 255.\n",
        "  x_test = x_test / 255.\n",
        "  if standard:\n",
        "    x_train = (x_train*2)-1\n",
        "    x_test = (x_test*2)-1\n",
        "\n",
        "  return x_train, y_train, x_test, y_test"
      ],
      "metadata": {
        "id": "wBQ-M6oXdAPZ"
      },
      "execution_count": null,
      "outputs": []
    },
    {
      "cell_type": "markdown",
      "source": [
        "## 데이터 시각화"
      ],
      "metadata": {
        "id": "h2V3EOfN6f0h"
      }
    },
    {
      "cell_type": "code",
      "source": [
        "import matplotlib.pyplot as plt\n",
        "import numpy as np\n",
        "\n",
        "def display_sample_img(samples, grid, standard=False, size=1):\n",
        "  h, w = grid\n",
        "  n = np.cumprod(grid)[-1]\n",
        "  plt.figure(figsize=(w*size,h*size))\n",
        "  for i, sample in enumerate(samples[:n]):\n",
        "    if i==n: break\n",
        "    if standard:\n",
        "      sample = ( sample  + 1. ) / 2.\n",
        "    sample = np.clip(sample, 0, 1)\n",
        "    plt.subplot(h,w,i+1)\n",
        "    if sample.shape[-1]==1: plt.imshow(sample[:,:,0], cmap='gray_r')\n",
        "    else: plt.imshow(sample)\n",
        "    plt.xticks([]);plt.yticks([])\n",
        "  plt.show()"
      ],
      "metadata": {
        "id": "1h2oqtig6mbB"
      },
      "execution_count": null,
      "outputs": []
    },
    {
      "cell_type": "code",
      "source": [
        "x_train,_,_,_ = mnist_loader()\n",
        "display_sample_img(x_train[:10], (10,10))"
      ],
      "metadata": {
        "colab": {
          "base_uri": "https://localhost:8080/",
          "height": 135
        },
        "id": "gKq1VLoCgKlF",
        "outputId": "9eed700d-1e20-4383-89c9-a41d80b8cee0"
      },
      "execution_count": null,
      "outputs": [
        {
          "output_type": "stream",
          "name": "stdout",
          "text": [
            "Downloading data from https://storage.googleapis.com/tensorflow/tf-keras-datasets/mnist.npz\n",
            "11493376/11490434 [==============================] - 0s 0us/step\n",
            "11501568/11490434 [==============================] - 0s 0us/step\n"
          ]
        },
        {
          "output_type": "display_data",
          "data": {
            "text/plain": [
              "<Figure size 720x720 with 10 Axes>"
            ],
            "image/png": "[encoded data removed]"
          },
          "metadata": {}
        }
      ]
    },
    {
      "cell_type": "markdown",
      "source": [
        "## CGAN"
      ],
      "metadata": {
        "id": "gHNW1rRoo42I"
      }
    },
    {
      "cell_type": "code",
      "source": [
        "import tensorflow as tf\n",
        "from tensorflow.keras import models, layers, utils\n",
        "from utils import display_sample_img\n",
        "\n",
        "class CGAN():\n",
        "  def __init__(self, gene, disc, img_shape, noise_dims):\n",
        "    self.name = 'GAN'\n",
        "    self.gene = gene\n",
        "    self.disc = disc\n",
        "    self.img_shape = img_shape\n",
        "    self.noise_dims = noise_dims\n",
        "\n",
        "  def compile(self, \n",
        "              loss = 'binary_crossentropy',\n",
        "              optimizer = 'adam'):\n",
        "    \n",
        "    self.disc.compile(loss = loss, optimizer = optimizer)\n",
        "    self.disc.trainable = False\n",
        "    \n",
        "    input_noise = layers.Input(shape=self.noise_dims)\n",
        "    fake_img = self.gene(input_noise)\n",
        "    logit = self.disc(fake_img)\n",
        "\n",
        "    self.gan = models.Model(input_noise, logit, name=self.name)\n",
        "    self.gan.compile(loss = loss, optimizer = optimizer)\n",
        "\n",
        "  def _make_datasets(self, x_data):\n",
        "      dataset = tf.data.Dataset.from_tensor_slices(x_data).shuffle(1)\n",
        "      dataset = dataset.batch(self.batch_size, drop_remainder=True).prefetch(1)\n",
        "      return dataset\n",
        "\n",
        "  def _make_constants(self):\n",
        "      zeros = tf.constant([0.], shape=[self.batch_size, 1])\n",
        "      ones = tf.constant([1.], shape=[self.batch_size, 1] )\n",
        "      return zeros, ones\n",
        "  \n",
        "  def _make_random(self):\n",
        "      return tf.random.normal(shape=[self.batch_size, self.noise_dims])\n",
        "\n",
        "  def fit(self, \n",
        "          x_data, \n",
        "          epochs=1,\n",
        "          batch_size=32,\n",
        "          standard=False\n",
        "          ):\n",
        "    \n",
        "    # setting\n",
        "    self.batch_size = batch_size\n",
        "    train_ds = self._make_datasets(x_data)\n",
        "    zeros, ones = self._make_constants()\n",
        "    \n",
        "    # train\n",
        "    history = {'d_loss':[], 'g_loss':[]}\n",
        "    for epoch in range(1, 1+epochs):\n",
        "      if epoch>1: \n",
        "        for h in history: history[h].append(0)\n",
        "\n",
        "        for real_imgs in train_ds:           \n",
        "            # phase 1 - training the discriminator\n",
        "            fake_imgs = self.gene.predict_on_batch(self._make_random())\n",
        "            \n",
        "            self.disc.trainable = True\n",
        "            d_loss_real = self.disc.train_on_batch(real_imgs, ones)\n",
        "            d_loss_fake = self.disc.train_on_batch(fake_imgs, zeros)\n",
        "            d_loss = (0.5*d_loss_real) + (0.5*d_loss_fake)\n",
        "            \n",
        "            # phase 2 - training the generator\n",
        "            self.disc.trainable = False\n",
        "            g_loss = self.gan.train_on_batch(self._make_random() , ones)\n",
        "            \n",
        "            history['d_loss'][-1]+=d_loss\n",
        "            history['g_loss'][-1]+=g_loss\n",
        "        \n",
        "        # end 1 epoch        \n",
        "        print('* epoch: %i, d_loss: %f, g_loss: %f'%( epoch\n",
        "                                                    , history['d_loss'][-1]\n",
        "                                                    , history['g_loss'][-1]))\n",
        "        \n",
        "      fake_imgs = self.gene.predict(self._make_random())\n",
        "      display_sample_img(fake_imgs, (2,8), standard=standard, size=2)"
      ],
      "metadata": {
        "id": "kwiFDWYOie1L"
      },
      "execution_count": null,
      "outputs": []
    },
    {
      "cell_type": "code",
      "source": [
        "x_train.shape"
      ],
      "metadata": {
        "colab": {
          "base_uri": "https://localhost:8080/"
        },
        "id": "J9WY1VAz8rMj",
        "outputId": "84b1995d-b22b-4daa-edd9-24e84ef0fe52"
      },
      "execution_count": null,
      "outputs": [
        {
          "output_type": "execute_result",
          "data": {
            "text/plain": [
              "(60000, 28, 28, 1)"
            ]
          },
          "metadata": {},
          "execution_count": 36
        }
      ]
    },
    {
      "cell_type": "code",
      "source": [
        "from gan import GAN\n",
        "\n",
        "img_shape = (28,28,1)\n",
        "Z_DIM = 128\n",
        "builder = BuildModel(img_shape, Z_DIM, label_dim)\n",
        "gene = builder.build_generator()\n",
        "disc = builder.build_discriminator()\n",
        "\n",
        "gene.summary()\n",
        "disc.summary()"
      ],
      "metadata": {
        "colab": {
          "base_uri": "https://localhost:8080/"
        },
        "id": "w4iJUtuvkdJX",
        "outputId": "45a50595-6b9f-4aae-9136-66c98648e72a"
      },
      "execution_count": null,
      "outputs": [
        {
          "output_type": "stream",
          "name": "stdout",
          "text": [
            "Model: \"Generator\"\n",
            "__________________________________________________________________________________________________\n",
            " Layer (type)                   Output Shape         Param #     Connected to                     \n",
            "==================================================================================================\n",
            " noise (InputLayer)             [(None, 128)]        0           []                               \n",
            "                                                                                                  \n",
            " condition (InputLayer)         [(None, 10)]         0           []                               \n",
            "                                                                                                  \n",
            " concatenate_14 (Concatenate)   (None, 138)          0           ['noise[0][0]',                  \n",
            "                                                                  'condition[0][0]']              \n",
            "                                                                                                  \n",
            " dense_14 (Dense)               (None, 6272)         871808      ['concatenate_14[0][0]']         \n",
            "                                                                                                  \n",
            " reshape_7 (Reshape)            (None, 7, 7, 128)    0           ['dense_14[0][0]']               \n",
            "                                                                                                  \n",
            " batch_normalization_14 (BatchN  (None, 7, 7, 128)   512         ['reshape_7[0][0]']              \n",
            " ormalization)                                                                                    \n",
            "                                                                                                  \n",
            " conv2d_transpose_14 (Conv2DTra  (None, 14, 14, 64)  204864      ['batch_normalization_14[0][0]'] \n",
            " nspose)                                                                                          \n",
            "                                                                                                  \n",
            " batch_normalization_15 (BatchN  (None, 14, 14, 64)  256         ['conv2d_transpose_14[0][0]']    \n",
            " ormalization)                                                                                    \n",
            "                                                                                                  \n",
            " conv2d_transpose_15 (Conv2DTra  (None, 28, 28, 1)   1601        ['batch_normalization_15[0][0]'] \n",
            " nspose)                                                                                          \n",
            "                                                                                                  \n",
            "==================================================================================================\n",
            "Total params: 1,079,041\n",
            "Trainable params: 1,078,657\n",
            "Non-trainable params: 384\n",
            "__________________________________________________________________________________________________\n",
            "Model: \"Discriminator\"\n",
            "__________________________________________________________________________________________________\n",
            " Layer (type)                   Output Shape         Param #     Connected to                     \n",
            "==================================================================================================\n",
            " image (InputLayer)             [(None, 28, 28, 1)]  0           []                               \n",
            "                                                                                                  \n",
            " input_14 (InputLayer)          [(None, 28, 28, 10)  0           []                               \n",
            "                                ]                                                                 \n",
            "                                                                                                  \n",
            " concatenate_15 (Concatenate)   (None, 28, 28, 11)   0           ['image[0][0]',                  \n",
            "                                                                  'input_14[0][0]']               \n",
            "                                                                                                  \n",
            " conv2d_14 (Conv2D)             (None, 14, 14, 64)   17664       ['concatenate_15[1][0]']         \n",
            "                                                                                                  \n",
            " dropout_14 (Dropout)           (None, 14, 14, 64)   0           ['conv2d_14[1][0]']              \n",
            "                                                                                                  \n",
            " conv2d_15 (Conv2D)             (None, 7, 7, 128)    204928      ['dropout_14[1][0]']             \n",
            "                                                                                                  \n",
            " dropout_15 (Dropout)           (None, 7, 7, 128)    0           ['conv2d_15[1][0]']              \n",
            "                                                                                                  \n",
            " flatten_7 (Flatten)            (None, 6272)         0           ['dropout_15[1][0]']             \n",
            "                                                                                                  \n",
            " dense_15 (Dense)               (None, 1)            6273        ['flatten_7[1][0]']              \n",
            "                                                                                                  \n",
            "==================================================================================================\n",
            "Total params: 228,865\n",
            "Trainable params: 228,865\n",
            "Non-trainable params: 0\n",
            "__________________________________________________________________________________________________\n"
          ]
        }
      ]
    }
  ]
}